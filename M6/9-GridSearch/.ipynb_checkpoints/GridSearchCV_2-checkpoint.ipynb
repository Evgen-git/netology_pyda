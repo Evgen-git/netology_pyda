{
 "cells": [
  {
   "cell_type": "code",
   "execution_count": 16,
   "metadata": {},
   "outputs": [
    {
     "name": "stdout",
     "output_type": "stream",
     "text": [
      "(506, 13)\n"
     ]
    }
   ],
   "source": [
    "from sklearn.datasets import load_boston\n",
    "X, y = load_boston(return_X_y=True)\n",
    "#ds = load_boston()\n",
    "print(X.shape)\n"
   ]
  },
  {
   "cell_type": "code",
   "execution_count": 37,
   "metadata": {},
   "outputs": [],
   "source": [
    "from sklearn.neighbors import KNeighborsRegressor\n",
    "from sklearn.svm import SVR\n",
    "from sklearn.tree import DecisionTreeRegressor\n",
    "\n",
    "from sklearn.model_selection import GridSearchCV\n",
    "\n",
    "from sklearn.metrics import mean_squared_error,r2_score,make_scorer\n"
   ]
  },
  {
   "cell_type": "markdown",
   "metadata": {},
   "source": [
    "## 1) KNeighborsRegressor"
   ]
  },
  {
   "cell_type": "code",
   "execution_count": 38,
   "metadata": {},
   "outputs": [],
   "source": [
    "knn_param = {\n",
    "            'n_neighbors': [1,2,3,5,7,10,15],\n",
    "            'p':[1,2]\n",
    "}\n",
    "scorer1 = make_scorer(r2_score)\n",
    "scorer2 = make_scorer(mean_squared_error)"
   ]
  },
  {
   "cell_type": "code",
   "execution_count": 45,
   "metadata": {},
   "outputs": [
    {
     "data": {
      "text/plain": [
       "GridSearchCV(cv=10, estimator=KNeighborsRegressor(n_jobs=3),\n",
       "             param_grid={'n_neighbors': [1, 2, 3, 5, 7, 10, 15], 'p': [1, 2]},\n",
       "             scoring=make_scorer(mean_squared_error))"
      ]
     },
     "execution_count": 45,
     "metadata": {},
     "output_type": "execute_result"
    }
   ],
   "source": [
    "knn = KNeighborsRegressor(n_jobs=3)\n",
    "grid_knn = GridSearchCV(knn, knn_param, scoring=scorer2, cv=10)\n",
    "grid_knn.fit(X, y)"
   ]
  },
  {
   "cell_type": "code",
   "execution_count": 46,
   "metadata": {},
   "outputs": [
    {
     "name": "stdout",
     "output_type": "stream",
     "text": [
      "{'n_neighbors': 5, 'p': 2}\n",
      "107.28683898039215\n",
      "KNeighborsRegressor(n_jobs=3)\n"
     ]
    }
   ],
   "source": [
    "print(grid_knn.best_params_ )\n",
    "print(grid_knn.best_score_ )\n",
    "print(grid_knn.best_estimator_ )"
   ]
  },
  {
   "cell_type": "markdown",
   "metadata": {},
   "source": [
    "## 2) SVR"
   ]
  },
  {
   "cell_type": "code",
   "execution_count": 39,
   "metadata": {},
   "outputs": [],
   "source": [
    "svr_param = {\n",
    "            'C': [0.1,0.5,1.0,1.5,2.0],\n",
    "            'epsilon':[0.1,0.2,0.5,1.0]\n",
    "}\n",
    "scorer1 = make_scorer(r2_score)\n",
    "scorer2 = make_scorer(mean_squared_error)"
   ]
  },
  {
   "cell_type": "code",
   "execution_count": 43,
   "metadata": {},
   "outputs": [
    {
     "data": {
      "text/plain": [
       "GridSearchCV(cv=10, estimator=SVR(),\n",
       "             param_grid={'C': [0.1, 0.5, 1.0, 1.5, 2.0],\n",
       "                         'epsilon': [0.1, 0.2, 0.5, 1.0]},\n",
       "             scoring=make_scorer(mean_squared_error))"
      ]
     },
     "execution_count": 43,
     "metadata": {},
     "output_type": "execute_result"
    }
   ],
   "source": [
    "e_svr = SVR()\n",
    "grid_svr = GridSearchCV(e_svr, svr_param, scoring=scorer2, cv=10)\n",
    "grid_svr.fit(X, y)"
   ]
  },
  {
   "cell_type": "code",
   "execution_count": 44,
   "metadata": {},
   "outputs": [
    {
     "name": "stdout",
     "output_type": "stream",
     "text": [
      "{'C': 0.1, 'epsilon': 0.2}\n",
      "80.12052712554649\n",
      "SVR(C=0.1, epsilon=0.2)\n"
     ]
    }
   ],
   "source": [
    "print(grid_svr.best_params_ )\n",
    "print(grid_svr.best_score_ )\n",
    "print(grid_svr.best_estimator_ )"
   ]
  },
  {
   "cell_type": "markdown",
   "metadata": {},
   "source": [
    "## 3) DecisionTreeRegressor"
   ]
  },
  {
   "cell_type": "code",
   "execution_count": 40,
   "metadata": {},
   "outputs": [],
   "source": [
    "dtr_param = {\n",
    "            'max_depth': [1,2,5,10],\n",
    "            'min_samples_leaf':[1,2,3]\n",
    "}\n",
    "scorer1 = make_scorer(r2_score)\n",
    "scorer2 = make_scorer(mean_squared_error)"
   ]
  },
  {
   "cell_type": "code",
   "execution_count": 41,
   "metadata": {},
   "outputs": [
    {
     "data": {
      "text/plain": [
       "GridSearchCV(cv=10, estimator=DecisionTreeRegressor(),\n",
       "             param_grid={'max_depth': [1, 2, 5, 10],\n",
       "                         'min_samples_leaf': [1, 2, 3]},\n",
       "             scoring=make_scorer(mean_squared_error))"
      ]
     },
     "execution_count": 41,
     "metadata": {},
     "output_type": "execute_result"
    }
   ],
   "source": [
    "e_dtr = DecisionTreeRegressor()\n",
    "grid_dtr = GridSearchCV(e_dtr, dtr_param, scoring=scorer2, cv=10)\n",
    "grid_dtr.fit(X, y)"
   ]
  },
  {
   "cell_type": "code",
   "execution_count": 42,
   "metadata": {},
   "outputs": [
    {
     "name": "stdout",
     "output_type": "stream",
     "text": [
      "{'max_depth': 1, 'min_samples_leaf': 1}\n",
      "70.53668829126106\n",
      "DecisionTreeRegressor(max_depth=1)\n"
     ]
    }
   ],
   "source": [
    "print(grid_dtr.best_params_ )\n",
    "print(grid_dtr.best_score_ )\n",
    "print(grid_dtr.best_estimator_ )"
   ]
  },
  {
   "cell_type": "code",
   "execution_count": null,
   "metadata": {},
   "outputs": [],
   "source": []
  }
 ],
 "metadata": {
  "kernelspec": {
   "display_name": "Python 3",
   "language": "python",
   "name": "python3"
  },
  "language_info": {
   "codemirror_mode": {
    "name": "ipython",
    "version": 3
   },
   "file_extension": ".py",
   "mimetype": "text/x-python",
   "name": "python",
   "nbconvert_exporter": "python",
   "pygments_lexer": "ipython3",
   "version": "3.8.3"
  }
 },
 "nbformat": 4,
 "nbformat_minor": 4
}
