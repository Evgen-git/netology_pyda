{
 "cells": [
  {
   "cell_type": "code",
   "execution_count": 1,
   "metadata": {},
   "outputs": [],
   "source": [
    "import pandas as pd\n",
    "import numpy as np\n",
    "from datetime import datetime\n",
    "\n",
    "from sklearn.model_selection import train_test_split\n",
    "from sklearn.metrics import mean_squared_error,make_scorer\n",
    "\n",
    "\n",
    "from tqdm.notebook import tqdm\n",
    "from tqdm.notebook import tqdm\n",
    "from sklearn.feature_extraction.text import TfidfTransformer, CountVectorizer\n",
    "from scipy.sparse import csr_matrix\n",
    "\n",
    "from sklearn.neighbors import KNeighborsRegressor\n",
    "from sklearn.svm import SVR\n",
    "from sklearn.tree import DecisionTreeRegressor\n",
    "\n",
    "from sklearn.model_selection import GridSearchCV\n",
    "\n",
    "\n",
    "\n",
    "\n",
    "import matplotlib.pyplot as plt\n",
    "%matplotlib inline"
   ]
  },
  {
   "cell_type": "code",
   "execution_count": 2,
   "metadata": {},
   "outputs": [],
   "source": [
    "movies = pd.read_csv('../Data/movies.csv')\n",
    "tags = pd.read_csv('../Data/tags.csv')\n",
    "ratings = pd.read_csv('../Data/ratings.csv')\n",
    "# делаем выборку для обучения и теста\n",
    "all_data = ratings[['userId','movieId','rating']]\n"
   ]
  },
  {
   "cell_type": "code",
   "execution_count": 3,
   "metadata": {},
   "outputs": [
    {
     "name": "stdout",
     "output_type": "stream",
     "text": [
      "   movieId                               title  \\\n",
      "0        1                    Toy Story (1995)   \n",
      "1        2                      Jumanji (1995)   \n",
      "2        3             Grumpier Old Men (1995)   \n",
      "3        4            Waiting to Exhale (1995)   \n",
      "4        5  Father of the Bride Part II (1995)   \n",
      "\n",
      "                                        genres  \n",
      "0  Adventure|Animation|Children|Comedy|Fantasy  \n",
      "1                   Adventure|Children|Fantasy  \n",
      "2                               Comedy|Romance  \n",
      "3                         Comedy|Drama|Romance  \n",
      "4                                       Comedy  \n",
      "   userId  movieId              tag   timestamp\n",
      "0       2    60756            funny  1445714994\n",
      "1       2    60756  Highly quotable  1445714996\n",
      "2       2    60756     will ferrell  1445714992\n",
      "3       2    89774     Boxing story  1445715207\n",
      "4       2    89774              MMA  1445715200\n",
      "   userId  movieId  rating  timestamp\n",
      "0       1        1     4.0  964982703\n",
      "1       1        3     4.0  964981247\n",
      "2       1        6     4.0  964982224\n",
      "3       1       47     5.0  964983815\n",
      "4       1       50     5.0  964982931\n"
     ]
    }
   ],
   "source": [
    "print(movies.head(5))\n",
    "print(tags.head(5))\n",
    "print(ratings.head(5))"
   ]
  },
  {
   "cell_type": "code",
   "execution_count": 4,
   "metadata": {},
   "outputs": [],
   "source": [
    "movies['year'] = movies.title.str.extract(\"\\((\\d{4})\\)\", expand=True)\n",
    "movies.year = pd.to_datetime(movies.year, format='%Y')\n",
    "movies.year = movies.year.dt.year # As there are some NaN years, resulting type will be float (decimals)\n",
    "movies.year.fillna(0, inplace=True)"
   ]
  },
  {
   "cell_type": "code",
   "execution_count": 5,
   "metadata": {},
   "outputs": [],
   "source": [
    "def change_string(s):\n",
    "    return ' '.join(s.replace(' ', '').replace('-', '').split('|'))\n",
    "movie_genres = [change_string(g) for g in movies.genres.values]"
   ]
  },
  {
   "cell_type": "code",
   "execution_count": 6,
   "metadata": {},
   "outputs": [],
   "source": [
    "count_vect = CountVectorizer()\n",
    "X_train_counts = count_vect.fit_transform(movie_genres)\n",
    "tfidf_transformer = TfidfTransformer()\n",
    "X_train_tfidf = tfidf_transformer.fit_transform(X_train_counts)\n",
    "# Упорядоченный список названий жанров\n",
    "list_col = sorted(count_vect.vocabulary_, key=count_vect.vocabulary_.get)\n"
   ]
  },
  {
   "cell_type": "code",
   "execution_count": 7,
   "metadata": {},
   "outputs": [],
   "source": [
    "# средний рейтинг для фильмов \n",
    "movies_s1 = pd.concat([movies[['movieId','year']], \n",
    "                     pd.DataFrame(X_train_tfidf.toarray(),columns=list_col)], \n",
    "                     axis=1).set_index('movieId')\n",
    "\n",
    "movies_s1 = movies_s1.join(ratings[['movieId', 'rating']].groupby('movieId').mean())\n",
    "movies_s1.rename(columns={\"rating\": \"mean_rating_movie\"},inplace=True)\n",
    "\n",
    "# средний рейтинг для жанров\n",
    "for col in list_col:\n",
    "    movies_s1['mean_rate_'+col]=0\n",
    "    rt = movies_s1[movies_s1[col] != 0]['mean_rating_movie'].mean()\n",
    "    movies_s1.loc[movies_s1[movies_s1[col] != 0][['mean_rate_'+col]].index,'mean_rate_'+col]=rt\n",
    "\n",
    "users_s1 = ratings[['userId', 'rating']].groupby('userId').mean()\n",
    "users_s1.rename(columns={\"rating\": \"mean_rating_user\"},inplace=True)    \n"
   ]
  },
  {
   "cell_type": "code",
   "execution_count": 8,
   "metadata": {},
   "outputs": [
    {
     "name": "stdout",
     "output_type": "stream",
     "text": [
      "all_data=(100836, 3); X_train=(80668, 2), X_test=(20168, 2), Y_train=(80668, 1), Y_test=(20168, 1)\n"
     ]
    }
   ],
   "source": [
    "X_train, X_test, Y_train, Y_test = train_test_split(all_data[['userId','movieId']], \n",
    "                                                    all_data[['rating']], test_size=0.2)\n",
    "print('all_data={}; X_train={}, X_test={}, Y_train={}, Y_test={}'.format(all_data.shape, X_train.shape, X_test.shape, Y_train.shape, Y_test.shape))\n"
   ]
  },
  {
   "cell_type": "code",
   "execution_count": 9,
   "metadata": {},
   "outputs": [
    {
     "name": "stdout",
     "output_type": "stream",
     "text": [
      "       rating\n",
      "93441     2.0\n",
      "18607     4.0\n",
      "67444     3.0\n",
      "21988     4.0\n",
      "63056     1.0\n",
      "...       ...\n",
      "67505     5.0\n",
      "59113     5.0\n",
      "84122     1.0\n",
      "78088     4.0\n",
      "43085     2.5\n",
      "\n",
      "[80668 rows x 1 columns]\n"
     ]
    }
   ],
   "source": [
    "#print(X_train) \n",
    "print(Y_train)"
   ]
  },
  {
   "cell_type": "code",
   "execution_count": 10,
   "metadata": {},
   "outputs": [
    {
     "name": "stdout",
     "output_type": "stream",
     "text": [
      "(80668, 43)\n",
      "(20168, 43)\n"
     ]
    }
   ],
   "source": [
    "XX_train = X_train.join(users_s1,on='userId').join(movies_s1,on='movieId')\n",
    "XX_train.drop(['userId', 'movieId'], axis=1, inplace=True)\n",
    "print(XX_train.shape)\n",
    "\n",
    "XX_test = X_test.join(users_s1,on='userId').join(movies_s1,on='movieId')\n",
    "XX_test.drop(['userId', 'movieId'], axis=1, inplace=True)\n",
    "print(XX_test.shape)\n"
   ]
  },
  {
   "cell_type": "markdown",
   "metadata": {},
   "source": [
    "## 1) KNeighborsRegressor"
   ]
  },
  {
   "cell_type": "code",
   "execution_count": 11,
   "metadata": {},
   "outputs": [],
   "source": [
    "knn_param = {\n",
    "            'n_neighbors': [1,2,3,5,7,10,15],\n",
    "            'p':[1,2]\n",
    "}\n",
    "scorer1 = make_scorer(mean_squared_error)"
   ]
  },
  {
   "cell_type": "code",
   "execution_count": 12,
   "metadata": {},
   "outputs": [
    {
     "data": {
      "text/plain": [
       "GridSearchCV(cv=10, estimator=KNeighborsRegressor(n_jobs=3),\n",
       "             param_grid={'n_neighbors': [1, 2, 3, 5, 7, 10, 15], 'p': [1, 2]},\n",
       "             scoring=make_scorer(mean_squared_error))"
      ]
     },
     "execution_count": 12,
     "metadata": {},
     "output_type": "execute_result"
    }
   ],
   "source": [
    "knn = KNeighborsRegressor(n_jobs=3)\n",
    "grid_knn = GridSearchCV(knn, knn_param, scoring=scorer1, cv=10)\n",
    "grid_knn.fit(XX_train, Y_train)"
   ]
  },
  {
   "cell_type": "code",
   "execution_count": 13,
   "metadata": {},
   "outputs": [
    {
     "name": "stdout",
     "output_type": "stream",
     "text": [
      "{'n_neighbors': 1, 'p': 1}\n",
      "1.3833212237727235\n",
      "KNeighborsRegressor(n_jobs=3, n_neighbors=1, p=1)\n"
     ]
    }
   ],
   "source": [
    "print(grid_knn.best_params_ )\n",
    "print(grid_knn.best_score_ )\n",
    "print(grid_knn.best_estimator_ )"
   ]
  },
  {
   "cell_type": "code",
   "execution_count": 14,
   "metadata": {},
   "outputs": [
    {
     "name": "stdout",
     "output_type": "stream",
     "text": [
      "1.394957358191194\n"
     ]
    }
   ],
   "source": [
    "gs1 = KNeighborsRegressor(n_jobs=3, n_neighbors=1, p=1).fit( XX_train, Y_train )\n",
    "Y_pred1 = gs1.predict( XX_test )\n",
    "score_1 = mean_squared_error(Y_test,Y_pred1)\n",
    "print(score_1)"
   ]
  },
  {
   "cell_type": "markdown",
   "metadata": {},
   "source": [
    "### 2) SVR"
   ]
  },
  {
   "cell_type": "code",
   "execution_count": 37,
   "metadata": {},
   "outputs": [
    {
     "name": "stdout",
     "output_type": "stream",
     "text": [
      "1.1332310949938513\n"
     ]
    }
   ],
   "source": [
    "gs2 = SVR(C=0.1, epsilon=0.2).fit(XX_train.values , Y_train.values.ravel())\n",
    "Y_pred2 = gs2.predict( XX_test.values )\n",
    "score_2 = mean_squared_error(Y_test,Y_pred2)\n",
    "print(score_2)"
   ]
  },
  {
   "cell_type": "markdown",
   "metadata": {},
   "source": [
    "## 3) DecisionTreeRegressor"
   ]
  },
  {
   "cell_type": "code",
   "execution_count": 38,
   "metadata": {},
   "outputs": [],
   "source": [
    "dtr_param = {\n",
    "            'max_depth': [1,2,5,10],\n",
    "            'min_samples_leaf':[1,2,3]\n",
    "}\n",
    "scorer2 = make_scorer(mean_squared_error)"
   ]
  },
  {
   "cell_type": "code",
   "execution_count": 39,
   "metadata": {},
   "outputs": [
    {
     "data": {
      "text/plain": [
       "GridSearchCV(cv=10, estimator=DecisionTreeRegressor(),\n",
       "             param_grid={'max_depth': [1, 2, 5, 10],\n",
       "                         'min_samples_leaf': [1, 2, 3]},\n",
       "             scoring=make_scorer(mean_squared_error))"
      ]
     },
     "execution_count": 39,
     "metadata": {},
     "output_type": "execute_result"
    }
   ],
   "source": [
    "e_dtr = DecisionTreeRegressor()\n",
    "grid_dtr = GridSearchCV(e_dtr, dtr_param, scoring=scorer2, cv=10)\n",
    "grid_dtr.fit(XX_train.values , Y_train.values.ravel())"
   ]
  },
  {
   "cell_type": "code",
   "execution_count": 40,
   "metadata": {},
   "outputs": [
    {
     "name": "stdout",
     "output_type": "stream",
     "text": [
      "{'max_depth': 1, 'min_samples_leaf': 1}\n",
      "0.8872226901732516\n",
      "DecisionTreeRegressor(max_depth=1)\n"
     ]
    }
   ],
   "source": [
    "print(grid_dtr.best_params_ )\n",
    "print(grid_dtr.best_score_ )\n",
    "print(grid_dtr.best_estimator_ )"
   ]
  },
  {
   "cell_type": "code",
   "execution_count": 43,
   "metadata": {},
   "outputs": [
    {
     "name": "stdout",
     "output_type": "stream",
     "text": [
      "0.8930967331153137\n"
     ]
    }
   ],
   "source": [
    "gs3 = DecisionTreeRegressor(max_depth=1).fit( XX_train, Y_train )\n",
    "Y_pred3 = gs3.predict( XX_test )\n",
    "score_3 = mean_squared_error(Y_test,Y_pred3)\n",
    "print(score_3)"
   ]
  },
  {
   "cell_type": "code",
   "execution_count": null,
   "metadata": {},
   "outputs": [],
   "source": []
  },
  {
   "cell_type": "code",
   "execution_count": null,
   "metadata": {},
   "outputs": [],
   "source": []
  }
 ],
 "metadata": {
  "kernelspec": {
   "display_name": "Python 3",
   "language": "python",
   "name": "python3"
  },
  "language_info": {
   "codemirror_mode": {
    "name": "ipython",
    "version": 3
   },
   "file_extension": ".py",
   "mimetype": "text/x-python",
   "name": "python",
   "nbconvert_exporter": "python",
   "pygments_lexer": "ipython3",
   "version": "3.8.3"
  }
 },
 "nbformat": 4,
 "nbformat_minor": 4
}
