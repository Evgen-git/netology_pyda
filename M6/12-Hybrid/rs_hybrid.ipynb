{
 "cells": [
  {
   "cell_type": "markdown",
   "metadata": {},
   "source": [
    "## Технология меторекомендаций"
   ]
  },
  {
   "cell_type": "code",
   "execution_count": 39,
   "metadata": {},
   "outputs": [],
   "source": [
    "from surprise import KNNWithMeans, KNNBasic, SVDpp\n",
    "from surprise import Dataset\n",
    "from surprise import accuracy\n",
    "from surprise import Reader\n",
    "from surprise.model_selection import train_test_split, cross_validate\n",
    "\n",
    "from sklearn.model_selection import cross_val_score\n",
    "from sklearn.model_selection import cross_val_predict\n",
    "\n",
    "from sklearn.ensemble import RandomForestClassifier\n",
    "\n",
    "\n",
    "import pandas as pd\n",
    "#import numpy as np"
   ]
  },
  {
   "cell_type": "markdown",
   "metadata": {},
   "source": [
    "### Загружаем набор данных и откладываем данные для теста"
   ]
  },
  {
   "cell_type": "code",
   "execution_count": 2,
   "metadata": {},
   "outputs": [],
   "source": [
    "data = Dataset.load_builtin('ml-100k')\n",
    "trainset, testset = train_test_split(data, test_size=.15)"
   ]
  },
  {
   "cell_type": "markdown",
   "metadata": {},
   "source": [
    "### Обучаем первый алгоритм"
   ]
  },
  {
   "cell_type": "code",
   "execution_count": 3,
   "metadata": {},
   "outputs": [
    {
     "name": "stdout",
     "output_type": "stream",
     "text": [
      "RMSE: 0.9200\n"
     ]
    },
    {
     "data": {
      "text/plain": [
       "0.9199970722879779"
      ]
     },
     "execution_count": 3,
     "metadata": {},
     "output_type": "execute_result"
    }
   ],
   "source": [
    "\n",
    "\n",
    "\n",
    "# первый алгоритм\n",
    "algo = SVDpp()\n",
    "    \n",
    "algo.fit(trainset)\n",
    "predictions = algo.test(testset)\n",
    "\n",
    "accuracy.rmse(predictions)"
   ]
  },
  {
   "cell_type": "markdown",
   "metadata": {},
   "source": [
    "### Обучаем второй алгоритм"
   ]
  },
  {
   "cell_type": "code",
   "execution_count": 4,
   "metadata": {},
   "outputs": [
    {
     "name": "stdout",
     "output_type": "stream",
     "text": [
      "Computing the msd similarity matrix...\n",
      "Done computing similarity matrix.\n",
      "RMSE: 0.9777\n"
     ]
    },
    {
     "data": {
      "text/plain": [
       "0.9776612479627784"
      ]
     },
     "execution_count": 4,
     "metadata": {},
     "output_type": "execute_result"
    }
   ],
   "source": [
    "# второй алгоритм\n",
    "algo2 = KNNBasic()\n",
    "algo2.fit(trainset)\n",
    "predictions2 = algo2.test(testset)\n",
    "\n",
    "accuracy.rmse(predictions2)"
   ]
  },
  {
   "cell_type": "markdown",
   "metadata": {},
   "source": [
    "### Обучаем третий алгоритм"
   ]
  },
  {
   "cell_type": "code",
   "execution_count": 79,
   "metadata": {},
   "outputs": [
    {
     "name": "stdout",
     "output_type": "stream",
     "text": [
      "Computing the msd similarity matrix...\n",
      "Done computing similarity matrix.\n",
      "RMSE: 0.9451\n"
     ]
    },
    {
     "data": {
      "text/plain": [
       "0.9451459604344402"
      ]
     },
     "execution_count": 79,
     "metadata": {},
     "output_type": "execute_result"
    }
   ],
   "source": [
    "# третий алгоритм\n",
    "algo3 = KNNWithMeans()\n",
    "algo3.fit(trainset)\n",
    "predictions3 = algo3.test(testset)\n",
    "\n",
    "accuracy.rmse(predictions3)\n"
   ]
  },
  {
   "cell_type": "markdown",
   "metadata": {},
   "source": [
    "### На трейне делаем предсказание каждым из трех алгоритмов и отбираем лучший для каждого предсказания"
   ]
  },
  {
   "cell_type": "code",
   "execution_count": 49,
   "metadata": {},
   "outputs": [],
   "source": [
    "inc = 0\n",
    "trainset_for_meta = []\n",
    "train_y = []\n",
    "for row in trainset.all_ratings():\n",
    "    inc += 1\n",
    "    #print('row={}'.format(row))\n",
    "    uid,iid,sc0 = str(row[0]),str(row[1]),row[2]\n",
    "\n",
    "    #print('uid={},iid={},sc0={}'.format(uid,iid,sc0))\n",
    "    pred1 = algo.predict(uid, iid,verbose=False)\n",
    "    pred2 = algo2.predict(uid, iid,verbose=False)\n",
    "    pred3 = algo3.predict(uid, iid,verbose=False)\n",
    "\n",
    "    #print('pred1: {} ; pred2: {}; pred3: {}'.format(pred1.est,pred2.est,pred3.est))\n",
    "\n",
    "    dt = {1:abs(sc0-pred1.est), \n",
    "          2:abs(sc0-pred2.est), \n",
    "          3:abs(sc0-pred3.est)}\n",
    "\n",
    "    #print('sc0: {} ; dt: {}'.format(sc0,dt))\n",
    "    key_min = min(dt.keys(), key=(lambda k: dt[k]))\n",
    "    #print('key: {} ; Best score: {}'.format(str(key_min),dt[key_min]))\n",
    "    #print('new row: {}'.format((uid, iid, key_min)))\n",
    "    trainset_for_meta.append((uid, iid))\n",
    "    train_y.append(key_min)\n",
    "    #if inc > 1000:\n",
    "    #    break\n",
    "        \n"
   ]
  },
  {
   "cell_type": "markdown",
   "metadata": {},
   "source": [
    "### Подготавливаетм тестовые данные для алгоритма классификации из библиотеки sklearn"
   ]
  },
  {
   "cell_type": "code",
   "execution_count": 80,
   "metadata": {},
   "outputs": [],
   "source": [
    "inc = 0\n",
    "testset_for_meta = []\n",
    "testset_y = []\n",
    "for row in testset:\n",
    "    inc += 1\n",
    "    #print('row={}'.format(row))\n",
    "    uid,iid,sc0 = str(row[0]),str(row[1]),row[2]\n",
    "    testset_for_meta.append((uid, iid))\n",
    "    testset_y.append(sc0)\n",
    "\n",
    "    #if inc > 5:\n",
    "    #    break\n",
    "\n"
   ]
  },
  {
   "cell_type": "markdown",
   "metadata": {},
   "source": [
    "### На обучаемом наборе данных с метками лучшего алгоритма обучаетм модель классификации. Затем делаем предсказание на тесте какой алгоритм будет лучшим для каждого объекта из теста"
   ]
  },
  {
   "cell_type": "code",
   "execution_count": 83,
   "metadata": {},
   "outputs": [],
   "source": [
    "from sklearn.metrics import average_precision_score\n",
    "\n",
    "model_1 = RandomForestClassifier(n_estimators=200, max_depth=3, random_state=0)\n",
    "model_1.fit(trainset_for_meta, train_y)\n",
    "test_pred = model_1.predict(testset_for_meta)\n"
   ]
  },
  {
   "cell_type": "markdown",
   "metadata": {},
   "source": [
    "### По предсказанному лучшему алгоритму делаем предсказание тем алгоритмом который предсказан"
   ]
  },
  {
   "cell_type": "code",
   "execution_count": 92,
   "metadata": {},
   "outputs": [],
   "source": [
    "inc = 0\n",
    "testset_pred = []\n",
    "for row in test_pred:\n",
    "    test_row = testset[inc]\n",
    "    #print('test_row ={}'.format(test_row))\n",
    "    uid,iid,sc0 = test_row[0],test_row[1],test_row[2]\n",
    "    if row==1:\n",
    "        pred = algo.predict(uid, iid,sc0,verbose=False)\n",
    "        #print('Algo={}'.format(pred1.est))\n",
    "    elif row==2:\n",
    "        pred = algo2.predict(uid, iid,sc0,verbose=False)\n",
    "        #print('Algo={}'.format(pred2.est))\n",
    "    elif row==3:\n",
    "        pred = algo3.predict(uid, iid,sc0,verbose=False)\n",
    "        #print('Algo={}'.format(pred3.est))\n",
    "    else: \n",
    "        print('Not switch={}'.format(row))\n",
    "\n",
    "    testset_pred.append(pred)\n",
    "\n",
    "    #inc += 1\n",
    "    #if inc > 5:\n",
    "    #    break\n",
    "\n",
    "\n"
   ]
  },
  {
   "cell_type": "markdown",
   "metadata": {},
   "source": [
    "### Проверка показале, что фокус не удался!\n",
    "### Однако цель занятия достигнута - закреплен понравивщееся технология на пректике."
   ]
  },
  {
   "cell_type": "code",
   "execution_count": 93,
   "metadata": {},
   "outputs": [
    {
     "name": "stdout",
     "output_type": "stream",
     "text": [
      "RMSE: 1.4181\n"
     ]
    },
    {
     "data": {
      "text/plain": [
       "1.4181038197903417"
      ]
     },
     "execution_count": 93,
     "metadata": {},
     "output_type": "execute_result"
    }
   ],
   "source": [
    "accuracy.rmse(testset_pred)"
   ]
  },
  {
   "cell_type": "code",
   "execution_count": null,
   "metadata": {},
   "outputs": [],
   "source": []
  }
 ],
 "metadata": {
  "kernelspec": {
   "display_name": "Python 3",
   "language": "python",
   "name": "python3"
  },
  "language_info": {
   "codemirror_mode": {
    "name": "ipython",
    "version": 3
   },
   "file_extension": ".py",
   "mimetype": "text/x-python",
   "name": "python",
   "nbconvert_exporter": "python",
   "pygments_lexer": "ipython3",
   "version": "3.8.3"
  }
 },
 "nbformat": 4,
 "nbformat_minor": 4
}
