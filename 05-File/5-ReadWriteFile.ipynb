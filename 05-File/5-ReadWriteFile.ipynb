{
 "cells": [
  {
   "cell_type": "markdown",
   "metadata": {},
   "source": [
    "# Домашнее задание\n",
    "1. Переведите содержимое файла purchase_log.txt в словарь purchases вида:\n",
    "```python\n",
    "{'1840e0b9d4': 'Продукты', ...}\n",
    "```\n",
    "\n",
    "2. Для каждого user_id в файле visit_log.csv добавьте третий столбец с категорией покупки (если покупка была).\n",
    "\n",
    "3. Запишите в файл funnel.csv визиты из файла visit_log.csv, в которых были покупки с указанием категории.\n",
    "\n",
    "Учтите условия на данные:\n",
    "- содержимое purchase_log.txt помещается в оперативную память компьютера\n",
    "- содержимое visit_log.csv - нет; используйте только построчную обработку этого файла"
   ]
  },
  {
   "cell_type": "code",
   "execution_count": 1,
   "metadata": {},
   "outputs": [],
   "source": [
    "import json"
   ]
  },
  {
   "cell_type": "code",
   "execution_count": 2,
   "metadata": {},
   "outputs": [
    {
     "name": "stdout",
     "output_type": "stream",
     "text": [
      "99518\n"
     ]
    }
   ],
   "source": [
    "purchases = {}\n",
    "f = open('purchase_log.txt', 'r')\n",
    "try:\n",
    "    content = f.readlines()\n",
    "\n",
    "    for rw in content:\n",
    "        dt = json.loads(rw)\n",
    "        purchases.setdefault(dt['user_id'],dt['category']) \n",
    "\n",
    "    print(len(purchases))\n",
    "\n",
    "finally: \n",
    "   f.close()"
   ]
  },
  {
   "cell_type": "code",
   "execution_count": 4,
   "metadata": {},
   "outputs": [
    {
     "name": "stdout",
     "output_type": "stream",
     "text": [
      "End\n"
     ]
    }
   ],
   "source": [
    "with open('visit_log.csv', 'r') as fr, open('funnel.csv', 'w') as fw:\n",
    "    while True:\n",
    "        line = fr.readline()\n",
    "        if not line:\n",
    "            break;\n",
    "        content = line.strip().split(',')\n",
    "        cat = purchases.get(content[0])\n",
    "        if cat is not None:\n",
    "            content.append(cat)\n",
    "            #print(','.join(content))\n",
    "            fw.write(','.join(content)+'\\n')\n",
    "\n",
    "print('End')"
   ]
  },
  {
   "cell_type": "code",
   "execution_count": null,
   "metadata": {},
   "outputs": [],
   "source": []
  }
 ],
 "metadata": {
  "kernelspec": {
   "display_name": "Python 3",
   "language": "python",
   "name": "python3"
  },
  "language_info": {
   "codemirror_mode": {
    "name": "ipython",
    "version": 3
   },
   "file_extension": ".py",
   "mimetype": "text/x-python",
   "name": "python",
   "nbconvert_exporter": "python",
   "pygments_lexer": "ipython3",
   "version": "3.7.4"
  }
 },
 "nbformat": 4,
 "nbformat_minor": 2
}
