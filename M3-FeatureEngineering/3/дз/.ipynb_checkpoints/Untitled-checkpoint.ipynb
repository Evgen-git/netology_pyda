{
 "cells": [
  {
   "cell_type": "code",
   "execution_count": 3,
   "metadata": {},
   "outputs": [],
   "source": [
    "import pandas as pd\n",
    "import seaborn as sns\n",
    "from matplotlib import pyplot as plt"
   ]
  },
  {
   "cell_type": "code",
   "execution_count": 4,
   "metadata": {},
   "outputs": [],
   "source": [
    "df = pd.read_csv('data/aac_shelter_outcomes.csv', \n",
    "    parse_dates=['date_of_birth', 'datetime','monthyear'])"
   ]
  },
  {
   "cell_type": "code",
   "execution_count": 8,
   "metadata": {},
   "outputs": [
    {
     "data": {
      "text/html": [
       "<div>\n",
       "<style scoped>\n",
       "    .dataframe tbody tr th:only-of-type {\n",
       "        vertical-align: middle;\n",
       "    }\n",
       "\n",
       "    .dataframe tbody tr th {\n",
       "        vertical-align: top;\n",
       "    }\n",
       "\n",
       "    .dataframe thead th {\n",
       "        text-align: right;\n",
       "    }\n",
       "</style>\n",
       "<table border=\"1\" class=\"dataframe\">\n",
       "  <thead>\n",
       "    <tr style=\"text-align: right;\">\n",
       "      <th></th>\n",
       "      <th>age_upon_outcome</th>\n",
       "      <th>date_of_birth</th>\n",
       "      <th>datetime</th>\n",
       "      <th>monthyear</th>\n",
       "    </tr>\n",
       "  </thead>\n",
       "  <tbody>\n",
       "    <tr>\n",
       "      <th>0</th>\n",
       "      <td>2 weeks</td>\n",
       "      <td>2014-07-07</td>\n",
       "      <td>2014-07-22 16:04:00</td>\n",
       "      <td>2014-07-22 16:04:00</td>\n",
       "    </tr>\n",
       "    <tr>\n",
       "      <th>1</th>\n",
       "      <td>1 year</td>\n",
       "      <td>2012-11-06</td>\n",
       "      <td>2013-11-07 11:47:00</td>\n",
       "      <td>2013-11-07 11:47:00</td>\n",
       "    </tr>\n",
       "    <tr>\n",
       "      <th>2</th>\n",
       "      <td>1 year</td>\n",
       "      <td>2013-03-31</td>\n",
       "      <td>2014-06-03 14:20:00</td>\n",
       "      <td>2014-06-03 14:20:00</td>\n",
       "    </tr>\n",
       "    <tr>\n",
       "      <th>3</th>\n",
       "      <td>9 years</td>\n",
       "      <td>2005-06-02</td>\n",
       "      <td>2014-06-15 15:50:00</td>\n",
       "      <td>2014-06-15 15:50:00</td>\n",
       "    </tr>\n",
       "    <tr>\n",
       "      <th>4</th>\n",
       "      <td>5 months</td>\n",
       "      <td>2014-01-07</td>\n",
       "      <td>2014-07-07 14:04:00</td>\n",
       "      <td>2014-07-07 14:04:00</td>\n",
       "    </tr>\n",
       "    <tr>\n",
       "      <th>5</th>\n",
       "      <td>4 months</td>\n",
       "      <td>2013-06-03</td>\n",
       "      <td>2013-10-07 13:06:00</td>\n",
       "      <td>2013-10-07 13:06:00</td>\n",
       "    </tr>\n",
       "    <tr>\n",
       "      <th>6</th>\n",
       "      <td>1 year</td>\n",
       "      <td>2013-12-13</td>\n",
       "      <td>2014-12-13 12:20:00</td>\n",
       "      <td>2014-12-13 12:20:00</td>\n",
       "    </tr>\n",
       "    <tr>\n",
       "      <th>7</th>\n",
       "      <td>3 years</td>\n",
       "      <td>2011-11-23</td>\n",
       "      <td>2014-12-08 15:55:00</td>\n",
       "      <td>2014-12-08 15:55:00</td>\n",
       "    </tr>\n",
       "    <tr>\n",
       "      <th>8</th>\n",
       "      <td>1 month</td>\n",
       "      <td>2014-06-16</td>\n",
       "      <td>2014-08-14 18:45:00</td>\n",
       "      <td>2014-08-14 18:45:00</td>\n",
       "    </tr>\n",
       "    <tr>\n",
       "      <th>9</th>\n",
       "      <td>3 months</td>\n",
       "      <td>2014-03-26</td>\n",
       "      <td>2014-06-29 17:45:00</td>\n",
       "      <td>2014-06-29 17:45:00</td>\n",
       "    </tr>\n",
       "    <tr>\n",
       "      <th>10</th>\n",
       "      <td>1 year</td>\n",
       "      <td>2013-03-27</td>\n",
       "      <td>2014-03-28 14:55:00</td>\n",
       "      <td>2014-03-28 14:55:00</td>\n",
       "    </tr>\n",
       "    <tr>\n",
       "      <th>11</th>\n",
       "      <td>2 years</td>\n",
       "      <td>2012-02-28</td>\n",
       "      <td>2014-03-28 14:39:00</td>\n",
       "      <td>2014-03-28 14:39:00</td>\n",
       "    </tr>\n",
       "    <tr>\n",
       "      <th>12</th>\n",
       "      <td>2 months</td>\n",
       "      <td>2014-03-07</td>\n",
       "      <td>2014-05-26 19:10:00</td>\n",
       "      <td>2014-05-26 19:10:00</td>\n",
       "    </tr>\n",
       "    <tr>\n",
       "      <th>13</th>\n",
       "      <td>4 years</td>\n",
       "      <td>2009-04-27</td>\n",
       "      <td>2014-04-25 11:17:00</td>\n",
       "      <td>2014-04-25 11:17:00</td>\n",
       "    </tr>\n",
       "    <tr>\n",
       "      <th>14</th>\n",
       "      <td>8 years</td>\n",
       "      <td>2006-10-18</td>\n",
       "      <td>2014-10-26 18:20:00</td>\n",
       "      <td>2014-10-26 18:20:00</td>\n",
       "    </tr>\n",
       "    <tr>\n",
       "      <th>15</th>\n",
       "      <td>2 years</td>\n",
       "      <td>2012-06-02</td>\n",
       "      <td>2014-06-15 15:11:00</td>\n",
       "      <td>2014-06-15 15:11:00</td>\n",
       "    </tr>\n",
       "    <tr>\n",
       "      <th>16</th>\n",
       "      <td>1 year</td>\n",
       "      <td>2013-03-11</td>\n",
       "      <td>2014-04-16 12:51:00</td>\n",
       "      <td>2014-04-16 12:51:00</td>\n",
       "    </tr>\n",
       "    <tr>\n",
       "      <th>17</th>\n",
       "      <td>3 weeks</td>\n",
       "      <td>2013-12-16</td>\n",
       "      <td>2014-01-09 19:29:00</td>\n",
       "      <td>2014-01-09 19:29:00</td>\n",
       "    </tr>\n",
       "    <tr>\n",
       "      <th>18</th>\n",
       "      <td>2 months</td>\n",
       "      <td>2014-10-19</td>\n",
       "      <td>2014-12-21 18:20:00</td>\n",
       "      <td>2014-12-21 18:20:00</td>\n",
       "    </tr>\n",
       "    <tr>\n",
       "      <th>19</th>\n",
       "      <td>2 months</td>\n",
       "      <td>2014-06-02</td>\n",
       "      <td>2014-08-13 15:04:00</td>\n",
       "      <td>2014-08-13 15:04:00</td>\n",
       "    </tr>\n",
       "    <tr>\n",
       "      <th>20</th>\n",
       "      <td>8 months</td>\n",
       "      <td>2013-07-05</td>\n",
       "      <td>2014-03-06 14:29:00</td>\n",
       "      <td>2014-03-06 14:29:00</td>\n",
       "    </tr>\n",
       "    <tr>\n",
       "      <th>21</th>\n",
       "      <td>5 months</td>\n",
       "      <td>2014-03-22</td>\n",
       "      <td>2014-08-31 15:45:00</td>\n",
       "      <td>2014-08-31 15:45:00</td>\n",
       "    </tr>\n",
       "    <tr>\n",
       "      <th>22</th>\n",
       "      <td>2 years</td>\n",
       "      <td>2012-05-05</td>\n",
       "      <td>2014-12-11 17:52:00</td>\n",
       "      <td>2014-12-11 17:52:00</td>\n",
       "    </tr>\n",
       "    <tr>\n",
       "      <th>23</th>\n",
       "      <td>2 months</td>\n",
       "      <td>2014-08-03</td>\n",
       "      <td>2014-10-31 18:29:00</td>\n",
       "      <td>2014-10-31 18:29:00</td>\n",
       "    </tr>\n",
       "    <tr>\n",
       "      <th>24</th>\n",
       "      <td>1 year</td>\n",
       "      <td>2012-12-04</td>\n",
       "      <td>2013-12-16 13:59:00</td>\n",
       "      <td>2013-12-16 13:59:00</td>\n",
       "    </tr>\n",
       "    <tr>\n",
       "      <th>25</th>\n",
       "      <td>1 year</td>\n",
       "      <td>2013-10-11</td>\n",
       "      <td>2014-10-19 17:54:00</td>\n",
       "      <td>2014-10-19 17:54:00</td>\n",
       "    </tr>\n",
       "    <tr>\n",
       "      <th>26</th>\n",
       "      <td>4 months</td>\n",
       "      <td>2013-08-23</td>\n",
       "      <td>2013-12-25 09:47:00</td>\n",
       "      <td>2013-12-25 09:47:00</td>\n",
       "    </tr>\n",
       "    <tr>\n",
       "      <th>27</th>\n",
       "      <td>2 months</td>\n",
       "      <td>2013-09-01</td>\n",
       "      <td>2013-11-19 18:30:00</td>\n",
       "      <td>2013-11-19 18:30:00</td>\n",
       "    </tr>\n",
       "    <tr>\n",
       "      <th>28</th>\n",
       "      <td>4 months</td>\n",
       "      <td>2014-06-17</td>\n",
       "      <td>2014-11-04 18:03:00</td>\n",
       "      <td>2014-11-04 18:03:00</td>\n",
       "    </tr>\n",
       "    <tr>\n",
       "      <th>29</th>\n",
       "      <td>2 months</td>\n",
       "      <td>2014-04-27</td>\n",
       "      <td>2014-07-03 12:12:00</td>\n",
       "      <td>2014-07-03 12:12:00</td>\n",
       "    </tr>\n",
       "  </tbody>\n",
       "</table>\n",
       "</div>"
      ],
      "text/plain": [
       "   age_upon_outcome date_of_birth            datetime           monthyear\n",
       "0           2 weeks    2014-07-07 2014-07-22 16:04:00 2014-07-22 16:04:00\n",
       "1            1 year    2012-11-06 2013-11-07 11:47:00 2013-11-07 11:47:00\n",
       "2            1 year    2013-03-31 2014-06-03 14:20:00 2014-06-03 14:20:00\n",
       "3           9 years    2005-06-02 2014-06-15 15:50:00 2014-06-15 15:50:00\n",
       "4          5 months    2014-01-07 2014-07-07 14:04:00 2014-07-07 14:04:00\n",
       "5          4 months    2013-06-03 2013-10-07 13:06:00 2013-10-07 13:06:00\n",
       "6            1 year    2013-12-13 2014-12-13 12:20:00 2014-12-13 12:20:00\n",
       "7           3 years    2011-11-23 2014-12-08 15:55:00 2014-12-08 15:55:00\n",
       "8           1 month    2014-06-16 2014-08-14 18:45:00 2014-08-14 18:45:00\n",
       "9          3 months    2014-03-26 2014-06-29 17:45:00 2014-06-29 17:45:00\n",
       "10           1 year    2013-03-27 2014-03-28 14:55:00 2014-03-28 14:55:00\n",
       "11          2 years    2012-02-28 2014-03-28 14:39:00 2014-03-28 14:39:00\n",
       "12         2 months    2014-03-07 2014-05-26 19:10:00 2014-05-26 19:10:00\n",
       "13          4 years    2009-04-27 2014-04-25 11:17:00 2014-04-25 11:17:00\n",
       "14          8 years    2006-10-18 2014-10-26 18:20:00 2014-10-26 18:20:00\n",
       "15          2 years    2012-06-02 2014-06-15 15:11:00 2014-06-15 15:11:00\n",
       "16           1 year    2013-03-11 2014-04-16 12:51:00 2014-04-16 12:51:00\n",
       "17          3 weeks    2013-12-16 2014-01-09 19:29:00 2014-01-09 19:29:00\n",
       "18         2 months    2014-10-19 2014-12-21 18:20:00 2014-12-21 18:20:00\n",
       "19         2 months    2014-06-02 2014-08-13 15:04:00 2014-08-13 15:04:00\n",
       "20         8 months    2013-07-05 2014-03-06 14:29:00 2014-03-06 14:29:00\n",
       "21         5 months    2014-03-22 2014-08-31 15:45:00 2014-08-31 15:45:00\n",
       "22          2 years    2012-05-05 2014-12-11 17:52:00 2014-12-11 17:52:00\n",
       "23         2 months    2014-08-03 2014-10-31 18:29:00 2014-10-31 18:29:00\n",
       "24           1 year    2012-12-04 2013-12-16 13:59:00 2013-12-16 13:59:00\n",
       "25           1 year    2013-10-11 2014-10-19 17:54:00 2014-10-19 17:54:00\n",
       "26         4 months    2013-08-23 2013-12-25 09:47:00 2013-12-25 09:47:00\n",
       "27         2 months    2013-09-01 2013-11-19 18:30:00 2013-11-19 18:30:00\n",
       "28         4 months    2014-06-17 2014-11-04 18:03:00 2014-11-04 18:03:00\n",
       "29         2 months    2014-04-27 2014-07-03 12:12:00 2014-07-03 12:12:00"
      ]
     },
     "execution_count": 8,
     "metadata": {},
     "output_type": "execute_result"
    }
   ],
   "source": [
    "df[['age_upon_outcome','date_of_birth', 'datetime','monthyear']].head(30)"
   ]
  },
  {
   "cell_type": "code",
   "execution_count": 20,
   "metadata": {},
   "outputs": [
    {
     "data": {
      "text/plain": [
       "outcome_type\n",
       "Adoption           33112\n",
       "Died                 680\n",
       "Disposal             307\n",
       "Euthanasia          6080\n",
       "Missing               46\n",
       "Relocate              16\n",
       "Return to Owner    14354\n",
       "Rto-Adopt            150\n",
       "Transfer           23499\n",
       "Name: outcome_type, dtype: int64"
      ]
     },
     "execution_count": 20,
     "metadata": {},
     "output_type": "execute_result"
    }
   ],
   "source": [
    "df.groupby('outcome_type')['outcome_type'].agg('count')"
   ]
  },
  {
   "cell_type": "code",
   "execution_count": 13,
   "metadata": {},
   "outputs": [
    {
     "data": {
      "text/plain": [
       "Index(['age_upon_outcome', 'animal_id', 'animal_type', 'breed', 'color',\n",
       "       'date_of_birth', 'datetime', 'monthyear', 'name', 'outcome_subtype',\n",
       "       'outcome_type', 'sex_upon_outcome'],\n",
       "      dtype='object')"
      ]
     },
     "execution_count": 13,
     "metadata": {},
     "output_type": "execute_result"
    }
   ],
   "source": [
    "#df.head(5)\n",
    "#df.info()\n",
    "df.columns"
   ]
  },
  {
   "cell_type": "code",
   "execution_count": 17,
   "metadata": {},
   "outputs": [
    {
     "data": {
      "text/html": [
       "<div>\n",
       "<style scoped>\n",
       "    .dataframe tbody tr th:only-of-type {\n",
       "        vertical-align: middle;\n",
       "    }\n",
       "\n",
       "    .dataframe tbody tr th {\n",
       "        vertical-align: top;\n",
       "    }\n",
       "\n",
       "    .dataframe thead th {\n",
       "        text-align: right;\n",
       "    }\n",
       "</style>\n",
       "<table border=\"1\" class=\"dataframe\">\n",
       "  <thead>\n",
       "    <tr style=\"text-align: right;\">\n",
       "      <th></th>\n",
       "      <th>count</th>\n",
       "      <th>unique</th>\n",
       "      <th>top</th>\n",
       "      <th>freq</th>\n",
       "    </tr>\n",
       "  </thead>\n",
       "  <tbody>\n",
       "    <tr>\n",
       "      <th>age_upon_outcome</th>\n",
       "      <td>78248</td>\n",
       "      <td>46</td>\n",
       "      <td>1 year</td>\n",
       "      <td>14355</td>\n",
       "    </tr>\n",
       "    <tr>\n",
       "      <th>animal_id</th>\n",
       "      <td>78256</td>\n",
       "      <td>70855</td>\n",
       "      <td>A706536</td>\n",
       "      <td>11</td>\n",
       "    </tr>\n",
       "    <tr>\n",
       "      <th>animal_type</th>\n",
       "      <td>78256</td>\n",
       "      <td>5</td>\n",
       "      <td>Dog</td>\n",
       "      <td>44242</td>\n",
       "    </tr>\n",
       "    <tr>\n",
       "      <th>breed</th>\n",
       "      <td>78256</td>\n",
       "      <td>2128</td>\n",
       "      <td>Domestic Shorthair Mix</td>\n",
       "      <td>23335</td>\n",
       "    </tr>\n",
       "    <tr>\n",
       "      <th>color</th>\n",
       "      <td>78256</td>\n",
       "      <td>525</td>\n",
       "      <td>Black/White</td>\n",
       "      <td>8153</td>\n",
       "    </tr>\n",
       "    <tr>\n",
       "      <th>date_of_birth</th>\n",
       "      <td>78256</td>\n",
       "      <td>5869</td>\n",
       "      <td>2014-05-05T00:00:00</td>\n",
       "      <td>112</td>\n",
       "    </tr>\n",
       "    <tr>\n",
       "      <th>datetime</th>\n",
       "      <td>78256</td>\n",
       "      <td>64361</td>\n",
       "      <td>2016-04-18T00:00:00</td>\n",
       "      <td>39</td>\n",
       "    </tr>\n",
       "    <tr>\n",
       "      <th>monthyear</th>\n",
       "      <td>78256</td>\n",
       "      <td>64361</td>\n",
       "      <td>2016-04-18T00:00:00</td>\n",
       "      <td>39</td>\n",
       "    </tr>\n",
       "    <tr>\n",
       "      <th>name</th>\n",
       "      <td>54370</td>\n",
       "      <td>14574</td>\n",
       "      <td>Bella</td>\n",
       "      <td>344</td>\n",
       "    </tr>\n",
       "    <tr>\n",
       "      <th>outcome_subtype</th>\n",
       "      <td>35963</td>\n",
       "      <td>19</td>\n",
       "      <td>Partner</td>\n",
       "      <td>19660</td>\n",
       "    </tr>\n",
       "    <tr>\n",
       "      <th>outcome_type</th>\n",
       "      <td>78244</td>\n",
       "      <td>9</td>\n",
       "      <td>Adoption</td>\n",
       "      <td>33112</td>\n",
       "    </tr>\n",
       "    <tr>\n",
       "      <th>sex_upon_outcome</th>\n",
       "      <td>78254</td>\n",
       "      <td>5</td>\n",
       "      <td>Neutered Male</td>\n",
       "      <td>27784</td>\n",
       "    </tr>\n",
       "  </tbody>\n",
       "</table>\n",
       "</div>"
      ],
      "text/plain": [
       "                  count unique                     top   freq\n",
       "age_upon_outcome  78248     46                  1 year  14355\n",
       "animal_id         78256  70855                 A706536     11\n",
       "animal_type       78256      5                     Dog  44242\n",
       "breed             78256   2128  Domestic Shorthair Mix  23335\n",
       "color             78256    525             Black/White   8153\n",
       "date_of_birth     78256   5869     2014-05-05T00:00:00    112\n",
       "datetime          78256  64361     2016-04-18T00:00:00     39\n",
       "monthyear         78256  64361     2016-04-18T00:00:00     39\n",
       "name              54370  14574                   Bella    344\n",
       "outcome_subtype   35963     19                 Partner  19660\n",
       "outcome_type      78244      9                Adoption  33112\n",
       "sex_upon_outcome  78254      5           Neutered Male  27784"
      ]
     },
     "execution_count": 17,
     "metadata": {},
     "output_type": "execute_result"
    }
   ],
   "source": [
    "df.describe().transpose()"
   ]
  },
  {
   "cell_type": "code",
   "execution_count": 16,
   "metadata": {},
   "outputs": [
    {
     "data": {
      "text/plain": [
       "age_upon_outcome        8\n",
       "animal_id               0\n",
       "animal_type             0\n",
       "breed                   0\n",
       "color                   0\n",
       "date_of_birth           0\n",
       "datetime                0\n",
       "monthyear               0\n",
       "name                23886\n",
       "outcome_subtype     42293\n",
       "outcome_type           12\n",
       "sex_upon_outcome        2\n",
       "dtype: int64"
      ]
     },
     "execution_count": 16,
     "metadata": {},
     "output_type": "execute_result"
    }
   ],
   "source": [
    "df.isnull().sum()"
   ]
  },
  {
   "cell_type": "code",
   "execution_count": 8,
   "metadata": {},
   "outputs": [
    {
     "ename": "IndexError",
     "evalue": "index -1 is out of bounds for axis 0 with size 0",
     "output_type": "error",
     "traceback": [
      "\u001b[0;31m---------------------------------------------------------------------------\u001b[0m",
      "\u001b[0;31mIndexError\u001b[0m                                Traceback (most recent call last)",
      "\u001b[0;32m<ipython-input-8-541c32312790>\u001b[0m in \u001b[0;36m<module>\u001b[0;34m\u001b[0m\n\u001b[1;32m      1\u001b[0m \u001b[0;32mimport\u001b[0m \u001b[0mseaborn\u001b[0m \u001b[0;32mas\u001b[0m \u001b[0msns\u001b[0m\u001b[0;34m\u001b[0m\u001b[0;34m\u001b[0m\u001b[0m\n\u001b[0;32m----> 2\u001b[0;31m \u001b[0msns\u001b[0m\u001b[0;34m.\u001b[0m\u001b[0mpairplot\u001b[0m\u001b[0;34m(\u001b[0m\u001b[0mdf\u001b[0m\u001b[0;34m)\u001b[0m\u001b[0;34m\u001b[0m\u001b[0;34m\u001b[0m\u001b[0m\n\u001b[0m",
      "\u001b[0;32m~/anaconda3/lib/python3.7/site-packages/seaborn/axisgrid.py\u001b[0m in \u001b[0;36mpairplot\u001b[0;34m(data, hue, hue_order, palette, vars, x_vars, y_vars, kind, diag_kind, markers, height, aspect, corner, dropna, plot_kws, diag_kws, grid_kws, size)\u001b[0m\n\u001b[1;32m   2092\u001b[0m     grid = PairGrid(data, vars=vars, x_vars=x_vars, y_vars=y_vars, hue=hue,\n\u001b[1;32m   2093\u001b[0m                     \u001b[0mhue_order\u001b[0m\u001b[0;34m=\u001b[0m\u001b[0mhue_order\u001b[0m\u001b[0;34m,\u001b[0m \u001b[0mpalette\u001b[0m\u001b[0;34m=\u001b[0m\u001b[0mpalette\u001b[0m\u001b[0;34m,\u001b[0m \u001b[0mcorner\u001b[0m\u001b[0;34m=\u001b[0m\u001b[0mcorner\u001b[0m\u001b[0;34m,\u001b[0m\u001b[0;34m\u001b[0m\u001b[0;34m\u001b[0m\u001b[0m\n\u001b[0;32m-> 2094\u001b[0;31m                     height=height, aspect=aspect, dropna=dropna, **grid_kws)\n\u001b[0m\u001b[1;32m   2095\u001b[0m \u001b[0;34m\u001b[0m\u001b[0m\n\u001b[1;32m   2096\u001b[0m     \u001b[0;31m# Add the markers here as PairGrid has figured out how many levels of the\u001b[0m\u001b[0;34m\u001b[0m\u001b[0;34m\u001b[0m\u001b[0;34m\u001b[0m\u001b[0m\n",
      "\u001b[0;32m~/anaconda3/lib/python3.7/site-packages/seaborn/axisgrid.py\u001b[0m in \u001b[0;36m__init__\u001b[0;34m(self, data, hue, hue_order, palette, hue_kws, vars, x_vars, y_vars, corner, diag_sharey, height, aspect, layout_pad, despine, dropna, size)\u001b[0m\n\u001b[1;32m   1322\u001b[0m \u001b[0;34m\u001b[0m\u001b[0m\n\u001b[1;32m   1323\u001b[0m         \u001b[0;31m# Label the axes\u001b[0m\u001b[0;34m\u001b[0m\u001b[0;34m\u001b[0m\u001b[0;34m\u001b[0m\u001b[0m\n\u001b[0;32m-> 1324\u001b[0;31m         \u001b[0mself\u001b[0m\u001b[0;34m.\u001b[0m\u001b[0m_add_axis_labels\u001b[0m\u001b[0;34m(\u001b[0m\u001b[0;34m)\u001b[0m\u001b[0;34m\u001b[0m\u001b[0;34m\u001b[0m\u001b[0m\n\u001b[0m\u001b[1;32m   1325\u001b[0m \u001b[0;34m\u001b[0m\u001b[0m\n\u001b[1;32m   1326\u001b[0m         \u001b[0;31m# Sort out the hue variable\u001b[0m\u001b[0;34m\u001b[0m\u001b[0;34m\u001b[0m\u001b[0;34m\u001b[0m\u001b[0m\n",
      "\u001b[0;32m~/anaconda3/lib/python3.7/site-packages/seaborn/axisgrid.py\u001b[0m in \u001b[0;36m_add_axis_labels\u001b[0;34m(self)\u001b[0m\n\u001b[1;32m   1541\u001b[0m     \u001b[0;32mdef\u001b[0m \u001b[0m_add_axis_labels\u001b[0m\u001b[0;34m(\u001b[0m\u001b[0mself\u001b[0m\u001b[0;34m)\u001b[0m\u001b[0;34m:\u001b[0m\u001b[0;34m\u001b[0m\u001b[0;34m\u001b[0m\u001b[0m\n\u001b[1;32m   1542\u001b[0m         \u001b[0;34m\"\"\"Add labels to the left and bottom Axes.\"\"\"\u001b[0m\u001b[0;34m\u001b[0m\u001b[0;34m\u001b[0m\u001b[0m\n\u001b[0;32m-> 1543\u001b[0;31m         \u001b[0;32mfor\u001b[0m \u001b[0max\u001b[0m\u001b[0;34m,\u001b[0m \u001b[0mlabel\u001b[0m \u001b[0;32min\u001b[0m \u001b[0mzip\u001b[0m\u001b[0;34m(\u001b[0m\u001b[0mself\u001b[0m\u001b[0;34m.\u001b[0m\u001b[0maxes\u001b[0m\u001b[0;34m[\u001b[0m\u001b[0;34m-\u001b[0m\u001b[0;36m1\u001b[0m\u001b[0;34m,\u001b[0m \u001b[0;34m:\u001b[0m\u001b[0;34m]\u001b[0m\u001b[0;34m,\u001b[0m \u001b[0mself\u001b[0m\u001b[0;34m.\u001b[0m\u001b[0mx_vars\u001b[0m\u001b[0;34m)\u001b[0m\u001b[0;34m:\u001b[0m\u001b[0;34m\u001b[0m\u001b[0;34m\u001b[0m\u001b[0m\n\u001b[0m\u001b[1;32m   1544\u001b[0m             \u001b[0max\u001b[0m\u001b[0;34m.\u001b[0m\u001b[0mset_xlabel\u001b[0m\u001b[0;34m(\u001b[0m\u001b[0mlabel\u001b[0m\u001b[0;34m)\u001b[0m\u001b[0;34m\u001b[0m\u001b[0;34m\u001b[0m\u001b[0m\n\u001b[1;32m   1545\u001b[0m         \u001b[0;32mfor\u001b[0m \u001b[0max\u001b[0m\u001b[0;34m,\u001b[0m \u001b[0mlabel\u001b[0m \u001b[0;32min\u001b[0m \u001b[0mzip\u001b[0m\u001b[0;34m(\u001b[0m\u001b[0mself\u001b[0m\u001b[0;34m.\u001b[0m\u001b[0maxes\u001b[0m\u001b[0;34m[\u001b[0m\u001b[0;34m:\u001b[0m\u001b[0;34m,\u001b[0m \u001b[0;36m0\u001b[0m\u001b[0;34m]\u001b[0m\u001b[0;34m,\u001b[0m \u001b[0mself\u001b[0m\u001b[0;34m.\u001b[0m\u001b[0my_vars\u001b[0m\u001b[0;34m)\u001b[0m\u001b[0;34m:\u001b[0m\u001b[0;34m\u001b[0m\u001b[0;34m\u001b[0m\u001b[0m\n",
      "\u001b[0;31mIndexError\u001b[0m: index -1 is out of bounds for axis 0 with size 0"
     ]
    },
    {
     "data": {
      "text/plain": [
       "<Figure size 0x0 with 0 Axes>"
      ]
     },
     "metadata": {},
     "output_type": "display_data"
    }
   ],
   "source": [
    "sns.pairplot(df)"
   ]
  },
  {
   "cell_type": "code",
   "execution_count": 15,
   "metadata": {},
   "outputs": [
    {
     "name": "stdout",
     "output_type": "stream",
     "text": [
      "Empty DataFrame\n",
      "Columns: []\n",
      "Index: []\n"
     ]
    }
   ],
   "source": [
    "correlation_matrix = df.corr().round(2)\n",
    "print (correlation_matrix)\n",
    "# annot = True to print the values inside the square\n",
    "#fig, ax = plt.subplots(figsize=(12,10)) \n",
    "#sns.heatmap(data=correlation_matrix, annot=True)"
   ]
  },
  {
   "cell_type": "code",
   "execution_count": 22,
   "metadata": {},
   "outputs": [
    {
     "data": {
      "text/plain": [
       "('2 weeks', 'A684346', 'Cat', 'Domestic Shorthair Mix', 'Orange Tabby', '2014-07-07T00:00:00.000000000', '2014-07-22T16:04:00.000000000', '2014-07-22T16:04:00.000000000', nan, 'Partner', 'Transfer', 'Intact Male')"
      ]
     },
     "execution_count": 22,
     "metadata": {},
     "output_type": "execute_result"
    }
   ],
   "source": [
    "df.to_records(index=False)[0]"
   ]
  },
  {
   "cell_type": "code",
   "execution_count": 23,
   "metadata": {},
   "outputs": [],
   "source": [
    "import psycopg2\n",
    "from psycopg2 import sql"
   ]
  },
  {
   "cell_type": "code",
   "execution_count": 37,
   "metadata": {},
   "outputs": [
    {
     "name": "stdout",
     "output_type": "stream",
     "text": [
      "delete=> DELETE FROM \"to_del_10\"\n",
      "insert=> INSERT INTO \"to_del_10\" (\"age_upon_outcome\", \"animal_id\", \"animal_type\", \"date_of_birth\") VALUES (%s, %s, %s, %s)\n"
     ]
    },
    {
     "ename": "TypeError",
     "evalue": "data type \"date\" not understood",
     "output_type": "error",
     "traceback": [
      "\u001b[0;31m---------------------------------------------------------------------------\u001b[0m",
      "\u001b[0;31mTypeError\u001b[0m                                 Traceback (most recent call last)",
      "\u001b[0;32m<ipython-input-37-ca9ab44177a3>\u001b[0m in \u001b[0;36m<module>\u001b[0;34m\u001b[0m\n\u001b[1;32m     21\u001b[0m \u001b[0;34m\u001b[0m\u001b[0m\n\u001b[1;32m     22\u001b[0m         \u001b[0;31m#cursor.execute(insert,df.to_records(index=False,column_dtypes={\"date_of_birth\": \"str\"})[0])\u001b[0m\u001b[0;34m\u001b[0m\u001b[0;34m\u001b[0m\u001b[0;34m\u001b[0m\u001b[0m\n\u001b[0;32m---> 23\u001b[0;31m         \u001b[0mcursor\u001b[0m\u001b[0;34m.\u001b[0m\u001b[0mexecutemany\u001b[0m\u001b[0;34m(\u001b[0m\u001b[0minsert\u001b[0m\u001b[0;34m,\u001b[0m\u001b[0mdf\u001b[0m\u001b[0;34m[\u001b[0m\u001b[0;34m[\u001b[0m\u001b[0;34m'age_upon_outcome'\u001b[0m\u001b[0;34m,\u001b[0m\u001b[0;34m'animal_id'\u001b[0m\u001b[0;34m,\u001b[0m\u001b[0;34m'animal_type'\u001b[0m\u001b[0;34m,\u001b[0m\u001b[0;34m'date_of_birth'\u001b[0m\u001b[0;34m]\u001b[0m\u001b[0;34m]\u001b[0m\u001b[0;34m.\u001b[0m\u001b[0mto_records\u001b[0m\u001b[0;34m(\u001b[0m\u001b[0mindex\u001b[0m\u001b[0;34m=\u001b[0m\u001b[0;32mFalse\u001b[0m\u001b[0;34m,\u001b[0m\u001b[0mcolumn_dtypes\u001b[0m\u001b[0;34m=\u001b[0m\u001b[0;34m{\u001b[0m\u001b[0;34m\"date_of_birth\"\u001b[0m\u001b[0;34m:\u001b[0m \u001b[0;34m\"date\"\u001b[0m\u001b[0;34m}\u001b[0m\u001b[0;34m)\u001b[0m\u001b[0;34m[\u001b[0m\u001b[0;36m0\u001b[0m\u001b[0;34m]\u001b[0m\u001b[0;34m)\u001b[0m\u001b[0;34m\u001b[0m\u001b[0;34m\u001b[0m\u001b[0m\n\u001b[0m",
      "\u001b[0;32m~/anaconda3/lib/python3.7/site-packages/pandas/core/frame.py\u001b[0m in \u001b[0;36mto_records\u001b[0;34m(self, index, column_dtypes, index_dtypes)\u001b[0m\n\u001b[1;32m   1842\u001b[0m                 \u001b[0;32mraise\u001b[0m \u001b[0mValueError\u001b[0m\u001b[0;34m(\u001b[0m\u001b[0mmsg\u001b[0m\u001b[0;34m)\u001b[0m\u001b[0;34m\u001b[0m\u001b[0;34m\u001b[0m\u001b[0m\n\u001b[1;32m   1843\u001b[0m \u001b[0;34m\u001b[0m\u001b[0m\n\u001b[0;32m-> 1844\u001b[0;31m         \u001b[0;32mreturn\u001b[0m \u001b[0mnp\u001b[0m\u001b[0;34m.\u001b[0m\u001b[0mrec\u001b[0m\u001b[0;34m.\u001b[0m\u001b[0mfromarrays\u001b[0m\u001b[0;34m(\u001b[0m\u001b[0marrays\u001b[0m\u001b[0;34m,\u001b[0m \u001b[0mdtype\u001b[0m\u001b[0;34m=\u001b[0m\u001b[0;34m{\u001b[0m\u001b[0;34m\"names\"\u001b[0m\u001b[0;34m:\u001b[0m \u001b[0mnames\u001b[0m\u001b[0;34m,\u001b[0m \u001b[0;34m\"formats\"\u001b[0m\u001b[0;34m:\u001b[0m \u001b[0mformats\u001b[0m\u001b[0;34m}\u001b[0m\u001b[0;34m)\u001b[0m\u001b[0;34m\u001b[0m\u001b[0;34m\u001b[0m\u001b[0m\n\u001b[0m\u001b[1;32m   1845\u001b[0m \u001b[0;34m\u001b[0m\u001b[0m\n\u001b[1;32m   1846\u001b[0m     \u001b[0;34m@\u001b[0m\u001b[0mclassmethod\u001b[0m\u001b[0;34m\u001b[0m\u001b[0;34m\u001b[0m\u001b[0m\n",
      "\u001b[0;32m~/anaconda3/lib/python3.7/site-packages/numpy/core/records.py\u001b[0m in \u001b[0;36mfromarrays\u001b[0;34m(arrayList, dtype, shape, formats, names, titles, aligned, byteorder)\u001b[0m\n\u001b[1;32m    615\u001b[0m \u001b[0;34m\u001b[0m\u001b[0m\n\u001b[1;32m    616\u001b[0m     \u001b[0;32mif\u001b[0m \u001b[0mdtype\u001b[0m \u001b[0;32mis\u001b[0m \u001b[0;32mnot\u001b[0m \u001b[0;32mNone\u001b[0m\u001b[0;34m:\u001b[0m\u001b[0;34m\u001b[0m\u001b[0;34m\u001b[0m\u001b[0m\n\u001b[0;32m--> 617\u001b[0;31m         \u001b[0mdescr\u001b[0m \u001b[0;34m=\u001b[0m \u001b[0msb\u001b[0m\u001b[0;34m.\u001b[0m\u001b[0mdtype\u001b[0m\u001b[0;34m(\u001b[0m\u001b[0mdtype\u001b[0m\u001b[0;34m)\u001b[0m\u001b[0;34m\u001b[0m\u001b[0;34m\u001b[0m\u001b[0m\n\u001b[0m\u001b[1;32m    618\u001b[0m         \u001b[0m_names\u001b[0m \u001b[0;34m=\u001b[0m \u001b[0mdescr\u001b[0m\u001b[0;34m.\u001b[0m\u001b[0mnames\u001b[0m\u001b[0;34m\u001b[0m\u001b[0;34m\u001b[0m\u001b[0m\n\u001b[1;32m    619\u001b[0m     \u001b[0;32melse\u001b[0m\u001b[0;34m:\u001b[0m\u001b[0;34m\u001b[0m\u001b[0;34m\u001b[0m\u001b[0m\n",
      "\u001b[0;31mTypeError\u001b[0m: data type \"date\" not understood"
     ]
    }
   ],
   "source": [
    "with psycopg2.connect(host=\"localhost\", dbname=\"prod2\", user=\"postgres\", password=\"postgres\") as conn:\n",
    "    with conn.cursor() as cursor:\n",
    "        conn.autocommit = True\n",
    "        str_del = sql.SQL(\"DELETE FROM {table}\").format(table=sql.Identifier('to_del_10'))\n",
    "        print('delete=> {}'.format(str_del.as_string(conn)))\n",
    "        cursor.execute(str_del)\n",
    "        values = [\n",
    "            ('ALA', 'Almaty', 'Kazakhstan'),\n",
    "            ('TSE', 'Astana', 'Kazakhstan'),\n",
    "            ('PDX', 'Portland', 'USA'),        ]\n",
    "        #columns = ['age_upon_outcome','animal_id','animal_type','breed','color','date_of_birth','datetime','monthyear','name','outcome_subtype','outcome_type','sex_upon_outcome']\n",
    "        columns = ['age_upon_outcome','animal_id','animal_type','date_of_birth']\n",
    "        insert = sql.SQL(\"INSERT INTO {table} ({fields}) VALUES ({values})\").format(\n",
    "                         fields=sql.SQL(', ').join(map(sql.Identifier, columns)),\n",
    "                         table=sql.Identifier('to_del_10'),\n",
    "                         values=sql.SQL(', ').join(sql.Placeholder() * len(columns)))\n",
    "\n",
    "\n",
    "        #print(insert)\n",
    "        print('insert=> {}'.format(insert.as_string(conn)))\n",
    "\n",
    "        #cursor.execute(insert,df.to_records(index=False,column_dtypes={\"date_of_birth\": \"str\"})[0])\n",
    "        cursor.executemany(insert,df[['age_upon_outcome','animal_id','animal_type','date_of_birth']].to_records(index=False,column_dtypes={\"date_of_birth\": \"date\"})[0])"
   ]
  },
  {
   "cell_type": "code",
   "execution_count": 33,
   "metadata": {},
   "outputs": [
    {
     "name": "stdout",
     "output_type": "stream",
     "text": [
      "1\n",
      "('2 weeks', 'A684346', 'Cat', None, None, None, None, None, None, None, None, None)\n",
      "('1 year', 'A666430', 'Dog', None, None, None, None, None, None, None, None, None)\n",
      "('1 year', 'A675708', 'Dog', None, None, None, None, None, None, None, None, None)\n",
      "('9 years', 'A680386', 'Dog', None, None, None, None, None, None, None, None, None)\n",
      "('5 months', 'A683115', 'Other', None, None, None, None, None, None, None, None, None)\n"
     ]
    }
   ],
   "source": [
    "with psycopg2.connect(host=\"localhost\", dbname=\"prod2\", user=\"postgres\", password=\"postgres\") as conn:\n",
    "    with conn.cursor() as cur:\n",
    "        try:\n",
    "            cur.execute(\"select * from to_del_10 limit 5\")\n",
    "        \n",
    "        except psycopg2.Error as e:\n",
    "            print (e.pgerror)\n",
    "        print('1')\n",
    "        for row in cur:\n",
    "            print(row)"
   ]
  },
  {
   "cell_type": "code",
   "execution_count": null,
   "metadata": {},
   "outputs": [],
   "source": []
  }
 ],
 "metadata": {
  "kernelspec": {
   "display_name": "Python 3",
   "language": "python",
   "name": "python3"
  },
  "language_info": {
   "codemirror_mode": {
    "name": "ipython",
    "version": 3
   },
   "file_extension": ".py",
   "mimetype": "text/x-python",
   "name": "python",
   "nbconvert_exporter": "python",
   "pygments_lexer": "ipython3",
   "version": "3.7.6"
  }
 },
 "nbformat": 4,
 "nbformat_minor": 4
}
