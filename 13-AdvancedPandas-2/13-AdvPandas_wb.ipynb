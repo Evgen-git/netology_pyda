{
 "cells": [
  {
   "cell_type": "code",
   "execution_count": 1,
   "metadata": {},
   "outputs": [],
   "source": [
    "import numpy as np\n",
    "import pandas as pd\n",
    "from datetime import datetime, date, time, timedelta\n",
    "from functools import reduce"
   ]
  },
  {
   "cell_type": "markdown",
   "metadata": {},
   "source": [
    "### Задание 1\n",
    "\n",
    "Используйте файл с оценками фильмов ml-latest-small/ratings.csv. Посчитайте среднее время жизни пользователей, которые выставили более 100 оценок. Под временем жизни понимается разница между максимальным и минимальным значением столбца timestamp для данного значения userId."
   ]
  },
  {
   "cell_type": "code",
   "execution_count": 2,
   "metadata": {},
   "outputs": [
    {
     "name": "stdout",
     "output_type": "stream",
     "text": [
      "CPU times: user 7.04 s, sys: 19.9 s, total: 26.9 s\n",
      "Wall time: 25.3 s\n"
     ]
    },
    {
     "data": {
      "text/html": [
       "<div>\n",
       "<style scoped>\n",
       "    .dataframe tbody tr th:only-of-type {\n",
       "        vertical-align: middle;\n",
       "    }\n",
       "\n",
       "    .dataframe tbody tr th {\n",
       "        vertical-align: top;\n",
       "    }\n",
       "\n",
       "    .dataframe thead th {\n",
       "        text-align: right;\n",
       "    }\n",
       "</style>\n",
       "<table border=\"1\" class=\"dataframe\">\n",
       "  <thead>\n",
       "    <tr style=\"text-align: right;\">\n",
       "      <th></th>\n",
       "      <th>userId</th>\n",
       "      <th>movieId</th>\n",
       "      <th>rating</th>\n",
       "      <th>timestamp</th>\n",
       "    </tr>\n",
       "  </thead>\n",
       "  <tbody>\n",
       "    <tr>\n",
       "      <td>0</td>\n",
       "      <td>1</td>\n",
       "      <td>296</td>\n",
       "      <td>5.0</td>\n",
       "      <td>1147880044</td>\n",
       "    </tr>\n",
       "    <tr>\n",
       "      <td>1</td>\n",
       "      <td>1</td>\n",
       "      <td>306</td>\n",
       "      <td>3.5</td>\n",
       "      <td>1147868817</td>\n",
       "    </tr>\n",
       "    <tr>\n",
       "      <td>2</td>\n",
       "      <td>1</td>\n",
       "      <td>307</td>\n",
       "      <td>5.0</td>\n",
       "      <td>1147868828</td>\n",
       "    </tr>\n",
       "    <tr>\n",
       "      <td>3</td>\n",
       "      <td>1</td>\n",
       "      <td>665</td>\n",
       "      <td>5.0</td>\n",
       "      <td>1147878820</td>\n",
       "    </tr>\n",
       "    <tr>\n",
       "      <td>4</td>\n",
       "      <td>1</td>\n",
       "      <td>899</td>\n",
       "      <td>3.5</td>\n",
       "      <td>1147868510</td>\n",
       "    </tr>\n",
       "  </tbody>\n",
       "</table>\n",
       "</div>"
      ],
      "text/plain": [
       "   userId  movieId  rating   timestamp\n",
       "0       1      296     5.0  1147880044\n",
       "1       1      306     3.5  1147868817\n",
       "2       1      307     5.0  1147868828\n",
       "3       1      665     5.0  1147878820\n",
       "4       1      899     3.5  1147868510"
      ]
     },
     "execution_count": 2,
     "metadata": {},
     "output_type": "execute_result"
    }
   ],
   "source": [
    "%%time\n",
    "ratings = pd.read_csv('../10-Pandas/ml-25m/ratings.csv')\n",
    "\n",
    "ratings.head()"
   ]
  },
  {
   "cell_type": "code",
   "execution_count": 5,
   "metadata": {},
   "outputs": [
    {
     "name": "stdout",
     "output_type": "stream",
     "text": [
      "494 days, 4:25:49.007734\n",
      "CPU times: user 8.44 s, sys: 47.9 s, total: 56.4 s\n",
      "Wall time: 1min 12s\n"
     ]
    }
   ],
   "source": [
    "%%time\n",
    "tab1 = ratings.groupby(by='userId')['userId'].agg(cnt='count')\n",
    "tab2 = tab1[tab1['cnt']>100]\n",
    "tab3 = ratings.merge(tab2,how='inner',on='userId')[['userId','timestamp']]\n",
    "tab4 = pd.pivot_table(tab3,values='timestamp',index=['userId'],aggfunc=(np.min,np.max))\n",
    "tab4['diff']=tab4['amax']-tab4['amin']\n",
    "print('{}'.format(timedelta(seconds=tab4['diff'].mean())))\n",
    "# первый вариант\n"
   ]
  },
  {
   "cell_type": "code",
   "execution_count": 69,
   "metadata": {},
   "outputs": [
    {
     "name": "stdout",
     "output_type": "stream",
     "text": [
      "494 days, 4:25:49.007734\n",
      "CPU times: user 1.28 s, sys: 1.54 s, total: 2.81 s\n",
      "Wall time: 2.14 s\n"
     ]
    }
   ],
   "source": [
    "%%time\n",
    "tab1 = ratings.groupby('userId').agg({'timestamp': ['min', 'max', 'count']})\n",
    "tab2 = tab1[tab1['timestamp']['count']>100]\n",
    "tab2.loc[:, ('timestamp','diff')] = tab2['timestamp']['max']-tab2['timestamp']['min']\n",
    "print('{}'.format(timedelta(seconds=tab2.loc[:, ('timestamp','diff')].mean())))\n",
    "# второй вариант\n"
   ]
  },
  {
   "cell_type": "markdown",
   "metadata": {},
   "source": [
    "### Задание 2\n",
    "\n",
    "Дана статистика услуг перевозок клиентов компании по типам (см. файл с кодом занятия). Необходимо сформировать две таблицы:\n",
    "* таблицу с тремя типами выручки для каждого client_id без указания адреса клиента\n",
    "* аналогичную таблицу по типам выручки с указанием адреса клиента\n",
    "\n",
    "Обратите внимание, что в процессе объединения таблиц данные не должны теряться."
   ]
  },
  {
   "cell_type": "markdown",
   "metadata": {},
   "source": [
    "Дана статистика услуг перевозок клиентов компании по типам:\n",
    "- rzd - железнодорожные перевозки\n",
    "- auto - автомобильные перевозки\n",
    "- air - воздушные перевозки\n",
    "- client_base - адреса клиентов"
   ]
  },
  {
   "cell_type": "code",
   "execution_count": 64,
   "metadata": {},
   "outputs": [
    {
     "name": "stdout",
     "output_type": "stream",
     "text": [
      "   client_id  rzd_revenue\n",
      "0        111         1093\n",
      "1        112         2810\n",
      "2        113        10283\n",
      "3        114         5774\n",
      "4        115          981\n",
      "   client_id  auto_revenue\n",
      "0        113         57483\n",
      "1        114            83\n",
      "2        115           912\n",
      "3        116          4834\n",
      "4        117            98\n",
      "   client_id  air_revenue\n",
      "0        115           81\n",
      "1        116            4\n",
      "2        117           13\n",
      "3        118          173\n",
      "   client_id          address\n",
      "0        111  Комсомольская 4\n",
      "1        112   Энтузиастов 8а\n",
      "2        113  Левобережная 1а\n",
      "3        114          Мира 14\n",
      "4        115        ЗЖБИиДК 1\n",
      "5        116    Строителей 18\n",
      "6        117  Панфиловская 33\n",
      "7        118     Мастеркова 4\n"
     ]
    }
   ],
   "source": [
    "rzd = pd.DataFrame(\n",
    "    {\n",
    "        'client_id': [111, 112, 113, 114, 115],\n",
    "        'rzd_revenue': [1093, 2810, 10283, 5774, 981]\n",
    "    }\n",
    ")\n",
    "auto = pd.DataFrame(\n",
    "    {\n",
    "        'client_id': [113, 114, 115, 116, 117],\n",
    "        'auto_revenue': [57483, 83, 912, 4834, 98]\n",
    "    }\n",
    ")\n",
    "air = pd.DataFrame(\n",
    "    {\n",
    "        'client_id': [115, 116, 117, 118],\n",
    "        'air_revenue': [81, 4, 13, 173]\n",
    "    }\n",
    ")\n",
    "client_base = pd.DataFrame(\n",
    "    {\n",
    "        'client_id': [111, 112, 113, 114, 115, 116, 117, 118],\n",
    "        'address': ['Комсомольская 4', 'Энтузиастов 8а', 'Левобережная 1а', 'Мира 14', 'ЗЖБИиДК 1', \n",
    "                    'Строителей 18', 'Панфиловская 33', 'Мастеркова 4']\n",
    "    }\n",
    ")\n",
    "print(rzd)\n",
    "print(auto)\n",
    "print(air)\n",
    "print(client_base)\n"
   ]
  },
  {
   "cell_type": "code",
   "execution_count": 65,
   "metadata": {},
   "outputs": [
    {
     "name": "stdout",
     "output_type": "stream",
     "text": [
      "   client_id  rzd_revenue  auto_revenue  air_revenue\n",
      "0        111       1093.0           0.0          0.0\n",
      "1        112       2810.0           0.0          0.0\n",
      "2        113      10283.0       57483.0          0.0\n",
      "3        114       5774.0          83.0          0.0\n",
      "4        115        981.0         912.0         81.0\n",
      "5        116          0.0        4834.0          4.0\n",
      "6        117          0.0          98.0         13.0\n",
      "7        118          0.0           0.0        173.0\n"
     ]
    }
   ],
   "source": [
    "df = [rzd, auto, air]\n",
    "set1 = reduce(lambda  left,right: pd.merge(left,right,on=['client_id'],how='outer'), df).fillna(0)\n",
    "print(set1)"
   ]
  },
  {
   "cell_type": "code",
   "execution_count": 66,
   "metadata": {},
   "outputs": [
    {
     "name": "stdout",
     "output_type": "stream",
     "text": [
      "   client_id  rzd_revenue  auto_revenue  air_revenue          address\n",
      "0        111       1093.0           0.0          0.0  Комсомольская 4\n",
      "1        112       2810.0           0.0          0.0   Энтузиастов 8а\n",
      "2        113      10283.0       57483.0          0.0  Левобережная 1а\n",
      "3        114       5774.0          83.0          0.0          Мира 14\n",
      "4        115        981.0         912.0         81.0        ЗЖБИиДК 1\n",
      "5        116          0.0        4834.0          4.0    Строителей 18\n",
      "6        117          0.0          98.0         13.0  Панфиловская 33\n",
      "7        118          0.0           0.0        173.0     Мастеркова 4\n"
     ]
    }
   ],
   "source": [
    "set2 = set1.merge(client_base,on='client_id',how='left' )\n",
    "print(set2)"
   ]
  },
  {
   "cell_type": "markdown",
   "metadata": {},
   "source": [
    "### Задание 3\n",
    "\n",
    "В задаче сквозной аналитики вам предоставили данные по местоположению пользователей. Т. е. для каждого user_id известна последовательность координат (широта/долгота), когда они требовались приложению для полноценной работы. Как бы вы добавили эти сведения в таблицу визитов и покупок? Для составления ответа можно использовать вопросы:\n",
    "* У каждого пользователя известен набор координат. А для связывания с визитом или фактом покупки скорее всего потребуется одно-два числа. Как их получить?\n",
    "* Наборы координат одного и того же пользователя могут быть значительно удалены друг от друга. Как это отразится на вопросе расчетах пункта 1?\n",
    "* Какие дополнительные признаки можно получить из координат? Ведь это просто числа, которые сами по себе мало что дают."
   ]
  },
  {
   "cell_type": "markdown",
   "metadata": {},
   "source": [
    "##### что-то я не понял кким образом от какого лица давать ответ. Напишу всё что я думаю по этой задаче.\n",
    "\n",
    "    1) \n",
    "    Надеюсь, что у визитов и покупок, есть ни только дата, но и время. \n",
    "    \n",
    "    Данные о местоположении так же содержат временную отметку, где была зафиксированна координата.\n",
    "    \n",
    "    Однако время покупки и время фиксации координаты могут не совподатать.\n",
    "    Таким образом, нужно брать предшествующую коорднату и последующую, относительно времни покупки.\n",
    "    \n",
    "    Для того чтобы определить передшествующую и последующую координату, нужно датасет с последомательностью координав во времени, отсортировать по времени и пронумеровать строки, сделать так же и вов торой дата сет, только нумерацию сдлать уже как N-1, затем нужно соединить два датасета по номеру строки. Таким образом получим предшествующую и последующию координату,а также предшествуещее и последующее время (от и до) в обной строке. Важно чтобы дата/время \"до\" (предшествующей строки) ,была меньше и не равнялась дата/время \"от\" (последующей строки).\n",
    "    \n",
    "    После подготовки датасета с координатами и времени, нужно для каждого времени визита/покупки, найти интервал времени координат включающий время визита/покупки.\n",
    "\n",
    "    2)\n",
    "    Координаты до и после покупки могут находиться в значительном удалении друг от друга. Так как мы не можем более точно определитьего место положение во время покупки, то придется прибегнуть к каким-либо методам интерполяции. У нас есть три временные отметки и две точки на плоскости. Простейшим способом, будет нахождение координаты в момент покупки, к относительно пропорциональному сопоставлению времени покупк и между времени координаты \"от\" или \"до\".\n",
    "\n",
    "    3) \n",
    "    После определения одной координаты покупки, мы можем сопоставить на карте области и регионы, где совершают больше всего визитов/покупкупок. А из этого можно сделать анализ по целевой группе клиентов. Так же возможна более обосновая маркентиговая стратегия. К примеру в каком райне стоит запустить более интентсивно рекламу.\n",
    "    "
   ]
  },
  {
   "cell_type": "code",
   "execution_count": null,
   "metadata": {},
   "outputs": [],
   "source": []
  }
 ],
 "metadata": {
  "kernelspec": {
   "display_name": "Python 3",
   "language": "python",
   "name": "python3"
  },
  "language_info": {
   "codemirror_mode": {
    "name": "ipython",
    "version": 3
   },
   "file_extension": ".py",
   "mimetype": "text/x-python",
   "name": "python",
   "nbconvert_exporter": "python",
   "pygments_lexer": "ipython3",
   "version": "3.7.4"
  }
 },
 "nbformat": 4,
 "nbformat_minor": 2
}
