{
 "cells": [
  {
   "cell_type": "markdown",
   "metadata": {},
   "source": [
    "## Задание 1"
   ]
  },
  {
   "cell_type": "markdown",
   "metadata": {},
   "source": [
    "Дан список вида:"
   ]
  },
  {
   "cell_type": "code",
   "execution_count": 1,
   "metadata": {},
   "outputs": [],
   "source": [
    "import pprint as pr"
   ]
  },
  {
   "cell_type": "code",
   "execution_count": 2,
   "metadata": {},
   "outputs": [],
   "source": [
    "data = [\n",
    "    [13, 25, 23, 34],\n",
    "    [45, 32, 44, 47],\n",
    "    [12, 33, 23, 95],\n",
    "    [13, 53, 34, 35]\n",
    "]"
   ]
  },
  {
   "cell_type": "markdown",
   "metadata": {},
   "source": [
    "Напишите функцию, которая возвращает сумму элементов на диагонали. Т. е. 13+32+23+35.  \n",
    "Список может быть любой длины, но всегда является \"квадратным\" (количество элементов во вложенных списках равно их количеству)."
   ]
  },
  {
   "cell_type": "code",
   "execution_count": 3,
   "metadata": {},
   "outputs": [],
   "source": [
    "def sum_list():\n",
    "    sm = 0\n",
    "    for dt in range(len(data)):\n",
    "        sm += data[dt][dt]\n",
    "    return sm\n",
    "\n"
   ]
  },
  {
   "cell_type": "code",
   "execution_count": 4,
   "metadata": {},
   "outputs": [
    {
     "name": "stdout",
     "output_type": "stream",
     "text": [
      "103\n"
     ]
    }
   ],
   "source": [
    "print(sum_list())"
   ]
  },
  {
   "cell_type": "markdown",
   "metadata": {},
   "source": [
    "## Задание 2"
   ]
  },
  {
   "cell_type": "markdown",
   "metadata": {},
   "source": [
    "Напишите функцию, возвращающую сумму первых n чисел Фибоначчи (для этого вам может понадобится ознакомиться с рекурсией)."
   ]
  },
  {
   "cell_type": "code",
   "execution_count": 5,
   "metadata": {},
   "outputs": [],
   "source": [
    "def fib(n):\n",
    "    if n<3:\n",
    "        return 1\n",
    "    return fib(n-1) + fib(n-2)\n"
   ]
  },
  {
   "cell_type": "code",
   "execution_count": 6,
   "metadata": {},
   "outputs": [
    {
     "name": "stdout",
     "output_type": "stream",
     "text": [
      "3\n"
     ]
    }
   ],
   "source": [
    "print(fib(4))"
   ]
  },
  {
   "cell_type": "markdown",
   "metadata": {},
   "source": [
    "## Задание 3\n"
   ]
  },
  {
   "cell_type": "markdown",
   "metadata": {},
   "source": [
    "Напишите функцию, преобразующую произвольный список вида ['2018-01-01', 'yandex', 'cpc', 100] (он может быть любой длины) в словарь {'2018-01-01': {'yandex': {'cpc': 100}}}"
   ]
  },
  {
   "cell_type": "code",
   "execution_count": 7,
   "metadata": {},
   "outputs": [],
   "source": [
    "ls = ['2018-01-01', 'yandex', 'cpc', 100]"
   ]
  },
  {
   "cell_type": "code",
   "execution_count": 8,
   "metadata": {},
   "outputs": [],
   "source": [
    "def list_to_json(ls, itr = 0):\n",
    "    if itr>=len(ls)-1:\n",
    "        return ls[itr]\n",
    "    return dict.fromkeys([ls[itr]],list_to_json(ls,itr+1))"
   ]
  },
  {
   "cell_type": "code",
   "execution_count": 9,
   "metadata": {},
   "outputs": [
    {
     "name": "stdout",
     "output_type": "stream",
     "text": [
      "{'2018-01-01': {'yandex': {'cpc': 100}}}\n"
     ]
    }
   ],
   "source": [
    "print(list_to_json(ls))"
   ]
  },
  {
   "cell_type": "markdown",
   "metadata": {},
   "source": [
    "## Задание 4"
   ]
  },
  {
   "cell_type": "markdown",
   "metadata": {},
   "source": [
    "Вы работаете секретарем и вам постоянно приходят различные документы. Вы должны быть очень внимательны, чтобы не потерять ни один документ. Каталог документов хранится в следующем виде:"
   ]
  },
  {
   "cell_type": "code",
   "execution_count": 10,
   "metadata": {},
   "outputs": [],
   "source": [
    "documents = [\n",
    "    {'type': 'passport', 'number': '2207 876234', 'name': 'Василий Гупкин'},\n",
    "    {'type': 'invoice', 'number': '11-2', 'name': 'Геннадий Покемонов'},\n",
    "    {'type': 'insurance', 'number': '10006', 'name': 'Аристарх Павлов'}\n",
    "]"
   ]
  },
  {
   "cell_type": "markdown",
   "metadata": {},
   "source": [
    "Перечень полок, на которых находятся документы хранится в следующем виде:"
   ]
  },
  {
   "cell_type": "code",
   "execution_count": 11,
   "metadata": {},
   "outputs": [],
   "source": [
    "directories = {\n",
    "    '1': ['2207 876234', '11-2', '5455 028765'],\n",
    "    '2': ['10006', '5400 028765', '5455 002299'],\n",
    "    '3': []\n",
    "}"
   ]
  },
  {
   "cell_type": "markdown",
   "metadata": {},
   "source": [
    "Необходимо реализовать пользовательские команды (внимание! это не название функций, которые должны быть выразительными, а команды, которые вводит пользователь, чтобы получить необходимый результат):\n",
    "  \n",
    "- p – people – команда, которая спросит номер документа и выведет имя человека, которому он принадлежит;  \n",
    "- s – shelf – команда, которая спросит номер документа и выведет номер полки, на которой он находится  \n",
    "Правильно обработайте ситуацию, когда пользователь будет вводить несуществующий документ.\n",
    "- l – list – команда, которая выведет список всех документов в формате   \n",
    "**passport \"2207 876234\" \"Василий Гупкин\"**  \n",
    "- as – add shelf – команда, которая спросит номер новой полки и добавит ее в перечень\n",
    "- d – delete – команда, которая спросит номер документа и удалит его из каталога и из перечня полок. Предусмотрите сценарий, когда пользователь вводит несуществующий документ;  \n",
    "- m – move – команда, которая спросит номер документа и целевую полку и переместит его с текущей полки на целевую. Корректно обработайте кейсы, когда пользователь пытается переместить несуществующий документ или переместить документ на несуществующую полку;  \n",
    "- a – add – команда, которая добавит новый документ в каталог и в перечень полок, спросив его номер, тип, имя владельца и номер полки, на котором он будет храниться."
   ]
  },
  {
   "cell_type": "code",
   "execution_count": 57,
   "metadata": {},
   "outputs": [],
   "source": [
    "def mgn_documents():\n",
    "    while 1==1:\n",
    "        v = str(input('Введите команду или N(для выхода) => ')).lower()\n",
    "        if v == 'n':\n",
    "            break\n",
    "        elif v == 'p':\n",
    "            flag = 0\n",
    "            num_Doc = str(input('Введите номер документа => '))\n",
    "            for v_item in documents:\n",
    "                #print(v_item.get('number','key not found'))\n",
    "                if v_item.get('number') == num_Doc:\n",
    "                    flag=1\n",
    "                    print('Имя => {}'.format(v_item.get('name','name is empty')))\n",
    "                    break\n",
    "            if flag == 0:\n",
    "                print('Not exists number of document into directories')\n",
    "                \n",
    "        elif v == 's':\n",
    "            flag = 0\n",
    "            num_Doc = str(input('Введите номер документа => '))\n",
    "            for v_key, v_item in directories.items():\n",
    "                #print(v_item.get('number','key not found'))\n",
    "                if num_Doc in v_item:\n",
    "                    flag = 1\n",
    "                    print('Полка => {}'.format(v_key))\n",
    "                    break\n",
    "            if flag == 0:\n",
    "                print('Not exists number of document into any shelf')\n",
    "\n",
    "        elif v == 'l':\n",
    "            for v_item in documents:\n",
    "                print('{} \"{}\" \"{}\"'.format(v_item.get('type'),v_item.get('number'),v_item.get('name')))\n",
    "        elif v == 'ld':\n",
    "            for v_key, v_item in directories.items():\n",
    "                print('Key = {}; value = {} '.format(v_key, v_item))\n",
    "        elif v == 'as':\n",
    "            num_Shelf = str(input('Введите номер новой полки => '))\n",
    "            directories.setdefault(num_Shelf,[])\n",
    "            \n",
    "        elif v == 'd':\n",
    "            num_Doc = str(input('Введите номер документа => '))\n",
    "            flag = 0\n",
    "            for v_item in enumerate(documents):\n",
    "                #print(v_item[1])\n",
    "                if v_item[1].get('number') == num_Doc:\n",
    "                    flag = 1\n",
    "                    documents.pop(v_item[0])\n",
    "                    print('Deleted document. index of = {}'.format(v_item[0]))\n",
    "                    break\n",
    "            if flag == 0:\n",
    "                print('Not exists number of document into directories')\n",
    "\n",
    "            flag = 0\n",
    "            for v_key,v_val in directories.items():\n",
    "                for v_item in enumerate(v_val):\n",
    "                    #print(v_item[1])\n",
    "                    if v_item[1] == num_Doc:\n",
    "                        flag = 1\n",
    "                        directories[v_key].pop(v_item[0])\n",
    "                        print('Deleted number of document. shelf = {} ; index = {}'.format(v_key, v_item[0]))\n",
    "                        break\n",
    "            if flag == 0:\n",
    "                print('Not exists number of document into any shelf')\n",
    "\n",
    "        elif v == 'm':\n",
    "            flag = 0\n",
    "            num_Doc = str(input('Введите номер документа => '))\n",
    "            num_target_Shelf = str(input('Введите номер целевой полки => '))\n",
    "            \n",
    "            for v_key, v_item in directories.items():\n",
    "                if num_Doc in v_item:\n",
    "                    flag = 1\n",
    "                    num_curr_shelf = v_key\n",
    "                    print('Текущий номер полки => {}'.format(num_curr_shelf))\n",
    "                    break\n",
    "            if flag == 0:\n",
    "                print('Not exists number of document into directories')\n",
    "            else:\n",
    "                if num_target_Shelf in directories:\n",
    "                    directories.get(num_target_Shelf).append(num_Doc)\n",
    "                    directories.get(num_curr_shelf).pop([t[0] for t in enumerate(directories.get(num_curr_shelf)) if t[1]==num_Doc][0])\n",
    "                    print('Document {} move from current shelf №{} into target shelf №{}'.format(num_Doc,num_curr_shelf,num_target_Shelf))\n",
    "                else:\n",
    "                    print('Not exists target shelf')\n",
    "        elif v == 'a':\n",
    "            num_Doc = str(input('Введите номер документа => '))\n",
    "            if max(map(lambda x: True if x.get('number') == num_Doc else False,documents)):\n",
    "                print('Number of document is exists')\n",
    "            else:\n",
    "                type_Doc = str(input('Введите тип документа => '))\n",
    "                name_Doc = str(input('Введите имя владельца => '))\n",
    "                num_Shelf = str(input('Введите номер полки => '))\n",
    "                if not max(map(lambda x: True if num_Shelf in x.get('number') else False,documents)):\n",
    "                    print('Number of shelf №:{} is not exists'.format(num_Shelf))\n",
    "                else:\n",
    "                    dc = dict.fromkeys(documents[0].keys())\n",
    "                    for rw in zip(documents[0].keys(), [type_Doc,num_Doc,name_Doc]): dc[rw[0]]=rw[1]\n",
    "                    documents.append(dc)\n",
    "                    directories[num_Shelf].append(num_Doc)\n",
    "        else:\n",
    "            print('Unknow command')\n",
    "        print()\n",
    "\n",
    "    return 'Stop command'"
   ]
  },
  {
   "cell_type": "code",
   "execution_count": 58,
   "metadata": {},
   "outputs": [
    {
     "name": "stdout",
     "output_type": "stream",
     "text": [
      "Введите команду или N(для выхода) => n\n"
     ]
    },
    {
     "data": {
      "text/plain": [
       "'Stop command'"
      ]
     },
     "execution_count": 58,
     "metadata": {},
     "output_type": "execute_result"
    }
   ],
   "source": [
    "mgn_documents()"
   ]
  }
 ],
 "metadata": {
  "kernelspec": {
   "display_name": "Python 3",
   "language": "python",
   "name": "python3"
  },
  "language_info": {
   "codemirror_mode": {
    "name": "ipython",
    "version": 3
   },
   "file_extension": ".py",
   "mimetype": "text/x-python",
   "name": "python",
   "nbconvert_exporter": "python",
   "pygments_lexer": "ipython3",
   "version": "3.7.4"
  }
 },
 "nbformat": 4,
 "nbformat_minor": 2
}
