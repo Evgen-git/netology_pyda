{
 "cells": [
  {
   "cell_type": "markdown",
   "metadata": {},
   "source": [
    "## Задание 1"
   ]
  },
  {
   "cell_type": "markdown",
   "metadata": {},
   "source": [
    "Дан список вида:"
   ]
  },
  {
   "cell_type": "code",
   "execution_count": 1,
   "metadata": {},
   "outputs": [],
   "source": [
    "data = [\n",
    "    [13, 25, 23, 34],\n",
    "    [45, 32, 44, 47],\n",
    "    [12, 33, 23, 95],\n",
    "    [13, 53, 34, 35]\n",
    "]"
   ]
  },
  {
   "cell_type": "markdown",
   "metadata": {},
   "source": [
    "Напишите функцию, которая возвращает сумму элементов на диагонали. Т. е. 13+32+23+35.  \n",
    "Список может быть любой длины, но всегда является \"квадратным\" (количество элементов во вложенных списках равно их количеству)."
   ]
  },
  {
   "cell_type": "code",
   "execution_count": 11,
   "metadata": {},
   "outputs": [],
   "source": [
    "def sum_list():\n",
    "    sm = 0\n",
    "    for dt in range(len(data)):\n",
    "        sm += data[dt][dt]\n",
    "    return sm\n",
    "\n"
   ]
  },
  {
   "cell_type": "code",
   "execution_count": 12,
   "metadata": {},
   "outputs": [
    {
     "name": "stdout",
     "output_type": "stream",
     "text": [
      "103\n"
     ]
    }
   ],
   "source": [
    "print(sum_list())"
   ]
  },
  {
   "cell_type": "markdown",
   "metadata": {},
   "source": [
    "## Задание 2"
   ]
  },
  {
   "cell_type": "markdown",
   "metadata": {},
   "source": [
    "Напишите функцию, возвращающую сумму первых n чисел Фибоначчи (для этого вам может понадобится ознакомиться с рекурсией)."
   ]
  },
  {
   "cell_type": "code",
   "execution_count": 12,
   "metadata": {},
   "outputs": [],
   "source": [
    "def fib(n):\n",
    "    if n<3:\n",
    "        return 1\n",
    "    return fib(n-1) + fib(n-2)\n"
   ]
  },
  {
   "cell_type": "code",
   "execution_count": 13,
   "metadata": {},
   "outputs": [
    {
     "name": "stdout",
     "output_type": "stream",
     "text": [
      "3\n"
     ]
    }
   ],
   "source": [
    "print(fib(4))"
   ]
  },
  {
   "cell_type": "markdown",
   "metadata": {},
   "source": [
    "## Задание 3\n"
   ]
  },
  {
   "cell_type": "markdown",
   "metadata": {},
   "source": [
    "Напишите функцию, преобразующую произвольный список вида ['2018-01-01', 'yandex', 'cpc', 100] (он может быть любой длины) в словарь {'2018-01-01': {'yandex': {'cpc': 100}}}"
   ]
  },
  {
   "cell_type": "code",
   "execution_count": 7,
   "metadata": {},
   "outputs": [],
   "source": [
    "ls = ['2018-01-01', 'yandex', 'cpc', 100]"
   ]
  },
  {
   "cell_type": "code",
   "execution_count": 15,
   "metadata": {},
   "outputs": [],
   "source": [
    "def list_to_json(ls, itr = 0):\n",
    "    if itr>=len(ls)-1:\n",
    "        return ls[itr]\n",
    "    return dict.fromkeys([ls[itr]],list_to_json(ls,itr+1))"
   ]
  },
  {
   "cell_type": "code",
   "execution_count": 13,
   "metadata": {},
   "outputs": [
    {
     "name": "stdout",
     "output_type": "stream",
     "text": [
      "{'2018-01-01': {'yandex': {'cpc': 100}}}\n"
     ]
    }
   ],
   "source": [
    "print(list_to_json(ls))"
   ]
  },
  {
   "cell_type": "markdown",
   "metadata": {},
   "source": [
    "## Задание 4"
   ]
  },
  {
   "cell_type": "markdown",
   "metadata": {},
   "source": [
    "Вы работаете секретарем и вам постоянно приходят различные документы. Вы должны быть очень внимательны, чтобы не потерять ни один документ. Каталог документов хранится в следующем виде:"
   ]
  },
  {
   "cell_type": "code",
   "execution_count": 1,
   "metadata": {},
   "outputs": [],
   "source": [
    "documents = [\n",
    "    {'type': 'passport', 'number': '2207 876234', 'name': 'Василий Гупкин'},\n",
    "    {'type': 'invoice', 'number': '11-2', 'name': 'Геннадий Покемонов'},\n",
    "    {'type': 'insurance', 'number': '10006', 'name': 'Аристарх Павлов'}\n",
    "]"
   ]
  },
  {
   "cell_type": "markdown",
   "metadata": {},
   "source": [
    "Перечень полок, на которых находятся документы хранится в следующем виде:"
   ]
  },
  {
   "cell_type": "code",
   "execution_count": 8,
   "metadata": {},
   "outputs": [],
   "source": [
    "directories = {\n",
    "    '1': ['2207 876234', '11-2', '5455 028765'],\n",
    "    '2': ['10006', '5400 028765', '5455 002299'],\n",
    "    '3': []\n",
    "}"
   ]
  },
  {
   "cell_type": "markdown",
   "metadata": {},
   "source": [
    "Необходимо реализовать пользовательские команды (внимание! это не название функций, которые должны быть выразительными, а команды, которые вводит пользователь, чтобы получить необходимый результат):\n",
    "  \n",
    "- p – people – команда, которая спросит номер документа и выведет имя человека, которому он принадлежит;  \n",
    "- s – shelf – команда, которая спросит номер документа и выведет номер полки, на которой он находится  \n",
    "Правильно обработайте ситуацию, когда пользователь будет вводить несуществующий документ.\n",
    "- l – list – команда, которая выведет список всех документов в формате   \n",
    "**passport \"2207 876234\" \"Василий Гупкин\"**  \n",
    "- as – add shelf – команда, которая спросит номер новой полки и добавит ее в перечень\n",
    "- d – delete – команда, которая спросит номер документа и удалит его из каталога и из перечня полок. Предусмотрите сценарий, когда пользователь вводит несуществующий документ;  \n",
    "- m – move – команда, которая спросит номер документа и целевую полку и переместит его с текущей полки на целевую. Корректно обработайте кейсы, когда пользователь пытается переместить несуществующий документ или переместить документ на несуществующую полку;  \n",
    "- a – add – команда, которая добавит новый документ в каталог и в перечень полок, спросив его номер, тип, имя владельца и номер полки, на котором он будет храниться."
   ]
  },
  {
   "cell_type": "code",
   "execution_count": 122,
   "metadata": {},
   "outputs": [],
   "source": [
    "def mgn_documents():\n",
    "    while 1==1:\n",
    "        v = str(input('Введите команду или N(для выхода) => ')).lower()\n",
    "        if v == 'n':\n",
    "            break\n",
    "        elif v == 'p':\n",
    "            flag = 0\n",
    "            num_Doc = str(input('Введите номер документа => '))\n",
    "            for v_item in documents:\n",
    "                #print(v_item.get('number','key not found'))\n",
    "                if v_item.get('number') == num_Doc:\n",
    "                    flag=1\n",
    "                    print('Имя => {}'.format(v_item.get('name','name is empty')))\n",
    "                    break\n",
    "            if flag == 0:\n",
    "                print('Not exists number of document into directories')\n",
    "                \n",
    "        elif v == 's':\n",
    "            flag = 0\n",
    "            num_Doc = str(input('Введите номер документа => '))\n",
    "            for v_key, v_item in directories.items():\n",
    "                #print(v_item.get('number','key not found'))\n",
    "                if num_Doc in v_item:\n",
    "                    flag = 1\n",
    "                    print('Полка => {}'.format(v_key))\n",
    "                    break\n",
    "            if flag == 0:\n",
    "                print('Not exists number of document into any shelf')\n",
    "\n",
    "        elif v == 'l':\n",
    "            for v_item in documents:\n",
    "                print('{} \"{}\" \"{}\"'.format(v_item.get('type'),v_item.get('number'),v_item.get('name')))\n",
    "        elif v == 'as':\n",
    "            num_Shelf = str(input('Введите номер новой полки => '))\n",
    "            directories.setdefault(num_Shelf,[])\n",
    "            \n",
    "        elif v == 'd':\n",
    "            num_Doc = str(input('Введите номер документа => '))\n",
    "            flag = 0\n",
    "            for v_item in enumerate(documents):\n",
    "                #print(v_item[1])\n",
    "                if v_item[1].get('number') == num_Doc:\n",
    "                    flag = 1\n",
    "                    documents.pop(v_item[0])\n",
    "                    print('Deleted document. index of = {}'.format(v_item[0]))\n",
    "                    break\n",
    "            if flag == 0:\n",
    "                print('Not exists number of document into directories')\n",
    "\n",
    "            flag = 0\n",
    "            for v_key,v_val in directories.items():\n",
    "                for v_item in enumerate(v_val):\n",
    "                    #print(v_item[1])\n",
    "                    if v_item[1] == num_Doc:\n",
    "                        flag = 1\n",
    "                        directories[v_key].pop(v_item[0])\n",
    "                        print('Deleted number of document. shelf = {} ; index = {}'.format(v_key, v_item[0]))\n",
    "                        break\n",
    "            if flag == 0:\n",
    "                print('Not exists number of document into any shelf')\n",
    "\n",
    "        elif v == 'm':\n",
    "            flag = 0\n",
    "            num_Doc = str(input('Введите номер документа => '))\n",
    "            num_Shelf = str(input('Введите номер целевой полки => '))\n",
    "            \n",
    "            for v_key, v_item in directories.items():\n",
    "                if num_Doc in v_item:\n",
    "                    flag = 1\n",
    "                    num_curr_shelf = v_key\n",
    "                    print('Текущий номер полки => {}'.format(num_curr_shelf))\n",
    "                if flag == 0:\n",
    "                    print('Not exists number of document into directories')\n",
    "                else:\n",
    "                    directories.get(num_curr_shelf)[[t[0] for t in enumerate(directories.get(num_curr_shelf)) if t[1]=='5400 028765'][0]]\n",
    "\n",
    "        elif v == 'a':\n",
    "            print('Input add')\n",
    "        else:\n",
    "            print('Unknow command')\n",
    "        print()\n",
    "\n",
    "    return 'Stop command'"
   ]
  },
  {
   "cell_type": "code",
   "execution_count": 123,
   "metadata": {},
   "outputs": [
    {
     "name": "stdout",
     "output_type": "stream",
     "text": [
      "Введите команду или N(для выхода) => d\n",
      "Введите номер документа => 55\n",
      "Not exists number of document into catalog\n",
      "Not exists number of document into any shelf\n",
      "\n",
      "Введите команду или N(для выхода) => d\n",
      "Введите номер документа => 11-2\n",
      "Deleted document. index of = 1\n",
      "Deleted number of document. shelf = 1 ; index = 1\n",
      "\n",
      "Введите команду или N(для выхода) => d\n",
      "Введите номер документа => 5455 002299\n",
      "Not exists number of document into catalog\n",
      "Deleted number of document. shelf = 2 ; index = 2\n",
      "\n",
      "Введите команду или N(для выхода) => n\n"
     ]
    },
    {
     "data": {
      "text/plain": [
       "'Stop command'"
      ]
     },
     "execution_count": 123,
     "metadata": {},
     "output_type": "execute_result"
    }
   ],
   "source": [
    "mgn_documents()"
   ]
  },
  {
   "cell_type": "code",
   "execution_count": 28,
   "metadata": {},
   "outputs": [
    {
     "name": "stdout",
     "output_type": "stream",
     "text": [
      "['10006', '5400 028765', '5455 002299']\n",
      "[(0, '10006'), (1, '5400 028765'), (2, '5455 002299')]\n",
      "1\n"
     ]
    },
    {
     "data": {
      "text/plain": [
       "'5400 028765'"
      ]
     },
     "execution_count": 28,
     "metadata": {},
     "output_type": "execute_result"
    }
   ],
   "source": [
    "print(directories.get('2'))\n",
    "print([t for t in enumerate(directories.get('2'))])\n",
    "print([t[0] for t in enumerate(directories.get('2')) if t[1]=='5400 028765'][0])\n",
    "# print(directories.get('2')[t[0] for t in enumerate(directories.get('2')) if t[1]=='5400 028765'])\n",
    "directories.get('2')[1]\n",
    "directories.get('2')[[t[0] for t in enumerate(directories.get('2')) if t[1]=='5400 028765'][0]]"
   ]
  },
  {
   "cell_type": "code",
   "execution_count": 59,
   "metadata": {},
   "outputs": [
    {
     "name": "stdout",
     "output_type": "stream",
     "text": [
      "{'1': ['2207 876234', '11-2', '5455 028765'], '2': ['10006', '5400 028765', '5455 002299'], '3': [], 6: [], '6': []}\n"
     ]
    }
   ],
   "source": [
    "[x for x in vec if x >= 0]]"
   ]
  },
  {
   "cell_type": "code",
   "execution_count": null,
   "metadata": {},
   "outputs": [],
   "source": [
    "if str(1) in directories:\n",
    "    print('exists')\n",
    "else:\n",
    "    "
   ]
  }
 ],
 "metadata": {
  "kernelspec": {
   "display_name": "Python 3",
   "language": "python",
   "name": "python3"
  },
  "language_info": {
   "codemirror_mode": {
    "name": "ipython",
    "version": 3
   },
   "file_extension": ".py",
   "mimetype": "text/x-python",
   "name": "python",
   "nbconvert_exporter": "python",
   "pygments_lexer": "ipython3",
   "version": "3.7.4"
  }
 },
 "nbformat": 4,
 "nbformat_minor": 2
}
