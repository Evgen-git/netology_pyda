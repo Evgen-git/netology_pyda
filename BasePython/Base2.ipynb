{
 "cells": [
  {
   "cell_type": "markdown",
   "metadata": {},
   "source": [
    "**Задание 1**. Даны 2 строки: *long_phrase* и *short_phrase*. \n",
    "Напишите код, который проверяет действительно ли длинная фраза *long_phrase* длиннее короткой *short_phrase*. И выводит *True* или *False* в зависимости от результата сравнения."
   ]
  },
  {
   "cell_type": "code",
   "execution_count": 5,
   "metadata": {},
   "outputs": [],
   "source": [
    "long_phrase = 'Насколько проще было бы писать программы, если бы не заказчики'\n",
    "short_phrase = '640Кб должно хватить для любых задач. Билл Гейтс (по легенде)'"
   ]
  },
  {
   "cell_type": "code",
   "execution_count": 6,
   "metadata": {},
   "outputs": [
    {
     "name": "stdout",
     "output_type": "stream",
     "text": [
      "True\n"
     ]
    }
   ],
   "source": [
    "print (len(long_phrase)>len(short_phrase))"
   ]
  },
  {
   "cell_type": "markdown",
   "metadata": {},
   "source": [
    "**Задание 2**. Дано значение объема файла в байтах. Напишите перевод этого значения в мегабайты в формате: \"*Объем файла равен 213.68Mb*\""
   ]
  },
  {
   "cell_type": "code",
   "execution_count": 10,
   "metadata": {},
   "outputs": [
    {
     "name": "stdout",
     "output_type": "stream",
     "text": [
      "Объем файла равен 128.68Mb\n"
     ]
    }
   ],
   "source": [
    "print(\"Объем файла равен {0:.2f}Mb\".format(131768/1024))"
   ]
  },
  {
   "cell_type": "markdown",
   "metadata": {},
   "source": [
    "**Задание 3**. Разработать приложение для определения знака зодиака по дате рождения. Пример:\n",
    "\n",
    "Введите месяц: март\n",
    "\n",
    "Введите число: 6\n",
    "\n",
    "Вывод:\n",
    "Рыбы"
   ]
  },
  {
   "cell_type": "code",
   "execution_count": 30,
   "metadata": {},
   "outputs": [
    {
     "name": "stdout",
     "output_type": "stream",
     "text": [
      "Введите месяц:март\n",
      "Введите число месяца:6\n",
      "Введен месяц: март и число: 6\n",
      "Знак зодиака => Рыбы\n"
     ]
    }
   ],
   "source": [
    "month = input('Введите месяц:')\n",
    "numb = int(input('Введите число месяца:'))\n",
    "if month.lower()=='январь':\n",
    "    if numb in (range(1,31)):\n",
    "        print('Введен месяц: {0} и число: {1}'.format(month,numb))\n",
    "        if numb in (range(1,19)):\n",
    "            print('Знак зодиака => Козерог')\n",
    "        else:\n",
    "            print('Знак зодиака => Водолей')\n",
    "    else:\n",
    "        print('Число за границами месяца -> {}'.format(numb))\n",
    "elif month.lower()=='февраль':\n",
    "    if numb in (range(1,28)):\n",
    "        print('Введен месяц: {0} и число: {1}'.format(month,numb))\n",
    "        if numb in (range(1,19)):\n",
    "            print('Знак зодиака => Водолей')\n",
    "        else:\n",
    "            print('Знак зодиака => Рыбы')\n",
    "    else:\n",
    "        print('Число за границами месяца -> {}'.format(numb))\n",
    "elif month.lower()=='март':\n",
    "    if numb in (range(1,31)):\n",
    "        print('Введен месяц: {0} и число: {1}'.format(month,numb))\n",
    "        if numb in (range(1,21)):\n",
    "            print('Знак зодиака => Рыбы')\n",
    "        else:\n",
    "            print('Знак зодиака => Овен')\n",
    "    else:\n",
    "        print('Число за границами месяца -> {}'.format(numb))\n",
    "elif month.lower()=='апрель':\n",
    "    if numb in (range(1,30)):\n",
    "        print('Введен месяц: {0} и число: {1}'.format(month,numb))\n",
    "        if numb in (range(1,21)):\n",
    "            print('Знак зодиака => Овен')\n",
    "        else:\n",
    "            print('Знак зодиака => Телец')\n",
    "    else:\n",
    "        print('Число за границами месяца -> {}'.format(numb))\n",
    "elif month.lower()=='май':\n",
    "    if numb in (range(1,31)):\n",
    "        print('Введен месяц: {0} и число: {1}'.format(month,numb))\n",
    "        if numb in (range(1,21)):\n",
    "            print('Знак зодиака => Телец')\n",
    "        else:\n",
    "            print('Знак зодиака => Близнецы')\n",
    "    else:\n",
    "        print('Число за границами месяца -> {}'.format(numb))\n",
    "elif month.lower()=='июнь':\n",
    "    if numb in (range(1,30)):\n",
    "        print('Введен месяц: {0} и число: {1}'.format(month,numb))\n",
    "        if numb in (range(1,21)):\n",
    "            print('Знак зодиака => Близнецы')\n",
    "        else:\n",
    "            print('Знак зодиака => Рак')\n",
    "    else:\n",
    "        print('Число за границами месяца -> {}'.format(numb))\n",
    "elif month.lower()=='июль':\n",
    "    if numb in (range(1,31)):\n",
    "        print('Введен месяц: {0} и число: {1}'.format(month,numb))\n",
    "        if numb in (range(1,21)):\n",
    "            print('Знак зодиака => Рак')\n",
    "        else:\n",
    "            print('Знак зодиака => Лев')\n",
    "    else:\n",
    "        print('Число за границами месяца -> {}'.format(numb))\n",
    "elif month.lower()=='август':\n",
    "    if numb in (range(1,31)):\n",
    "        print('Введен месяц: {0} и число: {1}'.format(month,numb))\n",
    "        if numb in (range(1,21)):\n",
    "            print('Знак зодиака => Лев')\n",
    "        else:\n",
    "            print('Знак зодиака => Дева')\n",
    "    else:\n",
    "        print('Число за границами месяца -> {}'.format(numb))\n",
    "elif month.lower()=='сентябрь':\n",
    "    if numb in (range(1,30)):\n",
    "        print('Введен месяц: {0} и число: {1}'.format(month,numb))\n",
    "        if numb in (range(1,21)):\n",
    "            print('Знак зодиака => Дева')\n",
    "        else:\n",
    "            print('Знак зодиака => Весы')\n",
    "    else:\n",
    "        print('Число за границами месяца -> {}'.format(numb))\n",
    "elif month.lower()=='октябрь':\n",
    "    if numb in (range(1,31)):\n",
    "        print('Введен месяц: {0} и число: {1}'.format(month,numb))\n",
    "        if numb in (range(1,21)):\n",
    "            print('Знак зодиака => Весы')\n",
    "        else:\n",
    "            print('Знак зодиака => Скорпион')\n",
    "    else:\n",
    "        print('Число за границами месяца -> {}'.format(numb))\n",
    "elif month.lower()=='ноябрь':\n",
    "    if numb in (range(1,30)):\n",
    "        print('Введен месяц: {0} и число: {1}'.format(month,numb))\n",
    "        if numb in (range(1,20)):\n",
    "            print('Знак зодиака => Скорпион')\n",
    "        else:\n",
    "            print('Знак зодиака => Стрелец')\n",
    "    else:\n",
    "        print('Число за границами месяца -> {}'.format(numb))\n",
    "elif month.lower()=='декабрь':\n",
    "    if numb in (range(1,31)):\n",
    "        print('Введен месяц: {0} и число: {1}'.format(month,numb))\n",
    "        if numb in (range(1,21)):\n",
    "            print('Знак зодиака => Стрелец')\n",
    "        else:\n",
    "            print('Знак зодиака => Козерог')\n",
    "    else:\n",
    "        print('Число за границами месяца -> {}'.format(numb))\n",
    "else:\n",
    "    print('Нет такого месяца -> {}'.format(month))\n",
    "\n",
    "    \n",
    "    \n",
    "    "
   ]
  },
  {
   "cell_type": "markdown",
   "metadata": {},
   "source": [
    "**Задание 4**. Нужно разработать приложение для финансового планирования.\n",
    "Приложение учитывает сколько уходит на ипотеку, \"на жизнь\" и сколько нужно отложить на пенсию.\n",
    "Пользователь вводит:\n",
    "- заработанную плату в месяц.\n",
    "- сколько процентов от ЗП уходит на ипотеку.\n",
    "- сколько процентов от ЗП уходит \"на жизнь\".\n",
    "- сколько раз приходит премия в год.\n",
    "\n",
    "Остальная часть заработанной платы откладывается на пенсию.\n",
    "\n",
    "Также пользователю приходит премия в размере зарплаты, от которой половина уходит на отпуск, а вторая половина откладывается.\n",
    "\n",
    "Программа должна учитывать сколько премий было в год.\n",
    "\n",
    "Нужно вывести сколько денег тратит пользователь на ипотеку и сколько он накопит за год.\n",
    "\n",
    "Пример:\n",
    "\n",
    "Введите заработанную плату в месяц: 100000\n",
    "\n",
    "Введите сколько процентов уходит на ипотеку: 30\n",
    "\n",
    "Введите сколько процентов уходит на жизнь: 50\n",
    "\n",
    "Введите количество премий за год: 2\n",
    "\n",
    "Вывод:\n",
    "На ипотеку было потрачено: 360000 рублей\n",
    "Было накоплено: 340000 рублей"
   ]
  },
  {
   "cell_type": "code",
   "execution_count": 36,
   "metadata": {},
   "outputs": [
    {
     "name": "stdout",
     "output_type": "stream",
     "text": [
      "Введите заработанную плату в месяц:100000\n",
      "Введите сколько процентов уходит на ипотеку:30\n",
      "Введите сколько процентов уходит на жизнь:50\n",
      "Введите количество премий за год:2\n",
      "На ипотеку было потрачено: 360000 рублей Было накоплено: 340000 рублей\n"
     ]
    }
   ],
   "source": [
    "zp = int(input('Введите заработанную плату в месяц:'))\n",
    "perc_ip = int(input('Введите сколько процентов уходит на ипотеку:'))\n",
    "perc_jz = int(input('Введите сколько процентов уходит на жизнь:'))\n",
    "cnt_prem = int(input('Введите количество премий за год:'))\n",
    "\n",
    "sm = zp*12\n",
    "sm_ip = zp*12*(perc_ip/100)\n",
    "sm_jz = zp*12*(perc_jz/100)\n",
    "sm_prem = (zp*cnt_prem)/2\n",
    "sm_pens = (sm+sm_prem)-(sm_ip+sm_jz)\n",
    "\n",
    "print('На ипотеку было потрачено: {0:} рублей Было накоплено: {1} рублей'.format(int(sm_ip),int(sm_pens)))"
   ]
  },
  {
   "cell_type": "code",
   "execution_count": null,
   "metadata": {},
   "outputs": [],
   "source": []
  }
 ],
 "metadata": {
  "kernelspec": {
   "display_name": "Python 3",
   "language": "python",
   "name": "python3"
  },
  "language_info": {
   "codemirror_mode": {
    "name": "ipython",
    "version": 3
   },
   "file_extension": ".py",
   "mimetype": "text/x-python",
   "name": "python",
   "nbconvert_exporter": "python",
   "pygments_lexer": "ipython3",
   "version": "3.7.4"
  }
 },
 "nbformat": 4,
 "nbformat_minor": 2
}
