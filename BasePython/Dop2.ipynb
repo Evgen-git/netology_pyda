{
 "cells": [
  {
   "cell_type": "markdown",
   "metadata": {},
   "source": [
    "# Дополнительная задача 1 "
   ]
  },
  {
   "cell_type": "code",
   "execution_count": 24,
   "metadata": {
    "collapsed": false
   },
   "outputs": [
    {
     "name": "stdout",
     "output_type": "stream",
     "text": [
      "Введите число: 35\n",
      "1,2,Fizz,4,Bizz,Fizz,7,8,Fizz,Bizz,11,Fizz,13,14,Fizz Bizz,16,17,Fizz,19,Bizz,Fizz,22,23,Fizz,Bizz,26,Fizz,28,29,Fizz Bizz,31,32,Fizz,34,Bizz\n"
     ]
    }
   ],
   "source": [
    "st = ''\n",
    "num = int(input('Введите число: '))\n",
    "for inc in range(num):\n",
    "    inc = inc+1\n",
    "    nb = 1\n",
    "    str_inc = ''\n",
    "    if inc%3==0:\n",
    "        nb = 0\n",
    "        str_inc = str_inc+'Fizz'+','\n",
    "        #print('inc: {} ; str_inc: {}'.format(inc,str_inc))\n",
    "    if inc%5==0:\n",
    "        nb = 0\n",
    "        str_inc = str_inc.replace(',',' ')+'Bizz'+','\n",
    "        #print('inc: {} ; str_inc: {}'.format(inc,str_inc))\n",
    "    else:\n",
    "        nb = 1*nb\n",
    "    #print('nb = {} ; inc = {} ; str_inc = {}'.format(nb,inc,str_inc))\n",
    "    if nb==1:\n",
    "        st = st+str(inc)+','\n",
    "    else:\n",
    "        st = st+str_inc\n",
    "    \n",
    "print(st[0:-1])\n"
   ]
  },
  {
   "cell_type": "markdown",
   "metadata": {},
   "source": [
    "# Дополнительная задача 2"
   ]
  },
  {
   "cell_type": "code",
   "execution_count": 48,
   "metadata": {
    "collapsed": false
   },
   "outputs": [
    {
     "name": "stdout",
     "output_type": "stream",
     "text": [
      "Периодичность = 4\n"
     ]
    }
   ],
   "source": [
    "str_source = '1011101110111011101110111011101110111011'\n",
    "itr = 4\n",
    "res=0\n",
    "itr_res=0\n",
    "while itr < 1000: \n",
    "    str_template1 = str_source[0:itr]\n",
    "    str_template2 = str_source[itr:2*itr]\n",
    "    #print('itr = {}; str_template1={}; str_template2={};'.format(itr,str_template1,str_template2))\n",
    "    if str_template1==str_template2:\n",
    "        res=1\n",
    "        itr_res = itr\n",
    "    if res==1 and str_template1!=str_template2:\n",
    "        break\n",
    "    itr = itr+1\n",
    "    \n",
    "print('Периодичность = {}'.format(itr_res))\n"
   ]
  },
  {
   "cell_type": "markdown",
   "metadata": {},
   "source": [
    "# Дополнительная задача 3"
   ]
  },
  {
   "cell_type": "code",
   "execution_count": 73,
   "metadata": {
    "collapsed": false
   },
   "outputs": [
    {
     "name": "stdout",
     "output_type": "stream",
     "text": [
      "t\n"
     ]
    }
   ],
   "source": [
    "ts2='tes'\n",
    "ts2='testing'\n",
    "\n",
    "mn = len(ts2)\n",
    "if mn%2 == 0:\n",
    "    #print('1=>{}:{}'.format(int(mn/2)-1,int(mn/2)+1))\n",
    "    res = ts2[int(mn/2)-1:int(mn/2)+1]\n",
    "else:\n",
    "    #print('2=>{}:{}'.format(int(mn/2),int(mn/2)+1))\n",
    "    res = ts2[int(mn/2):int(mn/2)+1]\n",
    "\n",
    "print (res)\n"
   ]
  }
 ],
 "metadata": {
  "kernelspec": {
   "display_name": "Python 3",
   "language": "python",
   "name": "python3"
  },
  "language_info": {
   "codemirror_mode": {
    "name": "ipython",
    "version": 3
   },
   "file_extension": ".py",
   "mimetype": "text/x-python",
   "name": "python",
   "nbconvert_exporter": "python",
   "pygments_lexer": "ipython3",
   "version": "3.6.0"
  }
 },
 "nbformat": 4,
 "nbformat_minor": 2
}
