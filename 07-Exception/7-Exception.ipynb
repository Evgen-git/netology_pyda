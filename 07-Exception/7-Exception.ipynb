{
 "cells": [
  {
   "cell_type": "markdown",
   "metadata": {},
   "source": [
    "### Задание 1\n",
    "Напишите функцию date_range, которая возвращает список дней между датами start_date и end_date. Даты должны вводиться в формате YYYY-MM-DD."
   ]
  },
  {
   "cell_type": "code",
   "execution_count": 6,
   "metadata": {},
   "outputs": [
    {
     "name": "stdout",
     "output_type": "stream",
     "text": [
      "2019-12-04\n",
      "2019-12-05\n",
      "2019-12-06\n",
      "2019-12-07\n",
      "2019-12-08\n",
      "2019-12-09\n",
      "2019-12-10\n",
      "2019-12-11\n",
      "2019-12-12\n",
      "2019-12-13\n",
      "2019-12-14\n"
     ]
    }
   ],
   "source": [
    "from datetime import date as dt\n",
    "from datetime import timedelta as tmd\n",
    "dtm1 = dt.fromisoformat('2019-12-04')\n",
    "dtm2 = dt.fromisoformat('2019-12-14')\n",
    "delta_1d = tmd(days=1) \n",
    "print(dtm1)\n",
    "dtm1 = dtm1+delta_1d\n",
    "print(dtm1)\n",
    "delta_md = (dtm2-dtm1).days\n",
    "for i in range(delta_md):\n",
    "    dtm1 = dtm1+delta_1d\n",
    "    print(dtm1)\n"
   ]
  },
  {
   "cell_type": "code",
   "execution_count": 44,
   "metadata": {},
   "outputs": [],
   "source": [
    "def get_date_from2dt(dt1, dt2):\n",
    "    dtm1 = dt.fromisoformat(dt1)\n",
    "    dtm2 = dt.fromisoformat(dt2)\n",
    "    dtm = []\n",
    "    delta_md = (dtm2-dtm1).days\n",
    "    for i in range(delta_md):\n",
    "        dtm1 = dtm1+delta_1d\n",
    "        dtm.append(dtm1)\n",
    "    return(dtm)\n"
   ]
  },
  {
   "cell_type": "code",
   "execution_count": 45,
   "metadata": {},
   "outputs": [
    {
     "name": "stdout",
     "output_type": "stream",
     "text": [
      "[datetime.date(2019, 12, 5), datetime.date(2019, 12, 6), datetime.date(2019, 12, 7), datetime.date(2019, 12, 8), datetime.date(2019, 12, 9), datetime.date(2019, 12, 10), datetime.date(2019, 12, 11), datetime.date(2019, 12, 12), datetime.date(2019, 12, 13), datetime.date(2019, 12, 14), datetime.date(2019, 12, 15), datetime.date(2019, 12, 16), datetime.date(2019, 12, 17), datetime.date(2019, 12, 18), datetime.date(2019, 12, 19), datetime.date(2019, 12, 20), datetime.date(2019, 12, 21), datetime.date(2019, 12, 22), datetime.date(2019, 12, 23), datetime.date(2019, 12, 24)]\n"
     ]
    }
   ],
   "source": [
    "print(get_date_from2dt('2019-12-04','2019-12-24'))"
   ]
  },
  {
   "cell_type": "markdown",
   "metadata": {},
   "source": [
    "### Задание 2\n",
    "Дополните функцию из первого задания проверкой на корректность дат. В случае неверного формата или если start_date > end_date должен возвращаться пустой список."
   ]
  },
  {
   "cell_type": "code",
   "execution_count": 41,
   "metadata": {},
   "outputs": [],
   "source": [
    "def get_date_from2dt_Ex(dt1, dt2):\n",
    "    dtm = []\n",
    "    try:\n",
    "        dtm1 = dt.fromisoformat(dt1)\n",
    "        dtm2 = dt.fromisoformat(dt2)\n",
    "        delta_md = (dtm2-dtm1).days\n",
    "        if delta_md<0:\n",
    "            raise Exception('begin day more than end day')\n",
    "        for i in range(delta_md):\n",
    "            dtm1 = dtm1+delta_1d\n",
    "            dtm.append(dtm1)\n",
    "    except Exception as e:\n",
    "            print(e)\n",
    "            dtm = []\n",
    "\n",
    "    return(dtm)"
   ]
  },
  {
   "cell_type": "code",
   "execution_count": 42,
   "metadata": {},
   "outputs": [
    {
     "name": "stdout",
     "output_type": "stream",
     "text": [
      "begin day more than end day\n",
      "[]\n"
     ]
    }
   ],
   "source": [
    "print(get_date_from2dt_Ex('2019-12-24','2019-12-14'))\n"
   ]
  },
  {
   "cell_type": "markdown",
   "metadata": {},
   "source": [
    "### Задание 3\n",
    "Дан поток дат в формате YYYY-MM-DD, в которых встречаются некорректные значения:\n",
    "stream = [‘2018-04-02’, ‘2018-02-29’, ‘2018-19-02’]"
   ]
  },
  {
   "cell_type": "code",
   "execution_count": 55,
   "metadata": {},
   "outputs": [],
   "source": [
    "def get_date_fromStram(strm):\n",
    "    dtm = []\n",
    "    for v_row,v_date in enumerate(strm):\n",
    "        try:\n",
    "            dtm.append(dt.fromisoformat(v_date))\n",
    "            print('Date {} of row {}'.format(v_date,v_row))\n",
    "        except Exception as e:\n",
    "                print('Exception {} of row {}'.format(v_date,v_row))\n",
    "                continue\n",
    "\n",
    "    return(dtm)"
   ]
  },
  {
   "cell_type": "code",
   "execution_count": 57,
   "metadata": {},
   "outputs": [
    {
     "name": "stdout",
     "output_type": "stream",
     "text": [
      "Date 2018-04-02 of row 0\n",
      "Exception 2018-02-29 of row 1\n",
      "Exception 2018-19-02 of row 2\n",
      "Date 2020-03-03 of row 3\n",
      "[datetime.date(2018, 4, 2), datetime.date(2020, 3, 3)]\n"
     ]
    }
   ],
   "source": [
    "stream = ['2018-04-02', '2018-02-29', '2018-19-02','2020-03-03']\n",
    "print(get_date_fromStram(stream))"
   ]
  },
  {
   "cell_type": "markdown",
   "metadata": {},
   "source": [
    "### Задание 4 (бонусное)\n",
    "Ваш коллега прислал код функции:\n",
    "\n",
    "DEFAULT_USER_COUNT = 3\n",
    "\n",
    "def delete_and_return_last_user(region, default_list=[‘A100’, ‘A101’, ‘A102’]):\n",
    "\"\"“\n",
    "Удаляет из списка default_list последнего пользователя\n",
    "и возвращает ID нового последнего пользователя.\n",
    "”\"\"\n",
    "element_to_delete = default_list[-1]\n",
    "default_list.remove(element_to_delete)\n",
    "\n",
    "return default_list[DEFAULT_USER_COUNT-2]\n",
    "При однократном вызове этой функции все работает корректно:\n",
    "delete_and_return_last_user(1)\n",
    "‘A101’\n",
    "\n",
    "Однако, при повторном вызове получается ошибка IndexError: list index out of range.\n",
    "\n",
    "Задание:\n",
    "\n",
    "- Что значит ошибка list index out of range?\n",
    "- Почему при первом запуске функция работает корректно, а при втором - нет?"
   ]
  },
  {
   "cell_type": "markdown",
   "metadata": {
    "collapsed": true
   },
   "source": [
    "### Ответ:\n",
    "- это выход за пределы массива\n",
    "- Часто ожидается, что вызов функции создаёт новые объекты для значений по умолчанию. Но это не так. Значения по умолчанию создаются лишь однажды, когда функция определяется.\n",
    "\n",
    "В нашем примере ``` default_list=['A100', 'A101', 'A102'] ``` была равна только один раз, при повторном вызове ``` default_list=['A100', 'A101'] ```"
   ]
  }
 ],
 "metadata": {
  "kernelspec": {
   "display_name": "Python 3",
   "language": "python",
   "name": "python3"
  },
  "language_info": {
   "codemirror_mode": {
    "name": "ipython",
    "version": 3
   },
   "file_extension": ".py",
   "mimetype": "text/x-python",
   "name": "python",
   "nbconvert_exporter": "python",
   "pygments_lexer": "ipython3",
   "version": "3.7.4"
  }
 },
 "nbformat": 4,
 "nbformat_minor": 2
}
