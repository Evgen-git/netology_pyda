{
 "cells": [
  {
   "cell_type": "markdown",
   "metadata": {},
   "source": [
    "#### Вычислите производную $ tg^2(sin(x)+cos(2x+3)) $ в точке  $x_0=1 $ на python и на бумаге (просто подставить точку в производную и ничего не упрощать)."
   ]
  },
  {
   "cell_type": "markdown",
   "metadata": {},
   "source": [
    "$tg^2(sin(x) + cos(2x+3))$\n",
    "\n",
    "$f'(x) = tg^2(sin(x) + cos(2x+3))$\n",
    "\n",
    "#### Первая производная\n",
    "\n",
    "$f'(x) = 2 * \\frac{tg(sin(x) + cos(2x+3))}{cos^2(sin(x) + cos(2x+3))} * (cos(x)-2sin(2x+3) ) $\n",
    "\n",
    "\n"
   ]
  },
  {
   "cell_type": "code",
   "execution_count": 1,
   "metadata": {},
   "outputs": [
    {
     "data": {
      "text/plain": [
       "55.38591763533786"
      ]
     },
     "execution_count": 1,
     "metadata": {},
     "output_type": "execute_result"
    }
   ],
   "source": [
    "import numpy as np\n",
    "2 * (np.tan(np.sin(1) + np.cos(2*1+3)) * (np.cos(1)-2*np.sin(2*1+3))) / (np.cos(np.sin(1) + np.cos(2*1+3))**2)"
   ]
  },
  {
   "cell_type": "code",
   "execution_count": 2,
   "metadata": {},
   "outputs": [],
   "source": [
    "from scipy.optimize import approx_fprime\n",
    "def func(x):\n",
    "    return np.tan(np.sin(x[0])+np.cos(2*x[0]+3))**2"
   ]
  },
  {
   "cell_type": "code",
   "execution_count": 3,
   "metadata": {},
   "outputs": [
    {
     "data": {
      "text/plain": [
       "array([55.3859244])"
      ]
     },
     "execution_count": 3,
     "metadata": {},
     "output_type": "execute_result"
    }
   ],
   "source": [
    "x = np.ones(1)\n",
    "x[0] = 1\n",
    "eps = np.sqrt(np.finfo(float).eps)\n",
    "approx_fprime(x, func, [eps]) # f' по y в точке (1,2)"
   ]
  }
 ],
 "metadata": {
  "kernelspec": {
   "display_name": "Python 3",
   "language": "python",
   "name": "python3"
  },
  "language_info": {
   "codemirror_mode": {
    "name": "ipython",
    "version": 3
   },
   "file_extension": ".py",
   "mimetype": "text/x-python",
   "name": "python",
   "nbconvert_exporter": "python",
   "pygments_lexer": "ipython3",
   "version": "3.7.6"
  }
 },
 "nbformat": 4,
 "nbformat_minor": 4
}
