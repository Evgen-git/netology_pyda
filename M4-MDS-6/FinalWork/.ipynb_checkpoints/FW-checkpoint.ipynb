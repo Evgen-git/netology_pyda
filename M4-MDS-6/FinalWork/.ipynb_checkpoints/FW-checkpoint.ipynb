{
 "cells": [
  {
   "cell_type": "code",
   "execution_count": 9,
   "metadata": {},
   "outputs": [],
   "source": [
    "import matplotlib.pyplot as plt\n",
    "import numpy as np\n",
    "\n",
    "from scipy.optimize import minimize\n",
    "%matplotlib inline"
   ]
  },
  {
   "cell_type": "markdown",
   "metadata": {},
   "source": [
    "### Задание 1\n",
    "Дана матрица рейтингов фильмов (строки - пользователи (10 человек), столбцы - фильмы (15 фильмов))"
   ]
  },
  {
   "cell_type": "code",
   "execution_count": 22,
   "metadata": {},
   "outputs": [],
   "source": [
    "raitings = np.array([[ 4,  4,  9,  4,  1,  6, 10,  7,  9,  6,  9,  2,  8,  6,  6],\n",
    "                     [ 9,  2,  5, 10,  7,  8, 10,  5,  6,  2,  1,  6,  8,  9,  7],\n",
    "                     [ 1,  6,  8,  8,  4,  9,  3,  8, 10,  5,  2,  6,  8,  1,  6],\n",
    "                     [ 6,  1,  9,  7,  7,  9,  2,  3,  5,  1,  6,  6,  3,  2,  7],\n",
    "                     [ 3,  7,  3,  5,  7,  9,  9,  6,  2,  9,  1,  2,  8, 10,  6],\n",
    "                     [ 8,  3,  7,  3,  8,  6,  1,  8,  8,  6,  1,  9,  4, 10,  1],\n",
    "                     [ 9,  8,  4,  8,  8, 10,  6,  1,  1,  2,  9,  5,  2,  7,  2],\n",
    "                     [ 4,  1,  6,  4,  3, 10,  4,  4,  2,  8,  7,  9,  3,  8,  3],\n",
    "                     [ 2,  7,  7,  6, 10,  6,  8,  9,  8,  6, 10,  1,  7, 10,  4],\n",
    "                     [ 5, 10,  8,  8,  9,  7,  2,  9,  9, 10,  8,  8,  8,  6, 10]])"
   ]
  },
  {
   "cell_type": "markdown",
   "metadata": {},
   "source": [
    "a) Необходимо найти наиболее похожего пользователя по косинусной метрике для каждого из (ответ: 10 пар вида (x, y), где y - наиболее похожий пользователь на пользователя x).\n",
    "\n",
    "b) Предположим, вы захотели сжать признаковые описания пользователя с 15 фильмов, до, скажем, 5-ти признаков, как вы это сделаете?\n",
    "\n",
    "Я это сделаю низкоранговым сингулярным разложением, где $к=5$ \n",
    "$$ X_k = U_kD_kV_k^T$$"
   ]
  },
  {
   "cell_type": "code",
   "execution_count": 25,
   "metadata": {},
   "outputs": [
    {
     "name": "stdout",
     "output_type": "stream",
     "text": [
      "[[100.    34.31  31.87  38.43  35.    42.17  43.33  35.94  24.4   30.67]\n",
      " [ 34.31 100.    35.67  32.18  29.38  34.19  34.28  36.85  34.38  34.95]\n",
      " [ 31.87  35.67 100.    32.15  38.38  37.72  47.46  40.28  34.8   23.26]\n",
      " [ 38.43  32.18  32.15 100.    46.25  38.13  33.62  33.97  39.01  30.81]\n",
      " [ 35.    29.38  38.38  46.25 100.    39.06  38.56  35.67  28.42  32.25]\n",
      " [ 42.17  34.19  37.72  38.13  39.06 100.    42.26  32.38  36.27  31.22]\n",
      " [ 43.33  34.28  47.46  33.62  38.56  42.26 100.    34.24  35.78  37.67]\n",
      " [ 35.94  36.85  40.28  33.97  35.67  32.38  34.24 100.    37.05  33.19]\n",
      " [ 24.4   34.38  34.8   39.01  28.42  36.27  35.78  37.05 100.    25.72]\n",
      " [ 30.67  34.95  23.26  30.81  32.25  31.22  37.67  33.19  25.72 100.  ]]\n",
      "{'curr_user': 1, 'similar_user': 9, 'min_cos_measure': 24.4, 'len_curr_user': 25.553864678361276, 'len_similar_user': 28.0178514522438, 'dot_scalar': 652}\n",
      "{'curr_user': 2, 'similar_user': 5, 'min_cos_measure': 29.38, 'len_curr_user': 26.814175355583846, 'len_similar_user': 25.079872407968907, 'dot_scalar': 586}\n",
      "{'curr_user': 3, 'similar_user': 10, 'min_cos_measure': 23.26, 'len_curr_user': 24.515301344262525, 'len_similar_user': 31.25699921617557, 'dot_scalar': 704}\n",
      "{'curr_user': 4, 'similar_user': 10, 'min_cos_measure': 30.81, 'len_curr_user': 21.6794833886788, 'len_similar_user': 31.25699921617557, 'dot_scalar': 582}\n",
      "{'curr_user': 5, 'similar_user': 9, 'min_cos_measure': 28.42, 'len_curr_user': 25.079872407968907, 'len_similar_user': 28.0178514522438, 'dot_scalar': 618}\n",
      "{'curr_user': 6, 'similar_user': 10, 'min_cos_measure': 31.22, 'len_curr_user': 24.392621835300936, 'len_similar_user': 31.25699921617557, 'dot_scalar': 652}\n",
      "{'curr_user': 7, 'similar_user': 4, 'min_cos_measure': 33.62, 'len_curr_user': 24.372115213907882, 'len_similar_user': 21.6794833886788, 'dot_scalar': 440}\n",
      "{'curr_user': 8, 'similar_user': 6, 'min_cos_measure': 32.38, 'len_curr_user': 22.135943621178654, 'len_similar_user': 24.392621835300936, 'dot_scalar': 456}\n",
      "{'curr_user': 9, 'similar_user': 1, 'min_cos_measure': 24.4, 'len_curr_user': 28.0178514522438, 'len_similar_user': 25.553864678361276, 'dot_scalar': 652}\n",
      "{'curr_user': 10, 'similar_user': 3, 'min_cos_measure': 23.26, 'len_curr_user': 31.25699921617557, 'len_similar_user': 24.515301344262525, 'dot_scalar': 704}\n"
     ]
    }
   ],
   "source": [
    "arr_similar_users=[]\n",
    "arr_lenght = np.linalg.norm(raitings, axis = 1)\n",
    "arr_cos_measure = np.zeros((10, 10))\n",
    "for inc1, row1 in enumerate(raitings):\n",
    "    min_cos_measure = 100\n",
    "    curr_user,len_curr_user = inc1,arr_lenght[inc1]\n",
    "    for inc2, row2 in enumerate(raitings):\n",
    "        ind_user,len_user,scalar = inc2,arr_lenght[inc2],np.dot(row1,row2)\n",
    "        if inc1!=inc2:\n",
    "            curr_cos_measure = round(np.degrees(np.arccos(scalar/(len_curr_user*len_user))),2)\n",
    "            if curr_cos_measure < min_cos_measure:\n",
    "                min_cos_measure = curr_cos_measure\n",
    "                similar_user,len_similar_user,dot_scalar = ind_user,len_user,scalar\n",
    "        else:\n",
    "            curr_cos_measure = 100\n",
    "        arr_cos_measure[inc1,inc2] = curr_cos_measure\n",
    "            \n",
    "    dc = dict.fromkeys(['curr_user','similar_user','min_cos_measure','len_curr_user','len_similar_user','dot_scalar'])\n",
    "    dc['curr_user']=curr_user+1\n",
    "    dc['similar_user']=similar_user+1\n",
    "    dc['min_cos_measure']=min_cos_measure\n",
    "    dc['len_curr_user']=len_curr_user\n",
    "    dc['len_similar_user']=len_similar_user\n",
    "    dc['dot_scalar']=dot_scalar\n",
    "    arr_similar_users.append(dc)\n",
    "\n",
    "print (arr_cos_measure)\n",
    "for elem in arr_similar_users:\n",
    "    print (elem)"
   ]
  },
  {
   "cell_type": "markdown",
   "metadata": {},
   "source": [
    "### Задание 2\n",
    "Вычислите производную $tg^2(sin(x) + cos(2x+3))$ в точке $x_0=1$ на python и на бумаге (просто подставить точку в производную и ничего не упрощать).\n",
    "\n",
    "\n",
    "$tg^2(sin(x) + cos(2x+3))$\n",
    "\n",
    "$f'(x) = tg^2(sin(x) + cos(2x+3))$\n",
    "\n",
    "#### Первая производная\n",
    "\n",
    "$f'(x) = 2 * \\frac{tg(sin(x) + cos(2x+3))}{cos^2(sin(x) + cos(2x+3))} * (cos(x)-2sin(2x+3) ) $\n",
    "\n"
   ]
  },
  {
   "cell_type": "code",
   "execution_count": 12,
   "metadata": {},
   "outputs": [],
   "source": [
    "import numpy as np\n",
    "from scipy.optimize import approx_fprime"
   ]
  },
  {
   "cell_type": "code",
   "execution_count": 18,
   "metadata": {},
   "outputs": [
    {
     "data": {
      "text/plain": [
       "55.38591763533786"
      ]
     },
     "execution_count": 18,
     "metadata": {},
     "output_type": "execute_result"
    }
   ],
   "source": [
    "# прямой счет через преобразование фукции в первую производную\n",
    "2 * (np.tan(np.sin(1) + np.cos(2*1+3)) * (np.cos(1)-2*np.sin(2*1+3))) / (np.cos(np.sin(1) + np.cos(2*1+3))**2)\n"
   ]
  },
  {
   "cell_type": "code",
   "execution_count": 14,
   "metadata": {},
   "outputs": [],
   "source": [
    "def func(x):\n",
    "    return np.tan(np.sin(x[0])+np.cos(2*x[0]+3))**2"
   ]
  },
  {
   "cell_type": "code",
   "execution_count": 20,
   "metadata": {},
   "outputs": [
    {
     "data": {
      "text/plain": [
       "array([55.3859244])"
      ]
     },
     "execution_count": 20,
     "metadata": {},
     "output_type": "execute_result"
    }
   ],
   "source": [
    "x = np.ones(1)\n",
    "x[0] = 1\n",
    "eps = np.sqrt(np.finfo(float).eps)\n",
    "approx_fprime(x, func, [eps]) # f' по y в точке (1)"
   ]
  },
  {
   "cell_type": "markdown",
   "metadata": {},
   "source": [
    "### Задание 3\n",
    "Дана функция с неизвестными параметрами a и b, вам также известны значения функции fx в точках x. Найдите оптимальные параметры a, b, минимизирующие абсолютную ошибку error"
   ]
  },
  {
   "cell_type": "code",
   "execution_count": 3,
   "metadata": {},
   "outputs": [],
   "source": [
    "import numpy as np\n",
    "from scipy.optimize import minimize"
   ]
  },
  {
   "cell_type": "code",
   "execution_count": 4,
   "metadata": {},
   "outputs": [],
   "source": [
    "def f(x, a, b):\n",
    "    return np.e**a * np.sin(b*x) + x"
   ]
  },
  {
   "cell_type": "code",
   "execution_count": 5,
   "metadata": {},
   "outputs": [],
   "source": [
    "x = np.array([0.        , 0.26315789, 0.52631579, 0.78947368, 1.05263158,\n",
    "              1.31578947, 1.57894737, 1.84210526, 2.10526316, 2.36842105,\n",
    "              2.63157895, 2.89473684, 3.15789474, 3.42105263, 3.68421053,\n",
    "              3.94736842, 4.21052632, 4.47368421, 4.73684211, 5.        ])"
   ]
  },
  {
   "cell_type": "code",
   "execution_count": 6,
   "metadata": {},
   "outputs": [],
   "source": [
    "fx = np.array([  0.        , -12.01819092, -18.90968634, -17.68786571,\n",
    "                -8.7529108 ,   4.27524517,  16.06801336,  21.81250213,\n",
    "                19.22059845,   9.48411207,  -3.22273056, -13.48576488,\n",
    "               -16.91096359, -11.95866834,  -0.58630088,  12.56873816,\n",
    "                22.12489421,  24.20292139,  18.04522521,   6.33211092])"
   ]
  },
  {
   "cell_type": "code",
   "execution_count": 10,
   "metadata": {},
   "outputs": [
    {
     "data": {
      "image/png": "[encoded data removed]",
      "text/plain": [
       "<Figure size 432x288 with 1 Axes>"
      ]
     },
     "metadata": {
      "needs_background": "light"
     },
     "output_type": "display_data"
    }
   ],
   "source": [
    "plt.plot(x, fx)\n",
    "plt.show()"
   ]
  },
  {
   "cell_type": "code",
   "execution_count": 11,
   "metadata": {},
   "outputs": [],
   "source": [
    "def error(params):\n",
    "    return np.sum(np.abs(fx - f(x, params[0], params[1])))"
   ]
  },
  {
   "cell_type": "code",
   "execution_count": 12,
   "metadata": {},
   "outputs": [
    {
     "name": "stdout",
     "output_type": "stream",
     "text": [
      "[2.28727685 5.00719406]\n"
     ]
    },
    {
     "name": "stderr",
     "output_type": "stream",
     "text": [
      "/home/evgen/anaconda3/lib/python3.7/site-packages/ipykernel_launcher.py:2: RuntimeWarning: overflow encountered in double_scalars\n",
      "  \n",
      "/home/evgen/anaconda3/lib/python3.7/site-packages/ipykernel_launcher.py:2: RuntimeWarning: invalid value encountered in multiply\n",
      "  \n"
     ]
    }
   ],
   "source": [
    "x0 = np.array([5.0,5.0])\n",
    "res = minimize(error, x0, method='SLSQP')\n",
    "\n",
    "print(res.x)"
   ]
  },
  {
   "cell_type": "markdown",
   "metadata": {},
   "source": [
    "### Задание 4\n",
    "Создайте собственную дискретную случайную величину с 20 значениями. Сгенерируйте 1000 выборок размера 50. Посчитайте среднее для каждой выборки. Постройте гистограмму распределения средних."
   ]
  },
  {
   "cell_type": "code",
   "execution_count": 9,
   "metadata": {},
   "outputs": [],
   "source": [
    "from scipy.stats import binom\n",
    "import seaborn as sb"
   ]
  },
  {
   "cell_type": "markdown",
   "metadata": {},
   "source": [
    "Предположим, у нас 20 экспериментов в каждом повторе, с благоприятным исходом 0,4. Сгенерируем 1000 выборок размера 50 и посчитаем среднее для каждой выборки. построим гистограмму распределения средних."
   ]
  },
  {
   "cell_type": "code",
   "execution_count": 6,
   "metadata": {},
   "outputs": [],
   "source": [
    "def binom_f1():\n",
    "    return binom.rvs(n=20,p=0.4,size=50).mean()"
   ]
  },
  {
   "cell_type": "code",
   "execution_count": 7,
   "metadata": {},
   "outputs": [
    {
     "data": {
      "text/plain": [
       "[Text(0, 0.5, 'Frequency'), Text(0.5, 0, 'Binomial')]"
      ]
     },
     "execution_count": 7,
     "metadata": {},
     "output_type": "execute_result"
    },
    {
     "data": {
      "image/png": "[encoded data removed]",
      "text/plain": [
       "<Figure size 432x288 with 1 Axes>"
      ]
     },
     "metadata": {
      "needs_background": "light"
     },
     "output_type": "display_data"
    }
   ],
   "source": [
    "ax = sb.distplot([binom_f1() for x in range(1000)],\n",
    "                  kde=True,\n",
    "                  color='blue',\n",
    "                  hist_kws={\"linewidth\": 25,'alpha':1})\n",
    "ax.set(xlabel='Binomial', ylabel='Frequency')"
   ]
  },
  {
   "cell_type": "markdown",
   "metadata": {},
   "source": [
    "### Задание 5\n",
    "Найдите собственные значения и собственные вектора матрицы (на python и на бумаге)\n",
    "\n",
    "[[1, 4],\n",
    "\n",
    "\n",
    "[1, 1]]"
   ]
  },
  {
   "cell_type": "code",
   "execution_count": 35,
   "metadata": {},
   "outputs": [
    {
     "name": "stdout",
     "output_type": "stream",
     "text": [
      "[ 3. -1.]\n",
      "[[ 0.89442719 -0.89442719]\n",
      " [ 0.4472136   0.4472136 ]]\n",
      "[[ 1.99999998 -1.99999998]\n",
      " [ 0.99999999  0.99999999]]\n"
     ]
    }
   ],
   "source": [
    "import numpy as np\n",
    "\n",
    "matrix = np.mat ([[1, 4], [1, 1]])\n",
    "w, v = np.linalg.eig (matrix)\n",
    "print (w)\n",
    "print (v)\n",
    "print (v * (1/0.4472136))"
   ]
  },
  {
   "cell_type": "markdown",
   "metadata": {},
   "source": [
    "1. характеристическое уравнение\n",
    "\n",
    "$l^2-2l-3=0$\n",
    "\n",
    "2. Собственные числа \n",
    "\n",
    "$l_1=3$\n",
    "\n",
    "$l_2=-1$\n",
    "\n",
    "3. Собственные вектора (столбцы)\n",
    "\n",
    "$v_1=[2,1]$\n",
    "\n",
    "$v_2=[-2,1]$"
   ]
  }
 ],
 "metadata": {
  "kernelspec": {
   "display_name": "Python 3",
   "language": "python",
   "name": "python3"
  },
  "language_info": {
   "codemirror_mode": {
    "name": "ipython",
    "version": 3
   },
   "file_extension": ".py",
   "mimetype": "text/x-python",
   "name": "python",
   "nbconvert_exporter": "python",
   "pygments_lexer": "ipython3",
   "version": "3.7.6"
  }
 },
 "nbformat": 4,
 "nbformat_minor": 4
}
