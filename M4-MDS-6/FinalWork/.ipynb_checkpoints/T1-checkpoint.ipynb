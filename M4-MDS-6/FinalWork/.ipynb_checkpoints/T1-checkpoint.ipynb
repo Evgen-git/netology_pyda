{
 "cells": [
  {
   "cell_type": "code",
   "execution_count": 1,
   "metadata": {},
   "outputs": [],
   "source": [
    "import matplotlib.pyplot as plt\n",
    "import numpy as np\n",
    "\n",
    "from scipy.optimize import minimize\n",
    "%matplotlib inline"
   ]
  },
  {
   "cell_type": "code",
   "execution_count": 4,
   "metadata": {},
   "outputs": [
    {
     "name": "stdout",
     "output_type": "stream",
     "text": [
      "[[ 4  4  9  4  1  6 10  7  9  6  9  2  8  6  6]\n",
      " [ 9  2  5 10  7  8 10  5  6  2  1  6  8  9  7]\n",
      " [ 1  6  8  8  4  9  3  8 10  5  2  6  8  1  6]\n",
      " [ 6  1  9  7  7  9  2  3  5  1  6  6  3  2  7]\n",
      " [ 3  7  3  5  7  9  9  6  2  9  1  2  8 10  6]\n",
      " [ 8  3  7  3  8  6  1  8  8  6  1  9  4 10  1]\n",
      " [ 9  8  4  8  8 10  6  1  1  2  9  5  2  7  2]\n",
      " [ 4  1  6  4  3 10  4  4  2  8  7  9  3  8  3]\n",
      " [ 2  7  7  6 10  6  8  9  8  6 10  1  7 10  4]\n",
      " [ 5 10  8  8  9  7  2  9  9 10  8  8  8  6 10]]\n"
     ]
    }
   ],
   "source": [
    "# строки - пользователи (10 человек), столбцы - фильмы (15 фильмов)\n",
    "raitings = np.array([[ 4,  4,  9,  4,  1,  6, 10,  7,  9,  6,  9,  2,  8,  6,  6],\n",
    "                     [ 9,  2,  5, 10,  7,  8, 10,  5,  6,  2,  1,  6,  8,  9,  7],\n",
    "                     [ 1,  6,  8,  8,  4,  9,  3,  8, 10,  5,  2,  6,  8,  1,  6],\n",
    "                     [ 6,  1,  9,  7,  7,  9,  2,  3,  5,  1,  6,  6,  3,  2,  7],\n",
    "                     [ 3,  7,  3,  5,  7,  9,  9,  6,  2,  9,  1,  2,  8, 10,  6],\n",
    "                     [ 8,  3,  7,  3,  8,  6,  1,  8,  8,  6,  1,  9,  4, 10,  1],\n",
    "                     [ 9,  8,  4,  8,  8, 10,  6,  1,  1,  2,  9,  5,  2,  7,  2],\n",
    "                     [ 4,  1,  6,  4,  3, 10,  4,  4,  2,  8,  7,  9,  3,  8,  3],\n",
    "                     [ 2,  7,  7,  6, 10,  6,  8,  9,  8,  6, 10,  1,  7, 10,  4],\n",
    "                     [ 5, 10,  8,  8,  9,  7,  2,  9,  9, 10,  8,  8,  8,  6, 10]])\n",
    "print (raitings)"
   ]
  },
  {
   "cell_type": "code",
   "execution_count": 17,
   "metadata": {},
   "outputs": [
    {
     "name": "stdout",
     "output_type": "stream",
     "text": [
      "[[1 2 3]\n",
      " [4 5 6]]\n"
     ]
    }
   ],
   "source": [
    "\n",
    "raitings1 = np.array([[1,2,3],[4,5,6]])\n",
    "print (raitings1)"
   ]
  },
  {
   "cell_type": "code",
   "execution_count": 18,
   "metadata": {},
   "outputs": [
    {
     "data": {
      "text/plain": [
       "array([25.55386468, 26.81417536, 24.51530134, 21.67948339, 25.07987241,\n",
       "       24.39262184, 24.37211521, 22.13594362, 28.01785145, 31.25699922])"
      ]
     },
     "execution_count": 18,
     "metadata": {},
     "output_type": "execute_result"
    }
   ],
   "source": []
  },
  {
   "cell_type": "code",
   "execution_count": 30,
   "metadata": {},
   "outputs": [
    {
     "name": "stdout",
     "output_type": "stream",
     "text": [
      "[25.55386468 26.81417536 24.51530134 21.67948339 25.07987241 24.39262184\n",
      " 24.37211521 22.13594362 28.01785145 31.25699922]\n",
      "[[ 0.   34.31 31.87 38.43 35.   42.17 43.33 35.94 24.4  30.67]\n",
      " [34.31  0.   35.67 32.18 29.38 34.19 34.28 36.85 34.38 34.95]\n",
      " [31.87 35.67  0.   32.15 38.38 37.72 47.46 40.28 34.8  23.26]\n",
      " [38.43 32.18 32.15  0.   46.25 38.13 33.62 33.97 39.01 30.81]\n",
      " [35.   29.38 38.38 46.25  0.   39.06 38.56 35.67 28.42 32.25]\n",
      " [42.17 34.19 37.72 38.13 39.06  0.   42.26 32.38 36.27 31.22]\n",
      " [43.33 34.28 47.46 33.62 38.56 42.26  0.   34.24 35.78 37.67]\n",
      " [35.94 36.85 40.28 33.97 35.67 32.38 34.24   nan 37.05 33.19]\n",
      " [24.4  34.38 34.8  39.01 28.42 36.27 35.78 37.05  0.   25.72]\n",
      " [30.67 34.95 23.26 30.81 32.25 31.22 37.67 33.19 25.72  0.  ]]\n"
     ]
    },
    {
     "name": "stderr",
     "output_type": "stream",
     "text": [
      "/home/evgen/anaconda3/lib/python3.7/site-packages/ipykernel_launcher.py:5: RuntimeWarning: invalid value encountered in arccos\n",
      "  \"\"\"\n"
     ]
    }
   ],
   "source": [
    "arr_lenght = np.linalg.norm(raitings, axis = 1)\n",
    "arr_dot = np.zeros((10, 10))\n",
    "for inc1, row1 in enumerate(raitings):\n",
    "    for inc2, row2 in enumerate(raitings):\n",
    "        arr_dot[inc1,inc2] = round(np.degrees(np.arccos(np.dot(row1,row2)/(arr_lenght[inc1]*arr_lenght[inc2]))),2)\n",
    "\n",
    "print (arr_lenght)\n",
    "print (arr_dot)"
   ]
  },
  {
   "cell_type": "code",
   "execution_count": 7,
   "metadata": {},
   "outputs": [
    {
     "data": {
      "text/plain": [
       "32"
      ]
     },
     "execution_count": 7,
     "metadata": {},
     "output_type": "execute_result"
    }
   ],
   "source": []
  },
  {
   "cell_type": "code",
   "execution_count": null,
   "metadata": {},
   "outputs": [],
   "source": [
    "scalar = np.dot(x,y)\n",
    "lenght_X = np.linalg.norm(x)\n",
    "lenght_Y = np.linalg.norm(y)\n",
    "print ('scalar={}; lenght_X={}; lenght_Y={}'.format(scalar,lenght_X,lenght_Y))\n",
    "deg = np.arccos(scalar/(lenght_X*lenght_Y))\n",
    "print ('degrees={}'.format(np.degrees(angle)))\n"
   ]
  }
 ],
 "metadata": {
  "kernelspec": {
   "display_name": "Python 3",
   "language": "python",
   "name": "python3"
  },
  "language_info": {
   "codemirror_mode": {
    "name": "ipython",
    "version": 3
   },
   "file_extension": ".py",
   "mimetype": "text/x-python",
   "name": "python",
   "nbconvert_exporter": "python",
   "pygments_lexer": "ipython3",
   "version": "3.7.6"
  }
 },
 "nbformat": 4,
 "nbformat_minor": 4
}
