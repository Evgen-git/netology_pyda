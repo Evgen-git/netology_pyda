{
 "cells": [
  {
   "cell_type": "code",
   "execution_count": 5,
   "metadata": {},
   "outputs": [],
   "source": [
    "import matplotlib.pyplot as plt\n",
    "import numpy as np\n",
    "\n",
    "from scipy.optimize import minimize\n",
    "%matplotlib inline"
   ]
  },
  {
   "cell_type": "code",
   "execution_count": 6,
   "metadata": {},
   "outputs": [
    {
     "name": "stdout",
     "output_type": "stream",
     "text": [
      "[[ 4  4  9  4  1  6 10  7  9  6  9  2  8  6  6]\n",
      " [ 9  2  5 10  7  8 10  5  6  2  1  6  8  9  7]\n",
      " [ 1  6  8  8  4  9  3  8 10  5  2  6  8  1  6]\n",
      " [ 6  1  9  7  7  9  2  3  5  1  6  6  3  2  7]\n",
      " [ 3  7  3  5  7  9  9  6  2  9  1  2  8 10  6]\n",
      " [ 8  3  7  3  8  6  1  8  8  6  1  9  4 10  1]\n",
      " [ 9  8  4  8  8 10  6  1  1  2  9  5  2  7  2]\n",
      " [ 4  1  6  4  3 10  4  4  2  8  7  9  3  8  3]\n",
      " [ 2  7  7  6 10  6  8  9  8  6 10  1  7 10  4]\n",
      " [ 5 10  8  8  9  7  2  9  9 10  8  8  8  6 10]]\n"
     ]
    }
   ],
   "source": [
    "# строки - пользователи (10 человек), столбцы - фильмы (15 фильмов)\n",
    "raitings = np.array([[ 4,  4,  9,  4,  1,  6, 10,  7,  9,  6,  9,  2,  8,  6,  6],\n",
    "                     [ 9,  2,  5, 10,  7,  8, 10,  5,  6,  2,  1,  6,  8,  9,  7],\n",
    "                     [ 1,  6,  8,  8,  4,  9,  3,  8, 10,  5,  2,  6,  8,  1,  6],\n",
    "                     [ 6,  1,  9,  7,  7,  9,  2,  3,  5,  1,  6,  6,  3,  2,  7],\n",
    "                     [ 3,  7,  3,  5,  7,  9,  9,  6,  2,  9,  1,  2,  8, 10,  6],\n",
    "                     [ 8,  3,  7,  3,  8,  6,  1,  8,  8,  6,  1,  9,  4, 10,  1],\n",
    "                     [ 9,  8,  4,  8,  8, 10,  6,  1,  1,  2,  9,  5,  2,  7,  2],\n",
    "                     [ 4,  1,  6,  4,  3, 10,  4,  4,  2,  8,  7,  9,  3,  8,  3],\n",
    "                     [ 2,  7,  7,  6, 10,  6,  8,  9,  8,  6, 10,  1,  7, 10,  4],\n",
    "                     [ 5, 10,  8,  8,  9,  7,  2,  9,  9, 10,  8,  8,  8,  6, 10]])\n",
    "print (raitings)"
   ]
  },
  {
   "cell_type": "code",
   "execution_count": 25,
   "metadata": {},
   "outputs": [
    {
     "name": "stdout",
     "output_type": "stream",
     "text": [
      "[[100.    34.31  31.87  38.43  35.    42.17  43.33  35.94  24.4   30.67]\n",
      " [ 34.31 100.    35.67  32.18  29.38  34.19  34.28  36.85  34.38  34.95]\n",
      " [ 31.87  35.67 100.    32.15  38.38  37.72  47.46  40.28  34.8   23.26]\n",
      " [ 38.43  32.18  32.15 100.    46.25  38.13  33.62  33.97  39.01  30.81]\n",
      " [ 35.    29.38  38.38  46.25 100.    39.06  38.56  35.67  28.42  32.25]\n",
      " [ 42.17  34.19  37.72  38.13  39.06 100.    42.26  32.38  36.27  31.22]\n",
      " [ 43.33  34.28  47.46  33.62  38.56  42.26 100.    34.24  35.78  37.67]\n",
      " [ 35.94  36.85  40.28  33.97  35.67  32.38  34.24 100.    37.05  33.19]\n",
      " [ 24.4   34.38  34.8   39.01  28.42  36.27  35.78  37.05 100.    25.72]\n",
      " [ 30.67  34.95  23.26  30.81  32.25  31.22  37.67  33.19  25.72 100.  ]]\n"
     ]
    }
   ],
   "source": [
    "arr_similar_users=[]\n",
    "arr_lenght = np.linalg.norm(raitings, axis = 1)\n",
    "arr_cos_measure = np.zeros((10, 10))\n",
    "for inc1, row1 in enumerate(raitings):\n",
    "    min_cos_measure = 100\n",
    "    curr_user,len_curr_user = inc1,arr_lenght[inc1]\n",
    "    for inc2, row2 in enumerate(raitings):\n",
    "        ind_user,len_user,scalar = inc2,arr_lenght[inc2],np.dot(row1,row2)\n",
    "        if inc1!=inc2:\n",
    "            curr_cos_measure = round(np.degrees(np.arccos(scalar/(len_curr_user*len_user))),2)\n",
    "            if curr_cos_measure < min_cos_measure:\n",
    "                min_cos_measure = curr_cos_measure\n",
    "                similar_user,len_similar_user,dot_scalar = ind_user,len_user,scalar\n",
    "        else:\n",
    "            curr_cos_measure = 100\n",
    "        arr_cos_measure[inc1,inc2] = curr_cos_measure\n",
    "            \n",
    "    dc = dict.fromkeys(['curr_user','similar_user','min_cos_measure','len_curr_user','len_similar_user','dot_scalar'])\n",
    "    dc['curr_user']=curr_user+1\n",
    "    dc['similar_user']=similar_user+1\n",
    "    dc['min_cos_measure']=min_cos_measure\n",
    "    dc['len_curr_user']=len_curr_user\n",
    "    dc['len_similar_user']=len_similar_user\n",
    "    dc['dot_scalar']=dot_scalar\n",
    "    arr_similar_users.append(dc)\n",
    "\n",
    "print (arr_cos_measure)\n",
    "# print (arr_similar_users)"
   ]
  },
  {
   "cell_type": "code",
   "execution_count": 26,
   "metadata": {},
   "outputs": [
    {
     "data": {
      "text/plain": [
       "[{'curr_user': 1,\n",
       "  'similar_user': 9,\n",
       "  'min_cos_measure': 24.4,\n",
       "  'len_curr_user': 25.553864678361276,\n",
       "  'len_similar_user': 28.0178514522438,\n",
       "  'dot_scalar': 652},\n",
       " {'curr_user': 2,\n",
       "  'similar_user': 5,\n",
       "  'min_cos_measure': 29.38,\n",
       "  'len_curr_user': 26.814175355583846,\n",
       "  'len_similar_user': 25.079872407968907,\n",
       "  'dot_scalar': 586},\n",
       " {'curr_user': 3,\n",
       "  'similar_user': 10,\n",
       "  'min_cos_measure': 23.26,\n",
       "  'len_curr_user': 24.515301344262525,\n",
       "  'len_similar_user': 31.25699921617557,\n",
       "  'dot_scalar': 704},\n",
       " {'curr_user': 4,\n",
       "  'similar_user': 10,\n",
       "  'min_cos_measure': 30.81,\n",
       "  'len_curr_user': 21.6794833886788,\n",
       "  'len_similar_user': 31.25699921617557,\n",
       "  'dot_scalar': 582},\n",
       " {'curr_user': 5,\n",
       "  'similar_user': 9,\n",
       "  'min_cos_measure': 28.42,\n",
       "  'len_curr_user': 25.079872407968907,\n",
       "  'len_similar_user': 28.0178514522438,\n",
       "  'dot_scalar': 618},\n",
       " {'curr_user': 6,\n",
       "  'similar_user': 10,\n",
       "  'min_cos_measure': 31.22,\n",
       "  'len_curr_user': 24.392621835300936,\n",
       "  'len_similar_user': 31.25699921617557,\n",
       "  'dot_scalar': 652},\n",
       " {'curr_user': 7,\n",
       "  'similar_user': 4,\n",
       "  'min_cos_measure': 33.62,\n",
       "  'len_curr_user': 24.372115213907882,\n",
       "  'len_similar_user': 21.6794833886788,\n",
       "  'dot_scalar': 440},\n",
       " {'curr_user': 8,\n",
       "  'similar_user': 6,\n",
       "  'min_cos_measure': 32.38,\n",
       "  'len_curr_user': 22.135943621178654,\n",
       "  'len_similar_user': 24.392621835300936,\n",
       "  'dot_scalar': 456},\n",
       " {'curr_user': 9,\n",
       "  'similar_user': 1,\n",
       "  'min_cos_measure': 24.4,\n",
       "  'len_curr_user': 28.0178514522438,\n",
       "  'len_similar_user': 25.553864678361276,\n",
       "  'dot_scalar': 652},\n",
       " {'curr_user': 10,\n",
       "  'similar_user': 3,\n",
       "  'min_cos_measure': 23.26,\n",
       "  'len_curr_user': 31.25699921617557,\n",
       "  'len_similar_user': 24.515301344262525,\n",
       "  'dot_scalar': 704}]"
      ]
     },
     "execution_count": 26,
     "metadata": {},
     "output_type": "execute_result"
    }
   ],
   "source": [
    "arr_similar_users\n",
    "\n"
   ]
  }
 ],
 "metadata": {
  "kernelspec": {
   "display_name": "Python 3",
   "language": "python",
   "name": "python3"
  },
  "language_info": {
   "codemirror_mode": {
    "name": "ipython",
    "version": 3
   },
   "file_extension": ".py",
   "mimetype": "text/x-python",
   "name": "python",
   "nbconvert_exporter": "python",
   "pygments_lexer": "ipython3",
   "version": "3.7.6"
  }
 },
 "nbformat": 4,
 "nbformat_minor": 4
}
