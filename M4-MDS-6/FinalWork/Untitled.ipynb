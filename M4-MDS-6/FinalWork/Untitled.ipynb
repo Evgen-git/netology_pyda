{
 "cells": [
  {
   "cell_type": "code",
   "execution_count": 5,
   "metadata": {},
   "outputs": [],
   "source": [
    "import numpy as np\n",
    "from pylab import *\n",
    "from scipy.optimize import *\n",
    "#x = fromfile(’x.dat’,float,sep=’\\n’)\n",
    "#y = fromfile(’y.dat’,float,sep=’\\n’)\n",
    "#def f(t,Omega,tau):\n",
    "#return exp(-t/tau)*sin(Omega*t)\n",
    "#def delta(p):\n",
    "#Omega,tau = p\n",
    "#return y-f(x,Omega,tau)\n",
    "#Omega,tau = leastsq(delta,(1,10))[0]\n",
    "\n",
    "\n"
   ]
  },
  {
   "cell_type": "code",
   "execution_count": 44,
   "metadata": {},
   "outputs": [],
   "source": [
    "def f(x, a, b):\n",
    "    return np.e**a * np.sin(b*x) + x\n",
    "\n",
    "def error(params):\n",
    "    return np.sum(np.abs(fx - f(x, params[0], params[1])))\n",
    "\n",
    "def error1(params):\n",
    "    return np.abs(fx - f(x, params[0], params[1]))\n",
    "\n",
    "\n",
    "x = np.array([0.        , 0.26315789, 0.52631579, 0.78947368, 1.05263158,\n",
    "              1.31578947, 1.57894737, 1.84210526, 2.10526316, 2.36842105,\n",
    "              2.63157895, 2.89473684, 3.15789474, 3.42105263, 3.68421053,\n",
    "              3.94736842, 4.21052632, 4.47368421, 4.73684211, 5.        ])\n",
    "\n",
    "fx = np.array([  0.        , -12.01819092, -18.90968634, -17.68786571,\n",
    "                -8.7529108 ,   4.27524517,  16.06801336,  21.81250213,\n",
    "                19.22059845,   9.48411207,  -3.22273056, -13.48576488,\n",
    "               -16.91096359, -11.95866834,  -0.58630088,  12.56873816,\n",
    "                22.12489421,  24.20292139,  18.04522521,   6.33211092])\n"
   ]
  },
  {
   "cell_type": "code",
   "execution_count": 41,
   "metadata": {},
   "outputs": [
    {
     "name": "stdout",
     "output_type": "stream",
     "text": [
      "(array([   0.34905616, -287.10615397]), 5)\n"
     ]
    }
   ],
   "source": [
    "x0 = np.array([0.        , 0.26315789, 0.52631579, 0.78947368, 1.05263158,\n",
    "              1.31578947, 1.57894737, 1.84210526, 2.10526316, 2.36842105,\n",
    "              2.63157895, 2.89473684, 3.15789474, 3.42105263, 3.68421053,\n",
    "              3.94736842, 4.21052632, 4.47368421, 4.73684211, 5.        ])\n",
    "\n",
    "fx = np.array([  0.        , -12.01819092, -18.90968634, -17.68786571,\n",
    "                -8.7529108 ,   4.27524517,  16.06801336,  21.81250213,\n",
    "                19.22059845,   9.48411207,  -3.22273056, -13.48576488,\n",
    "               -16.91096359, -11.95866834,  -0.58630088,  12.56873816,\n",
    "                22.12489421,  24.20292139,  18.04522521,   6.33211092])\n",
    "\n",
    "\n",
    "x = x0\n",
    "y = fx\n",
    "def f(t,Omega,tau):\n",
    "    return exp(-t/tau)*sin(Omega*t)\n",
    "def delta(p):\n",
    "    Omega,tau = p\n",
    "    return y-f(x,Omega,tau)\n",
    "\n",
    "#Omega,tau = leastsq(delta,(1,10))[0]\n",
    "print(leastsq(delta,(1,10)))"
   ]
  },
  {
   "cell_type": "code",
   "execution_count": 42,
   "metadata": {},
   "outputs": [
    {
     "data": {
      "text/plain": [
       "array([  0.        , -12.27156567, -19.38628169, -18.34395262,\n",
       "        -9.53484358,   3.42688654,  15.21410206,  21.01116648,\n",
       "        18.52342504,   8.93298671,  -3.5979628 , -13.66870406,\n",
       "       -16.89907642, -11.76274892,  -0.22905614,  13.05483737,\n",
       "        22.70031327,  24.82410216,  18.66774291,   6.91372789])"
      ]
     },
     "execution_count": 42,
     "metadata": {},
     "output_type": "execute_result"
    }
   ],
   "source": [
    "p = (1,10)\n",
    "delta(p)"
   ]
  },
  {
   "cell_type": "code",
   "execution_count": 45,
   "metadata": {},
   "outputs": [
    {
     "data": {
      "text/plain": [
       "array([ 0.        , 13.60838478, 17.11969339, 21.19336402,  7.38109631,\n",
       "        1.4436689 , 14.71038905, 21.0998699 , 14.92254479,  9.81368052,\n",
       "        8.37079392, 14.68602909, 20.5100348 , 16.30413105,  2.21579989,\n",
       "        5.95933076, 20.50618049, 17.86733048, 13.96648346,  2.04531972])"
      ]
     },
     "execution_count": 45,
     "metadata": {},
     "output_type": "execute_result"
    }
   ],
   "source": [
    "params = (1,10)\n",
    "error1(params)"
   ]
  },
  {
   "cell_type": "code",
   "execution_count": null,
   "metadata": {},
   "outputs": [],
   "source": []
  },
  {
   "cell_type": "code",
   "execution_count": null,
   "metadata": {},
   "outputs": [],
   "source": []
  },
  {
   "cell_type": "code",
   "execution_count": 47,
   "metadata": {},
   "outputs": [
    {
     "name": "stdout",
     "output_type": "stream",
     "text": [
      "[1.29675048 3.38240834]\n",
      "1\n"
     ]
    }
   ],
   "source": [
    "#a, b = leastsq(error,(1,10))[0]\n",
    "#np.sum(np.abs(fx - f(x, 1, 10)))\n",
    "#p1, success = leastsq(error,[1,1])\n",
    "p0 = np.array([1.0,1.0])\n",
    "p1, success = leastsq(error1, p0)\n",
    "\n",
    "print(p1)\n",
    "print(success)"
   ]
  },
  {
   "cell_type": "code",
   "execution_count": 49,
   "metadata": {},
   "outputs": [
    {
     "name": "stdout",
     "output_type": "stream",
     "text": [
      "      fun: 244.29483415256246\n",
      " hess_inv: array([[3.23340895e+00, 1.66057356e-09],\n",
      "       [1.66057356e-09, 5.85308908e-11]])\n",
      "      jac: array([-0.21471596,  2.21123314])\n",
      "  message: 'Desired error not necessarily achieved due to precision loss.'\n",
      "     nfev: 607\n",
      "      nit: 35\n",
      "     njev: 149\n",
      "   status: 2\n",
      "  success: False\n",
      "        x: array([1.52248862, 4.58904321])\n"
     ]
    }
   ],
   "source": [
    "from scipy.optimize import minimize\n",
    "x0 = np.array([10.0,1.0])\n",
    "res = minimize(error, x0)\n",
    "\n",
    "print(res)"
   ]
  },
  {
   "cell_type": "code",
   "execution_count": 55,
   "metadata": {},
   "outputs": [
    {
     "name": "stdout",
     "output_type": "stream",
     "text": [
      "[2.28727685 5.00719406]\n"
     ]
    },
    {
     "name": "stderr",
     "output_type": "stream",
     "text": [
      "/home/evgen/anaconda3/lib/python3.7/site-packages/ipykernel_launcher.py:2: RuntimeWarning: overflow encountered in double_scalars\n",
      "  \n",
      "/home/evgen/anaconda3/lib/python3.7/site-packages/ipykernel_launcher.py:2: RuntimeWarning: invalid value encountered in multiply\n",
      "  \n"
     ]
    }
   ],
   "source": [
    "import numpy as np\n",
    "from scipy.optimize import minimize\n",
    "x0 = np.array([5.0,5.0])\n",
    "res = minimize(error, x0, method='SLSQP')\n",
    "\n",
    "print(res.x)"
   ]
  },
  {
   "cell_type": "code",
   "execution_count": null,
   "metadata": {},
   "outputs": [],
   "source": []
  }
 ],
 "metadata": {
  "kernelspec": {
   "display_name": "Python 3",
   "language": "python",
   "name": "python3"
  },
  "language_info": {
   "codemirror_mode": {
    "name": "ipython",
    "version": 3
   },
   "file_extension": ".py",
   "mimetype": "text/x-python",
   "name": "python",
   "nbconvert_exporter": "python",
   "pygments_lexer": "ipython3",
   "version": "3.7.6"
  }
 },
 "nbformat": 4,
 "nbformat_minor": 4
}
