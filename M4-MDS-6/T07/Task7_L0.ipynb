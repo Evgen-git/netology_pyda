{
 "cells": [
  {
   "cell_type": "markdown",
   "metadata": {},
   "source": [
    "#### Задание 1\n",
    "Монетку подбрасывают 15 раз, найдите вероятность выпадения простого числа орлов (решение на бумажке и на python)."
   ]
  },
  {
   "cell_type": "code",
   "execution_count": 13,
   "metadata": {},
   "outputs": [],
   "source": [
    "import math\n",
    "import numpy as np\n",
    "from scipy.stats import binom\n",
    "import seaborn as sb\n"
   ]
  },
  {
   "cell_type": "markdown",
   "metadata": {},
   "source": [
    "По задаче понятно, что мы говорим о биномиальном распеределении.\n",
    "\n",
    "Формула биномиального распределения\n",
    "\n",
    "$ P(\\xi=k)=(\\frac{n}{k})*p^k*(1-p)^{n-k} $\n",
    "\n",
    "В нашем примере (возьмем все протые числa до 15 = 2,3,5,7,11,13):\n",
    "- n=15\n",
    "- k=3\n",
    "- p=0,5\n",
    "\n",
    "Решение. Подставляем значения в формулу."
   ]
  },
  {
   "cell_type": "code",
   "execution_count": 24,
   "metadata": {},
   "outputs": [],
   "source": [
    "# Предварительно сформируем треугольник Паскаля\n",
    "def combination(n, r): # correct calculation of combinations, n choose k\n",
    "    return int((math.factorial(n)) / ((math.factorial(r)) * math.factorial(n - r)))\n",
    "def binom_P(k,p,n):\n",
    "    return combination(n, k) * p**k * (1-p)**(n-k)\n"
   ]
  },
  {
   "cell_type": "code",
   "execution_count": 25,
   "metadata": {},
   "outputs": [
    {
     "name": "stdout",
     "output_type": "stream",
     "text": [
      "P(2)=0.003204345703125\n",
      "P(3)=0.013885498046875\n",
      "P(5)=0.091644287109375\n",
      "P(7)=0.196380615234375\n",
      "P(11)=0.041656494140625\n",
      "P(13)=0.003204345703125\n"
     ]
    }
   ],
   "source": [
    "for k in [2,3,5,7,11,13]:\n",
    "    print('P({})={}'.format(k,binom_P(k,0.5,15)))\n"
   ]
  },
  {
   "cell_type": "markdown",
   "metadata": {},
   "source": [
    "Посчитаем вероятность при помощи готовой библиотеки scipy.stats.binom."
   ]
  },
  {
   "cell_type": "code",
   "execution_count": 28,
   "metadata": {},
   "outputs": [
    {
     "name": "stdout",
     "output_type": "stream",
     "text": [
      "P(2)=0.0032043457031250204\n",
      "P(3)=0.013885498046875066\n",
      "P(5)=0.09164428710937506\n",
      "P(7)=0.1963806152343757\n",
      "P(11)=0.04165649414062508\n",
      "P(13)=0.0032043457031250204\n"
     ]
    }
   ],
   "source": [
    "for k in [2,3,5,7,11,13]:\n",
    "    print('P({})={}'.format(k,binom.pmf( k=k,  n=15,  p=0.5)))\n"
   ]
  },
  {
   "cell_type": "markdown",
   "metadata": {},
   "source": [
    "#### Задание 2\n",
    "Создайте свою дискретную случайную величину с не менее, чем 10 значениями. Просемплируйте 1000 случайных значений, постройте гистограмму плотности распределения по выборке, посчитайте среднее, дисперсию и медиану."
   ]
  },
  {
   "cell_type": "markdown",
   "metadata": {},
   "source": [
    "Предположим, у нас 11 экспериментов в каждом повторе, с благоприятным исходом 0,6.\n",
    "Тогда биномиальная случайная величина задается при помощи пайтона следующим образом.\n",
    "И сразу сделаем 1000 повторений. "
   ]
  },
  {
   "cell_type": "code",
   "execution_count": 6,
   "metadata": {},
   "outputs": [],
   "source": [
    "data_binom = binom.rvs(n=11,p=0.8,size=1000)"
   ]
  },
  {
   "cell_type": "markdown",
   "metadata": {},
   "source": [
    "#### Отразим получившиеся результаты. Покажим гистограмму плотности распределения по выборке"
   ]
  },
  {
   "cell_type": "code",
   "execution_count": 16,
   "metadata": {},
   "outputs": [
    {
     "data": {
      "text/plain": [
       "[Text(0, 0.5, 'Frequency'), Text(0.5, 0, 'Binomial')]"
      ]
     },
     "execution_count": 16,
     "metadata": {},
     "output_type": "execute_result"
    },
    {
     "data": {
      "image/png": "[encoded data removed]",
      "text/plain": [
       "<Figure size 432x288 with 1 Axes>"
      ]
     },
     "metadata": {
      "needs_background": "light"
     },
     "output_type": "display_data"
    }
   ],
   "source": [
    "ax = sb.distplot(data_binom,\n",
    "                  kde=True,\n",
    "                  color='blue',\n",
    "                  hist_kws={\"linewidth\": 25,'alpha':1})\n",
    "ax.set(xlabel='Binomial', ylabel='Frequency')"
   ]
  },
  {
   "cell_type": "markdown",
   "metadata": {},
   "source": [
    "#### Находим среднее, дисперсию и медиану."
   ]
  },
  {
   "cell_type": "code",
   "execution_count": 24,
   "metadata": {},
   "outputs": [
    {
     "name": "stdout",
     "output_type": "stream",
     "text": [
      "Mean=8.8, variance=1.7599999999999998,median=9.0 \n"
     ]
    }
   ],
   "source": [
    "m,v = binom.stats(11, 0.8, moments='mv')\n",
    "print('Mean={}, variance={},median={}'.format(m,v,np.median(data_binom)))"
   ]
  }
 ],
 "metadata": {
  "kernelspec": {
   "display_name": "Python 3",
   "language": "python",
   "name": "python3"
  },
  "language_info": {
   "codemirror_mode": {
    "name": "ipython",
    "version": 3
   },
   "file_extension": ".py",
   "mimetype": "text/x-python",
   "name": "python",
   "nbconvert_exporter": "python",
   "pygments_lexer": "ipython3",
   "version": "3.7.6"
  }
 },
 "nbformat": 4,
 "nbformat_minor": 4
}
