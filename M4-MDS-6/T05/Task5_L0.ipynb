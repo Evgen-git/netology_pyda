{
 "cells": [
  {
   "cell_type": "markdown",
   "metadata": {},
   "source": [
    "## Найти частные производные функции двух аргументов\n",
    "\n",
    "1) $ f(x,y)=2x^2y^3 + \\frac{1}{x} + y^2x + 7 $, и градиент в точке $(1,2)$ \n",
    "\n",
    "2) $ f(x,y)=x^2y - sin(xy) + cos(x^2) + 6y $ \n",
    "\n",
    "### Первая функция. \n",
    "#### Частная производная по $x$\n",
    "\n",
    "$ f_x' = (2x^2y^3 + \\frac{1}{x} + y^2x + 7)_{x}' $\n",
    "\n",
    "$ f_x' = 2y^3(x^2)_{x}' + (\\frac{1}{x})_{x}' + y^2(x)_{x}' + (7)_{x}' $\n",
    "\n",
    "$ f_x' = 2y^3 * 2x + (-\\frac{1}{x^2}) + y^2*1 + 0 $\n",
    "\n",
    "$ f_x' = 4y^3x - \\frac{1}{x^2} + y^2 $\n",
    "\n",
    "\n",
    "#### Частная производная по $y$\n",
    "$ f_y' = (2x^2y^3 + 1/x + y^2x + 7)_{y}' $\n",
    "\n",
    "$ f_y' = 6x^2y^2 + 2yx $\n",
    "\n",
    "#### Градиент для точки $(1,2)$\n",
    "\n",
    "\n",
    "$f_x'(1,2) = 4*2^3*1 - \\frac{1}{1^2} + 2^2 = 35 $ \n",
    "\n",
    "$f_y'(1,2) = 6*1^2*2^2 + 2*2*1 = 28 $\n",
    "\n",
    "$grad_f(1,2) = (35,28)$\n",
    "\n",
    "\n",
    "### Вторая функция \n",
    "\n",
    "###### Частная производная по $x$\n",
    "\n",
    "$ f_x' = (x^2y - sin(xy) + cos(x^2) + 6y)_{x}' $\n",
    "\n",
    "$ f_x' = 2yx - y*cos(xy) - 2x*sin(x^2) $\n",
    "\n",
    "\n",
    "\n",
    "###### Частная производная по $y$\n",
    "$ f_y' = (x^2y - sin(xy) + cos(x^2) + 6y)_{y}' $\n",
    "\n",
    "$ f_y' = x^2 - x*cos(xy) + 6 $\n",
    "\n"
   ]
  },
  {
   "cell_type": "code",
   "execution_count": null,
   "metadata": {},
   "outputs": [],
   "source": []
  }
 ],
 "metadata": {
  "kernelspec": {
   "display_name": "Python 3",
   "language": "python",
   "name": "python3"
  },
  "language_info": {
   "codemirror_mode": {
    "name": "ipython",
    "version": 3
   },
   "file_extension": ".py",
   "mimetype": "text/x-python",
   "name": "python",
   "nbconvert_exporter": "python",
   "pygments_lexer": "ipython3",
   "version": "3.7.6"
  }
 },
 "nbformat": 4,
 "nbformat_minor": 4
}
