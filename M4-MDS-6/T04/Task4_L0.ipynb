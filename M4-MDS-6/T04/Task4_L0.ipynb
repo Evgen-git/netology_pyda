{
 "cells": [
  {
   "cell_type": "markdown",
   "metadata": {},
   "source": [
    "### Посчитаем значение 1-ой и 2-ой производной фунции\n",
    "\n",
    "$ f(x) = x^5 + 4sin(2x) + cos(3x+3) $, в точке x = 1 \n",
    "\n",
    "#### Преобразуем выражение для первой производной\n",
    "\n",
    "$ f'(x) = (x^5 + 4sin(2x) + cos(3x+3))' $\n",
    "\n",
    "$ f'(x) = (x^5)' + (4sin(2x))' + (cos(3x+3))' $\n",
    "\n",
    "$ f'(x) = 4x^4 + (4cos(2x)*2) + (-sin(3x+3)*3) $\n",
    "\n",
    "$ f'(x) = 4x^4 + 8cos(2x) -3sin(3x+3) $\n",
    "\n",
    "#### Преобразуем выражение для второй производной\n",
    "\n",
    "$ f''(x) = (4x^4)' + (8cos(2x))' - (3sin(3x+3))' $\n",
    "\n",
    "$ f''(x) = 12x^3 - 16sin(2x) - 9cos(3x+3) $\n",
    "\n",
    "### Посчитаем первую и вторую производную в точке x=1\n"
   ]
  },
  {
   "cell_type": "code",
   "execution_count": 9,
   "metadata": {},
   "outputs": [
    {
     "data": {
      "text/plain": [
       "1.5090718022196383"
      ]
     },
     "execution_count": 9,
     "metadata": {},
     "output_type": "execute_result"
    }
   ],
   "source": [
    "import numpy as np\n",
    "# Первая производная\n",
    "4*1**4 + 8 * np.cos(2*1) - 3 * np.sin(3 * 1 + 3)"
   ]
  },
  {
   "cell_type": "code",
   "execution_count": 8,
   "metadata": {},
   "outputs": [
    {
     "data": {
      "text/plain": [
       "-11.190291409064201"
      ]
     },
     "execution_count": 8,
     "metadata": {},
     "output_type": "execute_result"
    }
   ],
   "source": [
    "# Вторая производная\n",
    "12*1**3 - 16 * np.sin( 2 * 1) - 9 * np.cos(3 * 1 + 3)"
   ]
  }
 ],
 "metadata": {
  "kernelspec": {
   "display_name": "Python 3",
   "language": "python",
   "name": "python3"
  },
  "language_info": {
   "codemirror_mode": {
    "name": "ipython",
    "version": 3
   },
   "file_extension": ".py",
   "mimetype": "text/x-python",
   "name": "python",
   "nbconvert_exporter": "python",
   "pygments_lexer": "ipython3",
   "version": "3.7.6"
  }
 },
 "nbformat": 4,
 "nbformat_minor": 4
}
