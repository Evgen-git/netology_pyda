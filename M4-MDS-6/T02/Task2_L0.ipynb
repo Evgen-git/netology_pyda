{
 "cells": [
  {
   "cell_type": "code",
   "execution_count": 1,
   "metadata": {},
   "outputs": [],
   "source": [
    "import numpy as np"
   ]
  },
  {
   "cell_type": "code",
   "execution_count": 28,
   "metadata": {},
   "outputs": [
    {
     "name": "stdout",
     "output_type": "stream",
     "text": [
      "[[1 2 3]\n",
      " [4 5 6]\n",
      " [7 8 9]]\n"
     ]
    }
   ],
   "source": [
    "# Создаем матрицу 3 на 3, заполненную числами от 1 до 9\n",
    "\n",
    "m = np.arange(1,10).reshape((3, 3))\n",
    "print (m)"
   ]
  },
  {
   "cell_type": "code",
   "execution_count": 29,
   "metadata": {},
   "outputs": [
    {
     "name": "stdout",
     "output_type": "stream",
     "text": [
      "Единичная матрица\n",
      "[[1. 0. 0.]\n",
      " [0. 1. 0.]\n",
      " [0. 0. 1.]]\n",
      "Сложение мартицы с единичной матрицой\n",
      "[[ 2.  2.  3.]\n",
      " [ 4.  6.  6.]\n",
      " [ 7.  8. 10.]]\n"
     ]
    }
   ],
   "source": [
    "# Прибавляем к ней матрицу с единицами на диагонале\n",
    "\n",
    "I = np.eye(3)\n",
    "print ('Единичная матрица')\n",
    "print (I)\n",
    "mI = m+I\n",
    "print ('Сложение мартицы с единичной матрицой')\n",
    "print (mI)"
   ]
  },
  {
   "cell_type": "code",
   "execution_count": 30,
   "metadata": {},
   "outputs": [
    {
     "name": "stdout",
     "output_type": "stream",
     "text": [
      "[1 2 3]\n",
      "Умножение вектора на матрицу\n",
      "[[ 2.  4.  9.]\n",
      " [ 4. 12. 18.]\n",
      " [ 7. 16. 30.]]\n"
     ]
    }
   ],
   "source": [
    "# Умножаем полученную матрицу на вектор (1, 2, 3)\n",
    "\n",
    "v1 = np.array([1,2,3])\n",
    "print(v1)\n",
    "print('Умножение вектора на матрицу')\n",
    "vmI = mI * v1\n",
    "print(vmI)"
   ]
  },
  {
   "cell_type": "code",
   "execution_count": 31,
   "metadata": {},
   "outputs": [
    {
     "name": "stdout",
     "output_type": "stream",
     "text": [
      "Обратная матрица\n",
      "[[-6.         -2.          3.        ]\n",
      " [-0.5         0.25        0.        ]\n",
      " [ 1.66666667  0.33333333 -0.66666667]]\n",
      "Проверка. Должна получиться единичная матрица\n",
      "[[ 1.00000000e+00 -7.10542736e-15 -1.42108547e-14]\n",
      " [ 0.00000000e+00  1.00000000e+00  0.00000000e+00]\n",
      " [ 0.00000000e+00  0.00000000e+00  1.00000000e+00]]\n"
     ]
    }
   ],
   "source": [
    "# Считаем обратную матрицу к полученной матрице\n",
    "\n",
    "vmI_inv = np.linalg.inv(vmI)\n",
    "print('Обратная матрица')\n",
    "print(vmI_inv)\n",
    "print('Проверка. Должна получиться единичная матрица')\n",
    "print(np.dot(vmI_inv,vmI))"
   ]
  },
  {
   "cell_type": "code",
   "execution_count": null,
   "metadata": {},
   "outputs": [],
   "source": []
  }
 ],
 "metadata": {
  "kernelspec": {
   "display_name": "Python 3",
   "language": "python",
   "name": "python3"
  },
  "language_info": {
   "codemirror_mode": {
    "name": "ipython",
    "version": 3
   },
   "file_extension": ".py",
   "mimetype": "text/x-python",
   "name": "python",
   "nbconvert_exporter": "python",
   "pygments_lexer": "ipython3",
   "version": "3.7.6"
  }
 },
 "nbformat": 4,
 "nbformat_minor": 4
}
