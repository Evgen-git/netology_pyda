{
 "cells": [
  {
   "cell_type": "code",
   "execution_count": 1,
   "metadata": {},
   "outputs": [],
   "source": [
    "import numpy as np\n",
    "from scipy.optimize import differential_evolution"
   ]
  },
  {
   "cell_type": "code",
   "execution_count": 4,
   "metadata": {},
   "outputs": [],
   "source": [
    "def ackley(x):\n",
    "    arg1 = -0.2 * np.sqrt(0.5 * (x[0] ** 2 + x[1] ** 2))\n",
    "    arg2 = 0.5 * (np.cos(2. * np.pi * x[0]) + np.cos(2. * np.pi * x[1]))\n",
    "    return -20. * np.exp(arg1) - np.exp(arg2) + 20. + np.e\n",
    "\n",
    "bounds = [(-10, 10), (-10, 10)]"
   ]
  },
  {
   "cell_type": "code",
   "execution_count": 6,
   "metadata": {},
   "outputs": [
    {
     "name": "stdout",
     "output_type": "stream",
     "text": [
      "     fun: 4.440892098500626e-16\n",
      " message: 'Optimization terminated successfully.'\n",
      "    nfev: 2793\n",
      "     nit: 90\n",
      " success: True\n",
      "       x: array([0., 0.])\n",
      "CPU times: user 244 ms, sys: 3.93 ms, total: 248 ms\n",
      "Wall time: 249 ms\n"
     ]
    }
   ],
   "source": [
    "%%time\n",
    "result = differential_evolution(ackley, bounds, seed=42)\n",
    "print(result)"
   ]
  },
  {
   "cell_type": "markdown",
   "metadata": {},
   "source": [
    "C параметрами по умолчанию поиск оптимального решения выполнился за:\n",
    "- 249 минут\n",
    "- кол-во операции в целом 2793\n",
    "- кол-во вычислений в 1 итерации 90\n",
    "\n",
    "Исследуемые праметры по умолчанию:\n",
    "- strategy => 'best1bin'\n",
    "- tol => 0.01\n",
    "- maxiter => 1000\n",
    "- popsize => 15\n",
    "- mutation => (0.5,1.0)\n",
    "- recombination  => 0.7\n",
    "- updating => 'immediate'\n",
    "- workers => 1 \n",
    " "
   ]
  },
  {
   "cell_type": "code",
   "execution_count": 45,
   "metadata": {},
   "outputs": [
    {
     "name": "stdout",
     "output_type": "stream",
     "text": [
      "     fun: 4.440892098500626e-16\n",
      " message: 'Optimization terminated successfully.'\n",
      "    nfev: 18863\n",
      "     nit: 187\n",
      " success: True\n",
      "       x: array([0., 0.])\n",
      "CPU times: user 1.1 s, sys: 7.15 ms, total: 1.11 s\n",
      "Wall time: 1.12 s\n"
     ]
    }
   ],
   "source": [
    "%%time\n",
    "result = differential_evolution(ackley, bounds, seed=42,updating ='deferred', \n",
    "                                workers = 1,maxiter = 100000,popsize = 50,\n",
    "                               mutation = 1.0 ,tol = 0.0000000001)\n",
    "print(result)"
   ]
  },
  {
   "cell_type": "code",
   "execution_count": 46,
   "metadata": {},
   "outputs": [
    {
     "name": "stdout",
     "output_type": "stream",
     "text": [
      "     fun: 4.440892098500626e-16\n",
      " message: 'Optimization terminated successfully.'\n",
      "    nfev: 18863\n",
      "     nit: 187\n",
      " success: True\n",
      "       x: array([0., 0.])\n",
      "CPU times: user 1.2 s, sys: 19.7 ms, total: 1.22 s\n",
      "Wall time: 1.34 s\n"
     ]
    }
   ],
   "source": [
    "%%time\n",
    "result = differential_evolution(ackley, bounds, seed=42,updating ='deferred', \n",
    "                                workers = 4,maxiter = 100000,popsize = 50,\n",
    "                               mutation = 1.0 ,tol = 0.0000000001)\n",
    "print(result)"
   ]
  },
  {
   "cell_type": "markdown",
   "metadata": {},
   "source": [
    "#### Вывод по иследованию параметра updating\n",
    "Изменения параметра updating с immediate на deferred с одной стороны замедляет работу алгоритма, с другой стороны дает возможность распараллелить его работу при помощи параментра workers > 1. Я установил остальные параметры, для того чтобы алоритм работал как можно дольше. Резульаты удивили. С паралельностью алоритм работает дольше чем в один поток. Вероятно это связано, с тем что работа алгоритма на столько не значительна по времени, что время затрачиваемое на организацию распораллеливания и последующим объединением резальтатов работы каждого потока,  существенно относительно времени работы самого алгоритма. Вероятно, на более ресурсоемких данных, пралельность будет иметь смысл. "
   ]
  },
  {
   "cell_type": "code",
   "execution_count": 50,
   "metadata": {},
   "outputs": [
    {
     "name": "stdout",
     "output_type": "stream",
     "text": [
      "     fun: 3.5744518772578115\n",
      "     jac: array([ 1.42108547e-06, -3.19744231e-06])\n",
      " message: 'Optimization terminated successfully.'\n",
      "    nfev: 82\n",
      "     nit: 10\n",
      " success: True\n",
      "       x: array([-0.96847764,  0.96847759])\n",
      "CPU times: user 10.9 ms, sys: 0 ns, total: 10.9 ms\n",
      "Wall time: 9.68 ms\n"
     ]
    }
   ],
   "source": [
    "%%time\n",
    "result = differential_evolution(ackley, bounds, seed=42,\n",
    "                                maxiter = 100000,popsize = 1,\n",
    "                                mutation = 1.0 ,recombination = 0.7,\n",
    "                                tol = 0.0000000001,\n",
    "                                strategy = 'best1bin')\n",
    "print(result)"
   ]
  },
  {
   "cell_type": "code",
   "execution_count": 51,
   "metadata": {},
   "outputs": [
    {
     "name": "stdout",
     "output_type": "stream",
     "text": [
      "     fun: 1.9754271551875036e-08\n",
      "     jac: array([-0.00076987,  0.05022187])\n",
      " message: 'Optimization terminated successfully.'\n",
      "    nfev: 323\n",
      "     nit: 19\n",
      " success: True\n",
      "       x: array([-5.00190150e-09, -4.87441178e-09])\n",
      "CPU times: user 25.3 ms, sys: 3.78 ms, total: 29.1 ms\n",
      "Wall time: 29.8 ms\n"
     ]
    }
   ],
   "source": [
    "%%time\n",
    "result = differential_evolution(ackley, bounds, seed=42,\n",
    "                                maxiter = 100000,popsize = 5,\n",
    "                                mutation = 1.0 ,recombination = 0.7,\n",
    "                                tol = 0.0000000001,\n",
    "                                strategy = 'best1bin')\n",
    "print(result)"
   ]
  },
  {
   "cell_type": "code",
   "execution_count": 56,
   "metadata": {},
   "outputs": [
    {
     "name": "stdout",
     "output_type": "stream",
     "text": [
      "     fun: 4.440892098500626e-16\n",
      " message: 'Optimization terminated successfully.'\n",
      "    nfev: 6263\n",
      "     nit: 154\n",
      " success: True\n",
      "       x: array([0., 0.])\n",
      "CPU times: user 536 ms, sys: 0 ns, total: 536 ms\n",
      "Wall time: 537 ms\n"
     ]
    }
   ],
   "source": [
    "%%time\n",
    "result = differential_evolution(ackley, bounds, seed=42,\n",
    "                                maxiter = 100000,popsize = 20,\n",
    "                                mutation = 1.0 ,recombination = 0.7,\n",
    "                                tol = 0.0000000001,\n",
    "                                strategy = 'best1bin')\n",
    "print(result)"
   ]
  },
  {
   "cell_type": "markdown",
   "metadata": {},
   "source": [
    "#### Вывод по иследованию параметра popsize\n",
    "Вариация параметра popsize, дает прирост производительности вычисления, чем меньше параметр, тем быстрее работает алгоритм. Однако при этом страдает точность вычисления. При popsize=1 решение не удовлетворительное. При popsize=5 решение вполне приемлемое. При popsize=20 решение отличное. Координаты X определились без погрешности."
   ]
  },
  {
   "cell_type": "code",
   "execution_count": 58,
   "metadata": {},
   "outputs": [
    {
     "name": "stdout",
     "output_type": "stream",
     "text": [
      "     fun: 4.440892098500626e-16\n",
      " message: 'Optimization terminated successfully.'\n",
      "    nfev: 6263\n",
      "     nit: 154\n",
      " success: True\n",
      "       x: array([0., 0.])\n",
      "CPU times: user 543 ms, sys: 3.54 ms, total: 547 ms\n",
      "Wall time: 547 ms\n"
     ]
    }
   ],
   "source": [
    "%%time\n",
    "result = differential_evolution(ackley, bounds, seed=42,\n",
    "                                maxiter = 1000,popsize = 20,\n",
    "                                mutation = 1.0 ,recombination = 0.7,\n",
    "                                tol = 0.0000000001,\n",
    "                                strategy = 'best1bin')\n",
    "print(result)"
   ]
  },
  {
   "cell_type": "code",
   "execution_count": 59,
   "metadata": {},
   "outputs": [
    {
     "name": "stdout",
     "output_type": "stream",
     "text": [
      "     fun: 1.6757839560455068e-10\n",
      " message: 'Maximum number of iterations has been exceeded.'\n",
      "    nfev: 4103\n",
      "     nit: 100\n",
      " success: False\n",
      "       x: array([ 5.38857847e-11, -2.46291876e-11])\n",
      "CPU times: user 354 ms, sys: 0 ns, total: 354 ms\n",
      "Wall time: 352 ms\n"
     ]
    }
   ],
   "source": [
    "%%time\n",
    "result = differential_evolution(ackley, bounds, seed=42,\n",
    "                                maxiter = 100,popsize = 20,\n",
    "                                mutation = 1.0 ,recombination = 0.7,\n",
    "                                tol = 0.0000000001,\n",
    "                                strategy = 'best1bin')\n",
    "print(result)"
   ]
  },
  {
   "cell_type": "code",
   "execution_count": 57,
   "metadata": {},
   "outputs": [
    {
     "name": "stdout",
     "output_type": "stream",
     "text": [
      "     fun: 2.0059755190260375e-08\n",
      "     jac: array([ 0.01510614, -0.02704006])\n",
      " message: 'Maximum number of iterations has been exceeded.'\n",
      "    nfev: 578\n",
      "     nit: 10\n",
      " success: False\n",
      "       x: array([-4.96197875e-09, -5.06734522e-09])\n",
      "CPU times: user 43.5 ms, sys: 0 ns, total: 43.5 ms\n",
      "Wall time: 43.2 ms\n"
     ]
    }
   ],
   "source": [
    "%%time\n",
    "result = differential_evolution(ackley, bounds, seed=42,\n",
    "                                maxiter = 10,popsize = 20,\n",
    "                                mutation = 1.0 ,recombination = 0.7,\n",
    "                                tol = 0.0000000001,\n",
    "                                strategy = 'best1bin')\n",
    "print(result)"
   ]
  },
  {
   "cell_type": "markdown",
   "metadata": {},
   "source": [
    "#### Вывод по иследованию параметра maxiter\n",
    "Параметр maxiter задает количество итерации(эпох). По показателю nit видно, что количестов итераций = 154. Поэтому  maxiter = 500-1000 вполне подойдет для нашего случая. Когда maxiter < 154, то выводится информационное сообщение \"message: 'Maximum number of iterations has been exceeded.'\""
   ]
  },
  {
   "cell_type": "code",
   "execution_count": 60,
   "metadata": {},
   "outputs": [
    {
     "name": "stdout",
     "output_type": "stream",
     "text": [
      "     fun: 4.440892098500626e-16\n",
      " message: 'Optimization terminated successfully.'\n",
      "    nfev: 6263\n",
      "     nit: 154\n",
      " success: True\n",
      "       x: array([0., 0.])\n",
      "CPU times: user 542 ms, sys: 3.72 ms, total: 546 ms\n",
      "Wall time: 547 ms\n"
     ]
    }
   ],
   "source": [
    "%%time\n",
    "result = differential_evolution(ackley, bounds, seed=42,\n",
    "                                maxiter = 500,popsize = 20,\n",
    "                                mutation = 1.0 ,recombination = 0.7,\n",
    "                                tol = 0.0000000001,\n",
    "                                strategy = 'best1bin')\n",
    "print(result)"
   ]
  },
  {
   "cell_type": "code",
   "execution_count": 61,
   "metadata": {},
   "outputs": [
    {
     "name": "stdout",
     "output_type": "stream",
     "text": [
      "     fun: 4.440892098500626e-16\n",
      " message: 'Optimization terminated successfully.'\n",
      "    nfev: 4703\n",
      "     nit: 115\n",
      " success: True\n",
      "       x: array([0., 0.])\n",
      "CPU times: user 419 ms, sys: 0 ns, total: 419 ms\n",
      "Wall time: 417 ms\n"
     ]
    }
   ],
   "source": [
    "%%time\n",
    "result = differential_evolution(ackley, bounds, seed=42,\n",
    "                                maxiter = 500,popsize = 20,\n",
    "                                mutation = 0.8 ,recombination = 0.7,\n",
    "                                tol = 0.0000000001,\n",
    "                                strategy = 'best1bin')\n",
    "print(result)"
   ]
  },
  {
   "cell_type": "code",
   "execution_count": 62,
   "metadata": {},
   "outputs": [
    {
     "name": "stdout",
     "output_type": "stream",
     "text": [
      "     fun: 4.440892098500626e-16\n",
      " message: 'Optimization terminated successfully.'\n",
      "    nfev: 2503\n",
      "     nit: 60\n",
      " success: True\n",
      "       x: array([0., 0.])\n",
      "CPU times: user 225 ms, sys: 0 ns, total: 225 ms\n",
      "Wall time: 222 ms\n"
     ]
    }
   ],
   "source": [
    "%%time\n",
    "result = differential_evolution(ackley, bounds, seed=42,\n",
    "                                maxiter = 500,popsize = 20,\n",
    "                                mutation = 0.5 ,recombination = 0.7,\n",
    "                                tol = 0.0000000001,\n",
    "                                strategy = 'best1bin')\n",
    "print(result)"
   ]
  },
  {
   "cell_type": "code",
   "execution_count": 65,
   "metadata": {},
   "outputs": [
    {
     "name": "stdout",
     "output_type": "stream",
     "text": [
      "     fun: 4.440892098500626e-16\n",
      " message: 'Optimization terminated successfully.'\n",
      "    nfev: 3903\n",
      "     nit: 95\n",
      " success: True\n",
      "       x: array([0., 0.])\n",
      "CPU times: user 335 ms, sys: 7.68 ms, total: 343 ms\n",
      "Wall time: 348 ms\n"
     ]
    }
   ],
   "source": [
    "%%time\n",
    "result = differential_evolution(ackley, bounds, seed=42,\n",
    "                                maxiter = 500,popsize = 20,\n",
    "                                mutation = (0.5,1.0) ,recombination = 0.7,\n",
    "                                tol = 0.0000000001,\n",
    "                                strategy = 'best1bin')\n",
    "print(result)"
   ]
  },
  {
   "cell_type": "markdown",
   "metadata": {},
   "source": [
    "#### Вывод по иследованию параметра mutation\n",
    "\n",
    "Параметр mutation отвечает за силу мутации поколения. Чем больше показатель, тем сложнее сходимость, однако больше шансов найти лучший минимум для функции. По первым трем экпериментам, мы наблюдем этот эффект. В 4 эксперименте, мы задали кортеж из мин и макс значении вероятности мутации, который отбирается в случайном порядке. Производителность алгоритма уходшилась не значительно от лучшео резульатата, однако потенциално увеличивает эффективность поиска экстремума. При этом качество найденого минимума не ухудшилось. \n"
   ]
  },
  {
   "cell_type": "code",
   "execution_count": 66,
   "metadata": {},
   "outputs": [
    {
     "name": "stdout",
     "output_type": "stream",
     "text": [
      "     fun: 4.440892098500626e-16\n",
      " message: 'Optimization terminated successfully.'\n",
      "    nfev: 3903\n",
      "     nit: 95\n",
      " success: True\n",
      "       x: array([0., 0.])\n",
      "CPU times: user 336 ms, sys: 9.32 ms, total: 345 ms\n",
      "Wall time: 345 ms\n"
     ]
    }
   ],
   "source": [
    "%%time\n",
    "result = differential_evolution(ackley, bounds, seed=42,\n",
    "                                maxiter = 500,popsize = 20,\n",
    "                                mutation = (0.5,1.0) ,recombination = 0.7,\n",
    "                                tol = 0.0000000001,\n",
    "                                strategy = 'best1bin')\n",
    "print(result)"
   ]
  },
  {
   "cell_type": "code",
   "execution_count": 67,
   "metadata": {},
   "outputs": [
    {
     "name": "stdout",
     "output_type": "stream",
     "text": [
      "     fun: 4.440892098500626e-16\n",
      " message: 'Optimization terminated successfully.'\n",
      "    nfev: 3423\n",
      "     nit: 83\n",
      " success: True\n",
      "       x: array([0., 0.])\n",
      "CPU times: user 305 ms, sys: 0 ns, total: 305 ms\n",
      "Wall time: 306 ms\n"
     ]
    }
   ],
   "source": [
    "%%time\n",
    "result = differential_evolution(ackley, bounds, seed=42,\n",
    "                                maxiter = 500,popsize = 20,\n",
    "                                mutation = (0.5,1.0) ,recombination = 1.0,\n",
    "                                tol = 0.0000000001,\n",
    "                                strategy = 'best1bin')\n",
    "print(result)"
   ]
  },
  {
   "cell_type": "code",
   "execution_count": 68,
   "metadata": {},
   "outputs": [
    {
     "name": "stdout",
     "output_type": "stream",
     "text": [
      "     fun: 4.440892098500626e-16\n",
      " message: 'Optimization terminated successfully.'\n",
      "    nfev: 5103\n",
      "     nit: 125\n",
      " success: True\n",
      "       x: array([0., 0.])\n",
      "CPU times: user 456 ms, sys: 135 µs, total: 456 ms\n",
      "Wall time: 468 ms\n"
     ]
    }
   ],
   "source": [
    "%%time\n",
    "result = differential_evolution(ackley, bounds, seed=42,\n",
    "                                maxiter = 500,popsize = 20,\n",
    "                                mutation = (0.5,1.0) ,recombination = 0.0,\n",
    "                                tol = 0.0000000001,\n",
    "                                strategy = 'best1bin')\n",
    "print(result)"
   ]
  },
  {
   "cell_type": "code",
   "execution_count": 69,
   "metadata": {},
   "outputs": [
    {
     "name": "stdout",
     "output_type": "stream",
     "text": [
      "     fun: 4.440892098500626e-16\n",
      " message: 'Optimization terminated successfully.'\n",
      "    nfev: 4943\n",
      "     nit: 121\n",
      " success: True\n",
      "       x: array([0., 0.])\n",
      "CPU times: user 432 ms, sys: 3.62 ms, total: 436 ms\n",
      "Wall time: 435 ms\n"
     ]
    }
   ],
   "source": [
    "%%time\n",
    "result = differential_evolution(ackley, bounds, seed=42,\n",
    "                                maxiter = 500,popsize = 20,\n",
    "                                mutation = (0.5,1.0) ,recombination = 0.3,\n",
    "                                tol = 0.0000000001,\n",
    "                                strategy = 'best1bin')\n",
    "print(result)"
   ]
  },
  {
   "cell_type": "code",
   "execution_count": 70,
   "metadata": {},
   "outputs": [
    {
     "name": "stdout",
     "output_type": "stream",
     "text": [
      "     fun: 4.440892098500626e-16\n",
      " message: 'Optimization terminated successfully.'\n",
      "    nfev: 4583\n",
      "     nit: 112\n",
      " success: True\n",
      "       x: array([0., 0.])\n",
      "CPU times: user 409 ms, sys: 0 ns, total: 409 ms\n",
      "Wall time: 408 ms\n"
     ]
    }
   ],
   "source": [
    "%%time\n",
    "result = differential_evolution(ackley, bounds, seed=42,\n",
    "                                maxiter = 500,popsize = 20,\n",
    "                                mutation = (0.5,1.0) ,recombination = 0.5,\n",
    "                                tol = 0.0000000001,\n",
    "                                strategy = 'best1bin')\n",
    "print(result)"
   ]
  },
  {
   "cell_type": "markdown",
   "metadata": {},
   "source": [
    "#### Вывод по иследованию параметра recombination\n",
    "\n",
    "Видно, что чем выше вероятность мутации, тем быстрее сходится алгоритм, при этом качество решения не ухудшается."
   ]
  },
  {
   "cell_type": "code",
   "execution_count": 77,
   "metadata": {},
   "outputs": [
    {
     "name": "stdout",
     "output_type": "stream",
     "text": [
      "     fun: 4.440892098500626e-16\n",
      " message: 'Optimization terminated successfully.'\n",
      "    nfev: 3423\n",
      "     nit: 83\n",
      " success: True\n",
      "       x: array([0., 0.])\n",
      "CPU times: user 301 ms, sys: 0 ns, total: 301 ms\n",
      "Wall time: 304 ms\n"
     ]
    }
   ],
   "source": [
    "%%time\n",
    "result = differential_evolution(ackley, bounds, seed=42,\n",
    "                                maxiter = 500,popsize = 20,\n",
    "                                mutation = (0.5,1.0) ,recombination = 1.0,\n",
    "                                tol = 0.0000001,\n",
    "                                strategy = 'best1bin')\n",
    "print(result)"
   ]
  },
  {
   "cell_type": "code",
   "execution_count": 74,
   "metadata": {},
   "outputs": [
    {
     "name": "stdout",
     "output_type": "stream",
     "text": [
      "     fun: 4.440892098500626e-16\n",
      " message: 'Optimization terminated successfully.'\n",
      "    nfev: 3423\n",
      "     nit: 83\n",
      " success: True\n",
      "       x: array([0., 0.])\n",
      "CPU times: user 306 ms, sys: 56 µs, total: 306 ms\n",
      "Wall time: 305 ms\n"
     ]
    }
   ],
   "source": [
    "%%time\n",
    "result = differential_evolution(ackley, bounds, seed=42,\n",
    "                                maxiter = 500,popsize = 20,\n",
    "                                mutation = (0.5,1.0) ,recombination = 1.0,\n",
    "                                tol = 0.1,\n",
    "                                strategy = 'best1bin')\n",
    "print(result)"
   ]
  },
  {
   "cell_type": "markdown",
   "metadata": {},
   "source": [
    "#### Вывод по иследованию параметра tol\n",
    "\n",
    "Качество сходимости наших данных хорошая, поэтому изменение порога допуска на сходимость не влияет на производительность и качество."
   ]
  },
  {
   "cell_type": "code",
   "execution_count": 78,
   "metadata": {},
   "outputs": [
    {
     "name": "stdout",
     "output_type": "stream",
     "text": [
      "     fun: 4.440892098500626e-16\n",
      " message: 'Optimization terminated successfully.'\n",
      "    nfev: 3423\n",
      "     nit: 83\n",
      " success: True\n",
      "       x: array([0., 0.])\n",
      "CPU times: user 298 ms, sys: 7.76 ms, total: 306 ms\n",
      "Wall time: 304 ms\n"
     ]
    }
   ],
   "source": [
    "%%time\n",
    "result = differential_evolution(ackley, bounds, seed=42,\n",
    "                                maxiter = 500,popsize = 20,\n",
    "                                mutation = (0.5,1.0) ,recombination = 1.0,\n",
    "                                tol = 0.1,\n",
    "                                strategy = 'best1bin')\n",
    "print(result)"
   ]
  },
  {
   "cell_type": "code",
   "execution_count": 79,
   "metadata": {},
   "outputs": [
    {
     "name": "stdout",
     "output_type": "stream",
     "text": [
      "     fun: 4.440892098500626e-16\n",
      " message: 'Optimization terminated successfully.'\n",
      "    nfev: 3423\n",
      "     nit: 83\n",
      " success: True\n",
      "       x: array([0., 0.])\n",
      "CPU times: user 285 ms, sys: 4.03 ms, total: 289 ms\n",
      "Wall time: 295 ms\n"
     ]
    }
   ],
   "source": [
    "%%time\n",
    "result = differential_evolution(ackley, bounds, seed=42,\n",
    "                                maxiter = 500,popsize = 20,\n",
    "                                mutation = (0.5,1.0) ,recombination = 1.0,\n",
    "                                tol = 0.1,\n",
    "                                strategy = 'best1exp')\n",
    "print(result)"
   ]
  },
  {
   "cell_type": "code",
   "execution_count": 80,
   "metadata": {},
   "outputs": [
    {
     "name": "stdout",
     "output_type": "stream",
     "text": [
      "     fun: 4.440892098500626e-16\n",
      " message: 'Optimization terminated successfully.'\n",
      "    nfev: 6623\n",
      "     nit: 163\n",
      " success: True\n",
      "       x: array([0., 0.])\n",
      "CPU times: user 551 ms, sys: 0 ns, total: 551 ms\n",
      "Wall time: 551 ms\n"
     ]
    }
   ],
   "source": [
    "%%time\n",
    "result = differential_evolution(ackley, bounds, seed=42,\n",
    "                                maxiter = 500,popsize = 20,\n",
    "                                mutation = (0.5,1.0) ,recombination = 1.0,\n",
    "                                tol = 0.1,\n",
    "                                strategy = 'rand1exp')\n",
    "print(result)"
   ]
  },
  {
   "cell_type": "code",
   "execution_count": 81,
   "metadata": {},
   "outputs": [
    {
     "name": "stdout",
     "output_type": "stream",
     "text": [
      "     fun: 4.440892098500626e-16\n",
      " message: 'Optimization terminated successfully.'\n",
      "    nfev: 4023\n",
      "     nit: 98\n",
      " success: True\n",
      "       x: array([0., 0.])\n",
      "CPU times: user 374 ms, sys: 37 µs, total: 374 ms\n",
      "Wall time: 371 ms\n"
     ]
    }
   ],
   "source": [
    "%%time\n",
    "result = differential_evolution(ackley, bounds, seed=42,\n",
    "                                maxiter = 500,popsize = 20,\n",
    "                                mutation = (0.5,1.0) ,recombination = 1.0,\n",
    "                                tol = 0.1,\n",
    "                                strategy = 'randtobest1exp')\n",
    "print(result)"
   ]
  },
  {
   "cell_type": "code",
   "execution_count": 82,
   "metadata": {},
   "outputs": [
    {
     "name": "stdout",
     "output_type": "stream",
     "text": [
      "     fun: 4.440892098500626e-16\n",
      " message: 'Maximum number of iterations has been exceeded.'\n",
      "    nfev: 20103\n",
      "     nit: 500\n",
      " success: False\n",
      "       x: array([0., 0.])\n",
      "CPU times: user 2.22 s, sys: 7.65 ms, total: 2.23 s\n",
      "Wall time: 2.23 s\n"
     ]
    }
   ],
   "source": [
    "%%time\n",
    "result = differential_evolution(ackley, bounds, seed=42,\n",
    "                                maxiter = 500,popsize = 20,\n",
    "                                mutation = (0.5,1.0) ,recombination = 1.0,\n",
    "                                tol = 0.1,\n",
    "                                strategy = 'currenttobest1exp')\n",
    "print(result)"
   ]
  },
  {
   "cell_type": "code",
   "execution_count": 83,
   "metadata": {},
   "outputs": [
    {
     "name": "stdout",
     "output_type": "stream",
     "text": [
      "     fun: 4.440892098500626e-16\n",
      " message: 'Optimization terminated successfully.'\n",
      "    nfev: 6063\n",
      "     nit: 149\n",
      " success: True\n",
      "       x: array([0., 0.])\n",
      "CPU times: user 514 ms, sys: 0 ns, total: 514 ms\n",
      "Wall time: 518 ms\n"
     ]
    }
   ],
   "source": [
    "%%time\n",
    "result = differential_evolution(ackley, bounds, seed=42,\n",
    "                                maxiter = 500,popsize = 20,\n",
    "                                mutation = (0.5,1.0) ,recombination = 1.0,\n",
    "                                tol = 0.1,\n",
    "                                strategy = 'best2exp')\n",
    "print(result)"
   ]
  },
  {
   "cell_type": "code",
   "execution_count": 84,
   "metadata": {},
   "outputs": [
    {
     "name": "stdout",
     "output_type": "stream",
     "text": [
      "     fun: 4.440892098500626e-16\n",
      " message: 'Optimization terminated successfully.'\n",
      "    nfev: 9343\n",
      "     nit: 231\n",
      " success: True\n",
      "       x: array([0., 0.])\n",
      "CPU times: user 784 ms, sys: 3.52 ms, total: 788 ms\n",
      "Wall time: 792 ms\n"
     ]
    }
   ],
   "source": [
    "%%time\n",
    "result = differential_evolution(ackley, bounds, seed=42,\n",
    "                                maxiter = 500,popsize = 20,\n",
    "                                mutation = (0.5,1.0) ,recombination = 1.0,\n",
    "                                tol = 0.1,\n",
    "                                strategy = 'rand2exp')\n",
    "print(result)"
   ]
  },
  {
   "cell_type": "code",
   "execution_count": 85,
   "metadata": {},
   "outputs": [
    {
     "name": "stdout",
     "output_type": "stream",
     "text": [
      "     fun: 4.440892098500626e-16\n",
      " message: 'Optimization terminated successfully.'\n",
      "    nfev: 4023\n",
      "     nit: 98\n",
      " success: True\n",
      "       x: array([0., 0.])\n",
      "CPU times: user 399 ms, sys: 0 ns, total: 399 ms\n",
      "Wall time: 398 ms\n"
     ]
    }
   ],
   "source": [
    "%%time\n",
    "result = differential_evolution(ackley, bounds, seed=42,\n",
    "                                maxiter = 500,popsize = 20,\n",
    "                                mutation = (0.5,1.0) ,recombination = 1.0,\n",
    "                                tol = 0.1,\n",
    "                                strategy = 'randtobest1bin')\n",
    "print(result)"
   ]
  },
  {
   "cell_type": "code",
   "execution_count": 86,
   "metadata": {},
   "outputs": [
    {
     "name": "stdout",
     "output_type": "stream",
     "text": [
      "     fun: 4.440892098500626e-16\n",
      " message: 'Maximum number of iterations has been exceeded.'\n",
      "    nfev: 20103\n",
      "     nit: 500\n",
      " success: False\n",
      "       x: array([0., 0.])\n",
      "CPU times: user 2.36 s, sys: 3.63 ms, total: 2.36 s\n",
      "Wall time: 2.38 s\n"
     ]
    }
   ],
   "source": [
    "%%time\n",
    "result = differential_evolution(ackley, bounds, seed=42,\n",
    "                                maxiter = 500,popsize = 20,\n",
    "                                mutation = (0.5,1.0) ,recombination = 1.0,\n",
    "                                tol = 0.1,\n",
    "                                strategy = 'currenttobest1bin')\n",
    "print(result)"
   ]
  },
  {
   "cell_type": "code",
   "execution_count": 87,
   "metadata": {},
   "outputs": [
    {
     "name": "stdout",
     "output_type": "stream",
     "text": [
      "     fun: 4.440892098500626e-16\n",
      " message: 'Optimization terminated successfully.'\n",
      "    nfev: 6063\n",
      "     nit: 149\n",
      " success: True\n",
      "       x: array([0., 0.])\n",
      "CPU times: user 541 ms, sys: 11.7 ms, total: 553 ms\n",
      "Wall time: 565 ms\n"
     ]
    }
   ],
   "source": [
    "%%time\n",
    "result = differential_evolution(ackley, bounds, seed=42,\n",
    "                                maxiter = 500,popsize = 20,\n",
    "                                mutation = (0.5,1.0) ,recombination = 1.0,\n",
    "                                tol = 0.1,\n",
    "                                strategy = 'best2bin')\n",
    "print(result)"
   ]
  },
  {
   "cell_type": "code",
   "execution_count": 88,
   "metadata": {},
   "outputs": [
    {
     "name": "stdout",
     "output_type": "stream",
     "text": [
      "     fun: 4.440892098500626e-16\n",
      " message: 'Optimization terminated successfully.'\n",
      "    nfev: 9343\n",
      "     nit: 231\n",
      " success: True\n",
      "       x: array([0., 0.])\n",
      "CPU times: user 823 ms, sys: 0 ns, total: 823 ms\n",
      "Wall time: 832 ms\n"
     ]
    }
   ],
   "source": [
    "%%time\n",
    "result = differential_evolution(ackley, bounds, seed=42,\n",
    "                                maxiter = 500,popsize = 20,\n",
    "                                mutation = (0.5,1.0) ,recombination = 1.0,\n",
    "                                tol = 0.1,\n",
    "                                strategy = 'rand2bin')\n",
    "print(result)"
   ]
  },
  {
   "cell_type": "code",
   "execution_count": 89,
   "metadata": {},
   "outputs": [
    {
     "name": "stdout",
     "output_type": "stream",
     "text": [
      "     fun: 4.440892098500626e-16\n",
      " message: 'Optimization terminated successfully.'\n",
      "    nfev: 6623\n",
      "     nit: 163\n",
      " success: True\n",
      "       x: array([0., 0.])\n",
      "CPU times: user 576 ms, sys: 7.78 ms, total: 584 ms\n",
      "Wall time: 596 ms\n"
     ]
    }
   ],
   "source": [
    "%%time\n",
    "result = differential_evolution(ackley, bounds, seed=42,\n",
    "                                maxiter = 500,popsize = 20,\n",
    "                                mutation = (0.5,1.0) ,recombination = 1.0,\n",
    "                                tol = 0.1,\n",
    "                                strategy = 'rand1bin')\n",
    "print(result)"
   ]
  },
  {
   "cell_type": "markdown",
   "metadata": {},
   "source": [
    "#### Вывод по иследованию параметра strategy\n",
    "\n",
    "В документации не описаны ситуации применимости той или иной стратегии. Поэтому, без дополнтельного исследования, нам остается только отнестись к ним как к черному ящику и посмотреть на результаты работы каждой стратегии. \n",
    "\n",
    "Лучшими стратеиями, для наших данных, по количеству итераций и времени до сходимости: 'best1bin','best1exp'.\n",
    "Худшими стратеиями, для наших данных, по количеству итераций и времени до сходимости: 'currenttobest1exp', 'currenttobest1bin'."
   ]
  }
 ],
 "metadata": {
  "kernelspec": {
   "display_name": "Python 3",
   "language": "python",
   "name": "python3"
  },
  "language_info": {
   "codemirror_mode": {
    "name": "ipython",
    "version": 3
   },
   "file_extension": ".py",
   "mimetype": "text/x-python",
   "name": "python",
   "nbconvert_exporter": "python",
   "pygments_lexer": "ipython3",
   "version": "3.7.6"
  }
 },
 "nbformat": 4,
 "nbformat_minor": 4
}
