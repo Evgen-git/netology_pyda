{
 "cells": [
  {
   "cell_type": "code",
   "execution_count": 82,
   "metadata": {},
   "outputs": [],
   "source": [
    "import pandas as pd\n",
    "import numpy as np\n",
    "import re"
   ]
  },
  {
   "cell_type": "markdown",
   "metadata": {},
   "source": [
    "### Задание 1\n",
    "Для датафрейма log из материалов занятия создайте столбец source_type по следующим правилам:\n",
    "\n",
    "* если источник traffic_source равен yandex или google, то в source_type ставится organic\n",
    "* для источников paid и email из России - ставим ad\n",
    "* для источников paid и email не из России - ставим other\n",
    "* все остальные варианты берем из traffic_source без изменений\n"
   ]
  },
  {
   "cell_type": "code",
   "execution_count": 34,
   "metadata": {
    "scrolled": true
   },
   "outputs": [
    {
     "name": "stdout",
     "output_type": "stream",
     "text": [
      "['yandex' 'direct' 'paid' 'email' 'google']\n"
     ]
    }
   ],
   "source": [
    "log = pd.read_csv('visit_log.csv', sep=';')\n",
    "print(log.traffic_source.unique())"
   ]
  },
  {
   "cell_type": "code",
   "execution_count": 35,
   "metadata": {},
   "outputs": [
    {
     "name": "stdout",
     "output_type": "stream",
     "text": [
      "  traffic_source source_type\n",
      "0         yandex     organic\n",
      "1         direct      direct\n",
      "2         yandex     organic\n",
      "3         yandex     organic\n",
      "4         yandex     organic\n",
      "['yandex' 'direct' 'paid' 'email' 'google']\n"
     ]
    }
   ],
   "source": [
    "log.loc[log.traffic_source.str.contains('yandex|google') ,'source_type']='organic'\n",
    "log.loc[(log.traffic_source.str.contains('paid|email')&(log.region=='Russia')) ,'source_type']='ad'\n",
    "log.loc[(log.traffic_source.str.contains('paid|email')&(log.region!='Russia')) ,'source_type']='other'\n",
    "log.loc[pd.isnull(log.source_type),'source_type']=log.traffic_source\n",
    "print(log[['traffic_source','source_type']].head(5))\n",
    "print(log.groupby('traffic_source','source_type').agg' )"
   ]
  },
  {
   "cell_type": "markdown",
   "metadata": {},
   "source": [
    "### Задание 2\n",
    "В файле URLs.txt содержатся url страниц новостного сайта. Вам необходимо отфильтровать его по адресам страниц с текстами новостей. Известно, что шаблон страницы новостей имеет внутри url следующую конструкцию: /, затем 8 цифр, затем дефис. Выполните следующие действия:\n",
    "\n",
    "1. Прочитайте содержимое файла с датафрейм\n",
    "2. Отфильтруйте страницы с текстом новостей, используя метод str.contains и регулярное выражение в соответствии с заданным шаблоном"
   ]
  },
  {
   "cell_type": "code",
   "execution_count": 97,
   "metadata": {},
   "outputs": [
    {
     "name": "stdout",
     "output_type": "stream",
     "text": [
      "0                                              /world/\n",
      "1                                             /latest/\n",
      "2                                        /?updated=top\n",
      "3    /politics/36188461-s-marta-zhizn-rossiyan-susc...\n",
      "4    /world/36007585-tramp-pridumal-kak-reshit-ukra...\n",
      "5    /science/36157853-nasa-sobiraet-ekstrennuyu-pr...\n",
      "6    /video/36001498-poyavilis-pervye-podrobnosti-g...\n",
      "7    /world/36007585-tramp-pridumal-kak-reshit-ukra...\n",
      "Name: url, dtype: object\n"
     ]
    }
   ],
   "source": [
    "urls = pd.read_csv('URLs.txt')\n",
    "print(urls.url[:8])"
   ]
  },
  {
   "cell_type": "code",
   "execution_count": 98,
   "metadata": {},
   "outputs": [
    {
     "name": "stdout",
     "output_type": "stream",
     "text": [
      "                                                 URL\n",
      "0  /politics/36188461-s-marta-zhizn-rossiyan-susc...\n",
      "1  /world/36007585-tramp-pridumal-kak-reshit-ukra...\n",
      "2  /science/36157853-nasa-sobiraet-ekstrennuyu-pr...\n",
      "3  /video/36001498-poyavilis-pervye-podrobnosti-g...\n",
      "4  /world/36007585-tramp-pridumal-kak-reshit-ukra...\n"
     ]
    }
   ],
   "source": [
    "url_split = pd.DataFrame([i for i in urls.url if pd.Series(i).str.contains('\\/\\d{8}-', regex=True)[0]],columns=['URL'])\n",
    "print(url_split.head(5))"
   ]
  },
  {
   "cell_type": "markdown",
   "metadata": {},
   "source": [
    "### Задание 3\n",
    "В датафрейме data создайте столбец lemmas, в котором вычислите леммы поисковых запросов из столбца keyword. Леммы должны иметь строковый тип."
   ]
  },
  {
   "cell_type": "code",
   "execution_count": 99,
   "metadata": {},
   "outputs": [],
   "source": [
    "data = pd.DataFrame({\n",
    "    'keyword': ['курс гривны к рублю', 'доллары в рубли', '100 долларов в рублях', 'курс рубля'],\n",
    "    'shows': [125076, 114173, 97534, 53546],\n",
    "})"
   ]
  },
  {
   "cell_type": "code",
   "execution_count": 102,
   "metadata": {},
   "outputs": [
    {
     "ename": "ModuleNotFoundError",
     "evalue": "No module named 'pymystem3'",
     "output_type": "error",
     "traceback": [
      "\u001b[0;31m---------------------------------------------------------------------------\u001b[0m",
      "\u001b[0;31mModuleNotFoundError\u001b[0m                       Traceback (most recent call last)",
      "\u001b[0;32m<ipython-input-102-24e1a9c398c3>\u001b[0m in \u001b[0;36m<module>\u001b[0;34m\u001b[0m\n\u001b[0;32m----> 1\u001b[0;31m \u001b[0;32mfrom\u001b[0m \u001b[0mpymystem3\u001b[0m \u001b[0;32mimport\u001b[0m \u001b[0mMystem\u001b[0m\u001b[0;34m\u001b[0m\u001b[0;34m\u001b[0m\u001b[0m\n\u001b[0m",
      "\u001b[0;31mModuleNotFoundError\u001b[0m: No module named 'pymystem3'"
     ]
    }
   ],
   "source": [
    "from pymystem3 import Mystem"
   ]
  },
  {
   "cell_type": "code",
   "execution_count": null,
   "metadata": {},
   "outputs": [],
   "source": []
  }
 ],
 "metadata": {
  "kernelspec": {
   "display_name": "Python 3",
   "language": "python",
   "name": "python3"
  },
  "language_info": {
   "codemirror_mode": {
    "name": "ipython",
    "version": 3
   },
   "file_extension": ".py",
   "mimetype": "text/x-python",
   "name": "python",
   "nbconvert_exporter": "python",
   "pygments_lexer": "ipython3",
   "version": "3.7.4"
  }
 },
 "nbformat": 4,
 "nbformat_minor": 2
}
