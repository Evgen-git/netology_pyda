{
 "cells": [
  {
   "cell_type": "code",
   "execution_count": 8,
   "metadata": {},
   "outputs": [],
   "source": [
    "import re\n",
    "import numpy as np\n",
    "import pandas as pd"
   ]
  },
  {
   "cell_type": "markdown",
   "metadata": {},
   "source": [
    "### Задание 1\n",
    "Напишите функцию, которая классифицирует фильмы из материалов занятия по следующим правилам:\n",
    "- оценка 2 и меньше - низкий рейтинг\n",
    "- оценка 4 и меньше - средний рейтинг\n",
    "- оценка 4.5 и 5 - высокий рейтинг\n",
    "\n",
    "Результат классификации запишите в столбец class"
   ]
  },
  {
   "cell_type": "code",
   "execution_count": 2,
   "metadata": {},
   "outputs": [
    {
     "data": {
      "text/html": [
       "<div>\n",
       "<style scoped>\n",
       "    .dataframe tbody tr th:only-of-type {\n",
       "        vertical-align: middle;\n",
       "    }\n",
       "\n",
       "    .dataframe tbody tr th {\n",
       "        vertical-align: top;\n",
       "    }\n",
       "\n",
       "    .dataframe thead th {\n",
       "        text-align: right;\n",
       "    }\n",
       "</style>\n",
       "<table border=\"1\" class=\"dataframe\">\n",
       "  <thead>\n",
       "    <tr style=\"text-align: right;\">\n",
       "      <th></th>\n",
       "      <th>userId</th>\n",
       "      <th>movieId</th>\n",
       "      <th>rating</th>\n",
       "      <th>timestamp</th>\n",
       "    </tr>\n",
       "  </thead>\n",
       "  <tbody>\n",
       "    <tr>\n",
       "      <td>0</td>\n",
       "      <td>1</td>\n",
       "      <td>296</td>\n",
       "      <td>5.0</td>\n",
       "      <td>1147880044</td>\n",
       "    </tr>\n",
       "    <tr>\n",
       "      <td>1</td>\n",
       "      <td>1</td>\n",
       "      <td>306</td>\n",
       "      <td>3.5</td>\n",
       "      <td>1147868817</td>\n",
       "    </tr>\n",
       "    <tr>\n",
       "      <td>2</td>\n",
       "      <td>1</td>\n",
       "      <td>307</td>\n",
       "      <td>5.0</td>\n",
       "      <td>1147868828</td>\n",
       "    </tr>\n",
       "    <tr>\n",
       "      <td>3</td>\n",
       "      <td>1</td>\n",
       "      <td>665</td>\n",
       "      <td>5.0</td>\n",
       "      <td>1147878820</td>\n",
       "    </tr>\n",
       "    <tr>\n",
       "      <td>4</td>\n",
       "      <td>1</td>\n",
       "      <td>899</td>\n",
       "      <td>3.5</td>\n",
       "      <td>1147868510</td>\n",
       "    </tr>\n",
       "  </tbody>\n",
       "</table>\n",
       "</div>"
      ],
      "text/plain": [
       "   userId  movieId  rating   timestamp\n",
       "0       1      296     5.0  1147880044\n",
       "1       1      306     3.5  1147868817\n",
       "2       1      307     5.0  1147868828\n",
       "3       1      665     5.0  1147878820\n",
       "4       1      899     3.5  1147868510"
      ]
     },
     "execution_count": 2,
     "metadata": {},
     "output_type": "execute_result"
    }
   ],
   "source": [
    "#ratings = pd.read_csv('ml-25m/ratings.csv')\n",
    "ratings = pd.read_csv('../10-Pandas/ml-25m/ratings.csv')\n",
    "ratings.head()"
   ]
  },
  {
   "cell_type": "code",
   "execution_count": 3,
   "metadata": {},
   "outputs": [],
   "source": [
    "ratings['class'] = ratings['rating'].apply(lambda rt: 'high' if rt>=4.5 else ('low' if rt<=2 else ('middle' if rt<=4 else 'unknow')))"
   ]
  },
  {
   "cell_type": "code",
   "execution_count": 4,
   "metadata": {},
   "outputs": [
    {
     "name": "stdout",
     "output_type": "stream",
     "text": [
      "   userId  movieId  rating   timestamp   class\n",
      "0       1      296     5.0  1147880044    high\n",
      "1       1      306     3.5  1147868817  middle\n",
      "2       1      307     5.0  1147868828    high\n",
      "3       1      665     5.0  1147878820    high\n",
      "4       1      899     3.5  1147868510  middle\n",
      "             cnt\n",
      "class           \n",
      "high     5813013\n",
      "low      3210241\n",
      "middle  15976841\n"
     ]
    }
   ],
   "source": [
    "print(ratings.head())\n",
    "print(ratings.groupby('class')['class'].agg(cnt='count'))"
   ]
  },
  {
   "cell_type": "markdown",
   "metadata": {},
   "source": [
    "### Задание 2\n",
    "Используем файл keywords.csv.\n",
    "\n",
    "Необходимо написать гео-классификатор, который каждой строке сможет выставить географическую принадлежность определенному региону. Т. е. если поисковый запрос содержит название города региона, то в столбце ‘region’ пишется название этого региона. Если поисковый запрос не содержит названия города, то ставим ‘undefined’.\n",
    "\n",
    "Правила распределения по регионам Центр, Северо-Запад и Дальний Восток:\n",
    "```\n",
    "geo_data = {'Центр': ['москва', 'тула', 'ярославль'],\n",
    "            'Северо-Запад': ['петербург', 'псков', 'мурманск'],\n",
    "            'Дальний Восток': ['владивосток', 'сахалин', 'хабаровск']\n",
    "            }\n",
    "```\n",
    "Результат классификации запишите в отдельный столбец region.\n"
   ]
  },
  {
   "cell_type": "code",
   "execution_count": 6,
   "metadata": {},
   "outputs": [],
   "source": [
    "geo_data = {'Центр': ['москва', 'тула', 'ярославль'],\n",
    "            'Северо-Запад': ['петербург', 'псков', 'мурманск'],\n",
    "            'Дальний Восток': ['владивосток', 'сахалин', 'хабаровск']\n",
    "            }"
   ]
  },
  {
   "cell_type": "code",
   "execution_count": 68,
   "metadata": {},
   "outputs": [],
   "source": [
    "def get_region(param):\n",
    "    \"\"\"Возвращает region по значению keyword\"\"\"\n",
    "    pr = ''.join([key for key, value in geo_data.items() if param in value])\n",
    "    return pr"
   ]
  },
  {
   "cell_type": "code",
   "execution_count": 69,
   "metadata": {},
   "outputs": [
    {
     "data": {
      "text/plain": [
       "'Центр'"
      ]
     },
     "execution_count": 69,
     "metadata": {},
     "output_type": "execute_result"
    }
   ],
   "source": [
    "get_region('москва')"
   ]
  },
  {
   "cell_type": "code",
   "execution_count": 74,
   "metadata": {},
   "outputs": [
    {
     "name": "stdout",
     "output_type": "stream",
     "text": [
      "         keyword     shows\n",
      "0             вк  64292779\n",
      "1  одноклассники  63810309\n",
      "2          порно  41747114\n",
      "3           ютуб  39995567\n",
      "4      вконтакте  21014195\n",
      "\n",
      "           keyword   shows          region\n",
      "1259        москва  153050           Центр\n",
      "5858   владивосток   43038  Дальний Восток\n",
      "6075     ярославль   41720           Центр\n",
      "8977      мурманск   29984    Северо-Запад\n",
      "9084     хабаровск   29655  Дальний Восток\n",
      "11222        псков   24885    Северо-Запад\n",
      "11785         тула   23898           Центр\n",
      "20823    петербург   14859    Северо-Запад\n",
      "21445      сахалин   14494  Дальний Восток\n"
     ]
    }
   ],
   "source": [
    "keyword = pd.read_csv('keywords.csv')\n",
    "print(keyword.head(5))\n",
    "print()\n",
    "keyword['region'] = keyword['keyword'].apply(get_region)\n",
    "print(keyword[keyword['region']!=''])"
   ]
  },
  {
   "cell_type": "markdown",
   "metadata": {},
   "source": [
    "### Задание 3\n",
    "Есть мнение, что “раньше снимали настоящее кино, не то что сейчас”. Ваша задача проверить это утверждение, используя файлы с рейтингами фильмов из прошлого домашнего занятия (файл ratings.csv из базы https://grouplens.org/datasets/movielens). Т. е. проверить верно ли, что с ростом года выпуска фильма его средний рейтинг становится ниже.\n",
    "\n",
    "При этом мы не будем затрагивать субьективные факторы выставления этих рейтингов, а пройдемся по следующему алгоритму:\n",
    "\n",
    "1) В переменную years запишите список из всех годов с 1950 по 2010.\n",
    "\n",
    "2) Напишите функцию production_year, которая каждой строке из названия фильма выставляет год выпуска. Не все названия фильмов содержат год выпуска в одинаковом формате, поэтому используйте следующий алгоритм:\n",
    "\n",
    "* для каждой строки пройдите по всем годам списка years\n",
    "* если номер года присутствует в названии фильма, то функция возвращает этот год как год выпуска\n",
    "* если ни один из номеров года списка years не встретился в названии фильма, то возвращается 1900 год\n",
    "\n",
    "3) Запишите год выпуска фильма по алгоритму пункта 2 в новый столбец ‘year’\n",
    "\n",
    "4) Посчитайте средний рейтинг всех фильмов для каждого значения столбца ‘year’ и отсортируйте результат по убыванию рейтинга"
   ]
  },
  {
   "cell_type": "code",
   "execution_count": 3,
   "metadata": {},
   "outputs": [
    {
     "data": {
      "text/html": [
       "<div>\n",
       "<style scoped>\n",
       "    .dataframe tbody tr th:only-of-type {\n",
       "        vertical-align: middle;\n",
       "    }\n",
       "\n",
       "    .dataframe tbody tr th {\n",
       "        vertical-align: top;\n",
       "    }\n",
       "\n",
       "    .dataframe thead th {\n",
       "        text-align: right;\n",
       "    }\n",
       "</style>\n",
       "<table border=\"1\" class=\"dataframe\">\n",
       "  <thead>\n",
       "    <tr style=\"text-align: right;\">\n",
       "      <th></th>\n",
       "      <th>userId</th>\n",
       "      <th>movieId</th>\n",
       "      <th>rating</th>\n",
       "      <th>timestamp</th>\n",
       "    </tr>\n",
       "  </thead>\n",
       "  <tbody>\n",
       "    <tr>\n",
       "      <td>0</td>\n",
       "      <td>1</td>\n",
       "      <td>296</td>\n",
       "      <td>5.0</td>\n",
       "      <td>1147880044</td>\n",
       "    </tr>\n",
       "    <tr>\n",
       "      <td>1</td>\n",
       "      <td>1</td>\n",
       "      <td>306</td>\n",
       "      <td>3.5</td>\n",
       "      <td>1147868817</td>\n",
       "    </tr>\n",
       "    <tr>\n",
       "      <td>2</td>\n",
       "      <td>1</td>\n",
       "      <td>307</td>\n",
       "      <td>5.0</td>\n",
       "      <td>1147868828</td>\n",
       "    </tr>\n",
       "    <tr>\n",
       "      <td>3</td>\n",
       "      <td>1</td>\n",
       "      <td>665</td>\n",
       "      <td>5.0</td>\n",
       "      <td>1147878820</td>\n",
       "    </tr>\n",
       "    <tr>\n",
       "      <td>4</td>\n",
       "      <td>1</td>\n",
       "      <td>899</td>\n",
       "      <td>3.5</td>\n",
       "      <td>1147868510</td>\n",
       "    </tr>\n",
       "  </tbody>\n",
       "</table>\n",
       "</div>"
      ],
      "text/plain": [
       "   userId  movieId  rating   timestamp\n",
       "0       1      296     5.0  1147880044\n",
       "1       1      306     3.5  1147868817\n",
       "2       1      307     5.0  1147868828\n",
       "3       1      665     5.0  1147878820\n",
       "4       1      899     3.5  1147868510"
      ]
     },
     "execution_count": 3,
     "metadata": {},
     "output_type": "execute_result"
    }
   ],
   "source": [
    "ratings3 = pd.read_csv('../10-Pandas/ml-25m/ratings.csv')\n",
    "ratings3.head()\n",
    "\n",
    "#ratings3 = pd.read_csv('ml-25m/ratings.csv')\n",
    "#ratings3.head()"
   ]
  },
  {
   "cell_type": "code",
   "execution_count": 4,
   "metadata": {},
   "outputs": [
    {
     "name": "stdout",
     "output_type": "stream",
     "text": [
      "['1950', '1951', '1952', '1953', '1954', '1955', '1956', '1957', '1958', '1959', '1960', '1961', '1962', '1963', '1964', '1965', '1966', '1967', '1968', '1969', '1970', '1971', '1972', '1973', '1974', '1975', '1976', '1977', '1978', '1979', '1980', '1981', '1982', '1983', '1984', '1985', '1986', '1987', '1988', '1989', '1990', '1991', '1992', '1993', '1994', '1995', '1996', '1997', '1998', '1999', '2000', '2001', '2002', '2003', '2004', '2005', '2006', '2007', '2008', '2009', '2010']\n"
     ]
    }
   ],
   "source": [
    "years = list(map(str,range(1950,2011,1)))\n",
    "\n",
    "movies = pd.read_csv('../10-Pandas/ml-25m/movies.csv')\n",
    "#movies = pd.read_csv('ml-25m/movies.csv')\n",
    "movies.head()\n",
    "print(years)\n"
   ]
  },
  {
   "cell_type": "code",
   "execution_count": 5,
   "metadata": {},
   "outputs": [
    {
     "name": "stdout",
     "output_type": "stream",
     "text": [
      "1990\n",
      "2010\n"
     ]
    }
   ],
   "source": [
    "# алгритм не учел, когда в названии фильма год всречатся два раза.\n",
    "# так как год, всегда идет в конце названия в скобках, то из полученного списка, беру последнее значение\n",
    "def production_year(param):\n",
    "    yr = list(item for item in years if item in param)[-1:]\n",
    "    return '1990' if not yr else ''.join(yr)\n",
    "\n",
    "print(production_year('2015'))\n",
    "print(production_year('2010'))"
   ]
  },
  {
   "cell_type": "code",
   "execution_count": 6,
   "metadata": {},
   "outputs": [
    {
     "name": "stdout",
     "output_type": "stream",
     "text": [
      "['1995' '1994' '1996' '1976' '1992' '1988' '1967' '1993' '1964' '1977'\n",
      " '1965' '1982' '1990' '1991' '1989' '1969' '1981' '1973' '1970' '1960'\n",
      " '1955' '1959' '1968' '1980' '1975' '1986' '1950' '1987' '1997' '1974'\n",
      " '1956' '1958' '1972' '1998' '1952' '1951' '1957' '1961' '1954' '1963'\n",
      " '1953' '2001' '1985' '1979' '1971' '1978' '1966' '1962' '1983' '1984'\n",
      " '1999' '2000' '2010' '2002' '2003' '2004' '2005' '2006' '2009' '2007'\n",
      " '2008']\n"
     ]
    }
   ],
   "source": [
    "movies['years']=movies['title'].apply(production_year)\n",
    "print(movies['years'].unique())"
   ]
  },
  {
   "cell_type": "code",
   "execution_count": 9,
   "metadata": {},
   "outputs": [
    {
     "name": "stdout",
     "output_type": "stream",
     "text": [
      "  years  rating\n",
      "0  1994     5.0\n",
      "1  1994     5.0\n",
      "2  1994     4.0\n",
      "3  1994     4.0\n",
      "4  1994     4.0\n",
      "         rating\n",
      "years          \n",
      "1957   3.999492\n",
      "1954   3.985693\n",
      "1972   3.956477\n",
      "1962   3.929445\n",
      "1974   3.899434\n",
      "1952   3.895315\n",
      "1975   3.880360\n",
      "1964   3.879177\n",
      "1951   3.876258\n",
      "1950   3.847763\n",
      "1966   3.835132\n",
      "1977   3.829895\n",
      "1960   3.819289\n",
      "1959   3.819035\n",
      "1967   3.815505\n"
     ]
    }
   ],
   "source": [
    "rtg = ratings3.merge(movies[['movieId','years']], how='inner', on='movieId' )[['years','rating']]\n",
    "print(rtg.head())\n",
    "rtg2 = rtg.groupby('years').agg({'rating':np.mean}).sort_values(by='rating', ascending=False)\n",
    "print(rtg2.head(15))"
   ]
  }
 ],
 "metadata": {
  "kernelspec": {
   "display_name": "Python 3",
   "language": "python",
   "name": "python3"
  },
  "language_info": {
   "codemirror_mode": {
    "name": "ipython",
    "version": 3
   },
   "file_extension": ".py",
   "mimetype": "text/x-python",
   "name": "python",
   "nbconvert_exporter": "python",
   "pygments_lexer": "ipython3",
   "version": "3.7.6"
  }
 },
 "nbformat": 4,
 "nbformat_minor": 2
}
